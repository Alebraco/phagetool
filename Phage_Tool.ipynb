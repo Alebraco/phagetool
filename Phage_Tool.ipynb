{
 "cells": [
  {
   "cell_type": "code",
   "execution_count": 1,
   "metadata": {
    "colab": {
     "base_uri": "https://localhost:8080/"
    },
    "id": "KcRx1XasDSAc",
    "outputId": "f4275bea-0caf-4279-c8e9-8c2c9a8e9d40",
    "scrolled": true
   },
   "outputs": [
    {
     "name": "stdout",
     "output_type": "stream",
     "text": [
      "Requirement already satisfied: bio in c:\\users\\aleke\\anaconda3\\lib\\site-packages (1.6.0)\n",
      "Requirement already satisfied: biopython>=1.80 in c:\\users\\aleke\\anaconda3\\lib\\site-packages (from bio) (1.81)\n",
      "Requirement already satisfied: requests in c:\\users\\aleke\\anaconda3\\lib\\site-packages (from bio) (2.31.0)\n",
      "Requirement already satisfied: tqdm in c:\\users\\aleke\\anaconda3\\lib\\site-packages (from bio) (4.65.0)\n",
      "Requirement already satisfied: mygene in c:\\users\\aleke\\anaconda3\\lib\\site-packages (from bio) (3.2.2)\n",
      "Requirement already satisfied: pandas in c:\\users\\aleke\\anaconda3\\lib\\site-packages (from bio) (2.0.3)\n",
      "Requirement already satisfied: pooch in c:\\users\\aleke\\anaconda3\\lib\\site-packages (from bio) (1.8.0)\n",
      "Requirement already satisfied: gprofiler-official in c:\\users\\aleke\\anaconda3\\lib\\site-packages (from bio) (1.0.0)\n",
      "Requirement already satisfied: numpy in c:\\users\\aleke\\anaconda3\\lib\\site-packages (from biopython>=1.80->bio) (1.24.3)\n",
      "Requirement already satisfied: biothings-client>=0.2.6 in c:\\users\\aleke\\anaconda3\\lib\\site-packages (from mygene->bio) (0.3.1)\n",
      "Requirement already satisfied: python-dateutil>=2.8.2 in c:\\users\\aleke\\anaconda3\\lib\\site-packages (from pandas->bio) (2.8.2)\n",
      "Requirement already satisfied: pytz>=2020.1 in c:\\users\\aleke\\anaconda3\\lib\\site-packages (from pandas->bio) (2023.3.post1)\n",
      "Requirement already satisfied: tzdata>=2022.1 in c:\\users\\aleke\\anaconda3\\lib\\site-packages (from pandas->bio) (2023.3)\n",
      "Requirement already satisfied: platformdirs>=2.5.0 in c:\\users\\aleke\\anaconda3\\lib\\site-packages (from pooch->bio) (3.10.0)\n",
      "Requirement already satisfied: packaging>=20.0 in c:\\users\\aleke\\anaconda3\\lib\\site-packages (from pooch->bio) (23.1)\n",
      "Requirement already satisfied: charset-normalizer<4,>=2 in c:\\users\\aleke\\anaconda3\\lib\\site-packages (from requests->bio) (2.0.4)\n",
      "Requirement already satisfied: idna<4,>=2.5 in c:\\users\\aleke\\anaconda3\\lib\\site-packages (from requests->bio) (3.4)\n",
      "Requirement already satisfied: urllib3<3,>=1.21.1 in c:\\users\\aleke\\anaconda3\\lib\\site-packages (from requests->bio) (1.26.16)\n",
      "Requirement already satisfied: certifi>=2017.4.17 in c:\\users\\aleke\\anaconda3\\lib\\site-packages (from requests->bio) (2023.11.17)\n",
      "Requirement already satisfied: colorama in c:\\users\\aleke\\anaconda3\\lib\\site-packages (from tqdm->bio) (0.4.6)\n",
      "Requirement already satisfied: six>=1.5 in c:\\users\\aleke\\anaconda3\\lib\\site-packages (from python-dateutil>=2.8.2->pandas->bio) (1.16.0)\n"
     ]
    }
   ],
   "source": [
    "!pip install bio\n",
    "from Bio import Entrez,SeqIO\n",
    "from Bio.SeqFeature import SeqFeature, FeatureLocation\n",
    "import pandas as pd\n",
    "import numpy as np\n",
    "import time"
   ]
  },
  {
   "cell_type": "code",
   "execution_count": 2,
   "metadata": {
    "id": "E17T_HHIG6Ow"
   },
   "outputs": [],
   "source": [
    "Entrez.email = 'alekey039@hotmail.com'"
   ]
  },
  {
   "cell_type": "code",
   "execution_count": 3,
   "metadata": {
    "id": "dGHW8bUyYUSh"
   },
   "outputs": [],
   "source": [
    "def retrieve_ids(max, db, query):\n",
    "  ids = []\n",
    "  start = 0\n",
    "  sleep_time = 1\n",
    "\n",
    "  while(True):\n",
    "    try:\n",
    "      handle = Entrez.esearch(db = db, retmax = max, retstart = start, term = query)\n",
    "      rec = Entrez.read(handle)\n",
    "      handle.close()\n",
    "      sleep_time = 1\n",
    "\n",
    "    except Exception as error:\n",
    "      print('Search failed, trying again in', sleep_time,'seconds:', error)\n",
    "      time.sleep(sleep_time)\n",
    "      sleep_time *= 2\n",
    "      continue\n",
    "\n",
    "    if len(rec['IdList']) == 0:\n",
    "      break\n",
    "\n",
    "    start += max\n",
    "    ids += rec['IdList']\n",
    "  return ids\n"
   ]
  },
  {
   "cell_type": "code",
   "execution_count": 4,
   "metadata": {
    "id": "-tsFq3ngdtEk"
   },
   "outputs": [],
   "source": [
    "#Can be a separate function\n",
    "\n",
    "max = 40\n",
    "strain = 'Escherichia coli K-12'\n",
    "db = 'ipg'\n",
    "query = str(strain)+'[ORGN] AND receptor[All fields]'\n",
    "#Execute the function with these parameters\n",
    "\n",
    "ids = retrieve_ids(max, db, query)"
   ]
  },
  {
   "cell_type": "code",
   "execution_count": 5,
   "metadata": {
    "id": "Kr6esZxF3bXy"
   },
   "outputs": [],
   "source": [
    "def retrieve_summary(ids, max):\n",
    "  titles = []\n",
    "  acc = []\n",
    "  start = 0\n",
    "  sleep_time = 1\n",
    "\n",
    "  while start < len(ids):\n",
    "    idsfrag = ids[start:start + max]\n",
    "    retrieval = False\n",
    "\n",
    "    while not retrieval:\n",
    "      try:\n",
    "        handle = Entrez.esummary(db='ipg', id = idsfrag, retmax = max)\n",
    "        ipgsum = Entrez.read(handle, validate = False)\n",
    "        handle.close()\n",
    "        retrieval = True\n",
    "        sleep_time = 1\n",
    "\n",
    "      except Exception as error:\n",
    "        print('Error retrieving data, trying again in', sleep_time,'seconds:', error)\n",
    "        time.sleep(sleep_time)\n",
    "        sleep_time *= 2\n",
    "\n",
    "    for entry in ipgsum['DocumentSummarySet']['DocumentSummary']:\n",
    "      titles.append(entry['Title'])\n",
    "      acc.append(entry['Accession'])\n",
    "\n",
    "\n",
    "    start += max\n",
    "  return titles, acc"
   ]
  },
  {
   "cell_type": "code",
   "execution_count": 6,
   "metadata": {
    "id": "bLzcbdgl-O8e"
   },
   "outputs": [],
   "source": [
    "max = 40\n",
    "dbs = 'ipg'\n",
    "#Execute the function with these parameters\n",
    "titles, acc = retrieve_summary(ids, max)"
   ]
  },
  {
   "cell_type": "code",
   "execution_count": 7,
   "metadata": {
    "id": "r7UnXhynbSqd"
   },
   "outputs": [],
   "source": [
    "#Retrieving AA sequences\n",
    "\n",
    "def fetch_sequences(acc):\n",
    "    aaseqs = []\n",
    "    max_attempts = 5\n",
    "    \n",
    "    for a in acc:\n",
    "        attempt = 0\n",
    "        sequence_fetched = False\n",
    "\n",
    "        while attempt < max_attempts:\n",
    "            try:\n",
    "                handle = Entrez.efetch(db='protein', id=a, rettype='gb', retmode='text')\n",
    "                output = list(SeqIO.parse(handle, 'gb'))\n",
    "                handle.close()\n",
    "\n",
    "                if output:\n",
    "                    for record in output:\n",
    "                        aaseqs.append(str(record.seq))\n",
    "                    sequence_fetched = True\n",
    "                    break  \n",
    "                else:\n",
    "                    print('No sequence found for accession number', a)\n",
    "                    aaseqs.append(\"No Sequence Found\") \n",
    "                    break\n",
    "\n",
    "            except Exception as error:\n",
    "                print('Error fetching data, trying again in', 2 ** retries, 'seconds:', error)\n",
    "                time.sleep(2 ** retries) \n",
    "                retries += 1\n",
    "\n",
    "        if not sequence_fetched and retries == max_retries:\n",
    "            print(f\"Failed to retrieve data for accession number {a}.\")\n",
    "            aaseqs.append(\"No Sequence\")\n",
    "\n",
    "    return aaseqs"
   ]
  },
  {
   "cell_type": "code",
   "execution_count": 8,
   "metadata": {
    "id": "26-cxc1skOnC"
   },
   "outputs": [],
   "source": [
    "#Execute the function above\n",
    "aaseqs = fetch_sequences(acc)"
   ]
  },
  {
   "cell_type": "code",
   "execution_count": 9,
   "metadata": {
    "id": "ZSjcpJZ1gaeB"
   },
   "outputs": [],
   "source": [
    "#Naming unnamed proteins\n",
    "def fix_unnamed(titles):\n",
    "  c = 1\n",
    "  for i in range(len(titles)):\n",
    "    if titles[i] == '':\n",
    "      titles[i] = 'unnamed protein v'+str(c)\n",
    "      c += 1\n",
    "  return titles"
   ]
  },
  {
   "cell_type": "code",
   "execution_count": 10,
   "metadata": {
    "id": "0fnDVt6qs0GS"
   },
   "outputs": [],
   "source": [
    "titles = fix_unnamed(titles)"
   ]
  },
  {
   "cell_type": "code",
   "execution_count": 11,
   "metadata": {
    "id": "qDX9VYWA7veb"
   },
   "outputs": [],
   "source": [
    "#Version 1\n",
    "#Create a unique title list\n",
    "#Aminoacid sequence not considered\n",
    "#Comparison will be by protein name\n",
    "\n",
    "def protdict (titles):\n",
    "  titles_unique = []\n",
    "  for title in titles:\n",
    "    if title not in titles_unique:\n",
    "      titles_unique.append(title)\n",
    "\n",
    "  return titles_unique"
   ]
  },
  {
   "cell_type": "code",
   "execution_count": 12,
   "metadata": {
    "id": "UKbvpQ0U1CKI"
   },
   "outputs": [],
   "source": [
    "#Version 2 dictionary\n",
    "#Create an alternative list that accounts for same protein names\n",
    "#Unique keys, unique values\n",
    "#Comparison will be by AA seq\n",
    "\n",
    "def protdictv2 (titles, aaseqs):\n",
    "  titles_version = []\n",
    "  key_counter = {}\n",
    "  protein_dictionary_v2 = {}\n",
    "\n",
    "  for key in titles:\n",
    "    if key in key_counter.keys():\n",
    "      key_counter[key] += 1\n",
    "      key_title = str(key) + ' v' + str(key_counter[key])\n",
    "    else:\n",
    "      key_counter[key] = 1\n",
    "      key_title = key\n",
    "    titles_version.append(key_title)\n",
    "\n",
    "  for key, value in zip(titles_version, aaseqs):\n",
    "    protein_dictionary_v2[key] = value\n",
    "\n",
    "  return protein_dictionary_v2\n"
   ]
  },
  {
   "cell_type": "code",
   "execution_count": 13,
   "metadata": {
    "id": "fWu2dWR8wk4t"
   },
   "outputs": [],
   "source": [
    "titles_unique = protdict(titles)\n",
    "protein_dictionary_v2 = protdictv2(titles, aaseqs)"
   ]
  },
  {
   "cell_type": "code",
   "execution_count": 14,
   "metadata": {
    "colab": {
     "base_uri": "https://localhost:8080/",
     "height": 411
    },
    "id": "5-uL9dFnBaal",
    "outputId": "77120896-9416-46a9-f082-6a9a71c66e88"
   },
   "outputs": [
    {
     "data": {
      "text/html": [
       "<div>\n",
       "<style scoped>\n",
       "    .dataframe tbody tr th:only-of-type {\n",
       "        vertical-align: middle;\n",
       "    }\n",
       "\n",
       "    .dataframe tbody tr th {\n",
       "        vertical-align: top;\n",
       "    }\n",
       "\n",
       "    .dataframe thead th {\n",
       "        text-align: right;\n",
       "    }\n",
       "</style>\n",
       "<table border=\"1\" class=\"dataframe\">\n",
       "  <thead>\n",
       "    <tr style=\"text-align: right;\">\n",
       "      <th></th>\n",
       "      <th>Protein Name</th>\n",
       "      <th>Escherichia coli K-12</th>\n",
       "    </tr>\n",
       "  </thead>\n",
       "  <tbody>\n",
       "    <tr>\n",
       "      <th>0</th>\n",
       "      <td>methyl-accepting chemotaxis protein IV</td>\n",
       "      <td>True</td>\n",
       "    </tr>\n",
       "    <tr>\n",
       "      <th>1</th>\n",
       "      <td>TRAP transporter substrate-binding protein</td>\n",
       "      <td>True</td>\n",
       "    </tr>\n",
       "    <tr>\n",
       "      <th>2</th>\n",
       "      <td>fimbrial adhesin EcpD</td>\n",
       "      <td>True</td>\n",
       "    </tr>\n",
       "    <tr>\n",
       "      <th>3</th>\n",
       "      <td>cyclic di-3',5'-guanylate-activated glycosyltr...</td>\n",
       "      <td>True</td>\n",
       "    </tr>\n",
       "    <tr>\n",
       "      <th>4</th>\n",
       "      <td>bacteriophage adsorption protein NfrA</td>\n",
       "      <td>True</td>\n",
       "    </tr>\n",
       "    <tr>\n",
       "      <th>...</th>\n",
       "      <td>...</td>\n",
       "      <td>...</td>\n",
       "    </tr>\n",
       "    <tr>\n",
       "      <th>74</th>\n",
       "      <td>ligand-gated channel protein</td>\n",
       "      <td>True</td>\n",
       "    </tr>\n",
       "    <tr>\n",
       "      <th>75</th>\n",
       "      <td>tonB-dependent receptor yncD</td>\n",
       "      <td>True</td>\n",
       "    </tr>\n",
       "    <tr>\n",
       "      <th>76</th>\n",
       "      <td>ferrienterobactin receptor precursor</td>\n",
       "      <td>True</td>\n",
       "    </tr>\n",
       "    <tr>\n",
       "      <th>77</th>\n",
       "      <td>phage lambda receptor protein</td>\n",
       "      <td>True</td>\n",
       "    </tr>\n",
       "    <tr>\n",
       "      <th>78</th>\n",
       "      <td>bacteriophage N4 receptor, outer membrane subunit</td>\n",
       "      <td>True</td>\n",
       "    </tr>\n",
       "  </tbody>\n",
       "</table>\n",
       "<p>79 rows × 2 columns</p>\n",
       "</div>"
      ],
      "text/plain": [
       "                                         Protein Name  Escherichia coli K-12\n",
       "0              methyl-accepting chemotaxis protein IV                   True\n",
       "1          TRAP transporter substrate-binding protein                   True\n",
       "2                               fimbrial adhesin EcpD                   True\n",
       "3   cyclic di-3',5'-guanylate-activated glycosyltr...                   True\n",
       "4               bacteriophage adsorption protein NfrA                   True\n",
       "..                                                ...                    ...\n",
       "74                       ligand-gated channel protein                   True\n",
       "75                       tonB-dependent receptor yncD                   True\n",
       "76               ferrienterobactin receptor precursor                   True\n",
       "77                      phage lambda receptor protein                   True\n",
       "78  bacteriophage N4 receptor, outer membrane subunit                   True\n",
       "\n",
       "[79 rows x 2 columns]"
      ]
     },
     "execution_count": 14,
     "metadata": {},
     "output_type": "execute_result"
    }
   ],
   "source": [
    "#Creating DataFrame of Version 1 dictionary\n",
    "\n",
    "df = pd.DataFrame(titles_unique, columns=['Protein Name'])\n",
    "df[strain] = df['Protein Name'].isin(titles)\n",
    "\n",
    "df"
   ]
  },
  {
   "cell_type": "code",
   "execution_count": 15,
   "metadata": {
    "colab": {
     "base_uri": "https://localhost:8080/",
     "height": 411
    },
    "id": "UkHE2Bpi4l5o",
    "outputId": "35c5d2ee-32b1-4e97-ca99-1f8424c7d7c9"
   },
   "outputs": [
    {
     "data": {
      "text/html": [
       "<div>\n",
       "<style scoped>\n",
       "    .dataframe tbody tr th:only-of-type {\n",
       "        vertical-align: middle;\n",
       "    }\n",
       "\n",
       "    .dataframe tbody tr th {\n",
       "        vertical-align: top;\n",
       "    }\n",
       "\n",
       "    .dataframe thead th {\n",
       "        text-align: right;\n",
       "    }\n",
       "</style>\n",
       "<table border=\"1\" class=\"dataframe\">\n",
       "  <thead>\n",
       "    <tr style=\"text-align: right;\">\n",
       "      <th></th>\n",
       "      <th>Protein Name</th>\n",
       "      <th>Escherichia coli K-12</th>\n",
       "    </tr>\n",
       "  </thead>\n",
       "  <tbody>\n",
       "    <tr>\n",
       "      <th>0</th>\n",
       "      <td>methyl-accepting chemotaxis protein IV</td>\n",
       "      <td>True</td>\n",
       "    </tr>\n",
       "    <tr>\n",
       "      <th>1</th>\n",
       "      <td>TRAP transporter substrate-binding protein</td>\n",
       "      <td>True</td>\n",
       "    </tr>\n",
       "    <tr>\n",
       "      <th>2</th>\n",
       "      <td>fimbrial adhesin EcpD</td>\n",
       "      <td>True</td>\n",
       "    </tr>\n",
       "    <tr>\n",
       "      <th>3</th>\n",
       "      <td>cyclic di-3',5'-guanylate-activated glycosyltr...</td>\n",
       "      <td>True</td>\n",
       "    </tr>\n",
       "    <tr>\n",
       "      <th>4</th>\n",
       "      <td>bacteriophage adsorption protein NfrA</td>\n",
       "      <td>True</td>\n",
       "    </tr>\n",
       "    <tr>\n",
       "      <th>...</th>\n",
       "      <td>...</td>\n",
       "      <td>...</td>\n",
       "    </tr>\n",
       "    <tr>\n",
       "      <th>366</th>\n",
       "      <td>TonB-dependent receptor plug domain-containing...</td>\n",
       "      <td>True</td>\n",
       "    </tr>\n",
       "    <tr>\n",
       "      <th>367</th>\n",
       "      <td>TonB-dependent receptor v23</td>\n",
       "      <td>True</td>\n",
       "    </tr>\n",
       "    <tr>\n",
       "      <th>368</th>\n",
       "      <td>ferrienterobactin receptor precursor</td>\n",
       "      <td>True</td>\n",
       "    </tr>\n",
       "    <tr>\n",
       "      <th>369</th>\n",
       "      <td>phage lambda receptor protein</td>\n",
       "      <td>True</td>\n",
       "    </tr>\n",
       "    <tr>\n",
       "      <th>370</th>\n",
       "      <td>bacteriophage N4 receptor, outer membrane subunit</td>\n",
       "      <td>True</td>\n",
       "    </tr>\n",
       "  </tbody>\n",
       "</table>\n",
       "<p>371 rows × 2 columns</p>\n",
       "</div>"
      ],
      "text/plain": [
       "                                          Protein Name  Escherichia coli K-12\n",
       "0               methyl-accepting chemotaxis protein IV                   True\n",
       "1           TRAP transporter substrate-binding protein                   True\n",
       "2                                fimbrial adhesin EcpD                   True\n",
       "3    cyclic di-3',5'-guanylate-activated glycosyltr...                   True\n",
       "4                bacteriophage adsorption protein NfrA                   True\n",
       "..                                                 ...                    ...\n",
       "366  TonB-dependent receptor plug domain-containing...                   True\n",
       "367                        TonB-dependent receptor v23                   True\n",
       "368               ferrienterobactin receptor precursor                   True\n",
       "369                      phage lambda receptor protein                   True\n",
       "370  bacteriophage N4 receptor, outer membrane subunit                   True\n",
       "\n",
       "[371 rows x 2 columns]"
      ]
     },
     "execution_count": 15,
     "metadata": {},
     "output_type": "execute_result"
    }
   ],
   "source": [
    "#Creating DataFrame of Version 2 dictionary\n",
    "#Compared dictionary values (accumulative) with AA sequence values (unique for each query)\n",
    "#Returns True/False\n",
    "\n",
    "df2 = pd.DataFrame(protein_dictionary_v2.items(), columns=['Protein Name','AAseq'])\n",
    "df2[strain] = df2['AAseq'].isin(aaseqs)\n",
    "df2.drop('AAseq', axis = 1, inplace = True)\n",
    "\n",
    "df2"
   ]
  },
  {
   "cell_type": "code",
   "execution_count": 16,
   "metadata": {
    "id": "-KvCeSVCHF-D"
   },
   "outputs": [],
   "source": [
    "#Download pathogenic bacteria list from Barlett et al.\n",
    "#Store it in a dataframe\n",
    "url = 'https://github.com/padpadpadpad/bartlett_et_al_2022_human_pathogens/raw/master/data/bacteria_human_pathogens.xlsx'\n",
    "bdf = pd.read_excel(url, sheet_name='Tab 6 Full List', usecols=\"F:G\", skiprows=0)"
   ]
  },
  {
   "cell_type": "code",
   "execution_count": 17,
   "metadata": {
    "id": "Na6U1gdW3zoT"
   },
   "outputs": [],
   "source": [
    "#Convert dataframe to list\n",
    "#Join the genus and species column\n",
    "\n",
    "pblist = list(bdf['genus'] + ' ' + bdf['species'])"
   ]
  },
  {
   "cell_type": "code",
   "execution_count": 18,
   "metadata": {
    "id": "hioDhNiS8gTv"
   },
   "outputs": [],
   "source": [
    "# Found random characters\n",
    "# Used .replace to remove them\n",
    "\n",
    "clean_pathogen_list = [species.replace('¬†','') for species in pblist]"
   ]
  },
  {
   "cell_type": "code",
   "execution_count": 19,
   "metadata": {
    "id": "gTdQliQS7SUl"
   },
   "outputs": [],
   "source": [
    "max = 100\n",
    "db = 'nucleotide'\n",
    "query = 'Viruses[ORGN] AND phage[All fields] AND srcdb_refseq[PROP] \\\n",
    "NOT wgs[PROP] NOT cellular organisms[ORGN] NOT AC_000001:AC_999999[PACC]'\n",
    "\n",
    "#Execute the function with these parameters\n",
    "phageids = retrieve_ids(max, db, query)"
   ]
  },
  {
   "cell_type": "code",
   "execution_count": 20,
   "metadata": {
    "id": "_tj8U8EAD41s"
   },
   "outputs": [],
   "source": [
    "#Input: IDs of phages\n",
    "#Output: List of bacterial hosts\n",
    "#seq_start and seq_stop parameters retrieve the first feature only (source)\n",
    "#In the source feature, there is information about the host\n",
    "\n",
    "def phageid_to_host(phageids):\n",
    "  phageinfo = []\n",
    "  sleep_time = 1\n",
    "\n",
    "  for id in phageids:\n",
    "    phage_dict = {}\n",
    "    try:\n",
    "      handle = Entrez.efetch(db=\"nucleotide\", id=id, rettype=\"gb\",\n",
    "                            retmode=\"text\", seq_start = 1, seq_stop = 1)\n",
    "      source = SeqIO.read(handle, 'gb')\n",
    "      handle.close()\n",
    "\n",
    "      features = source.features[0]\n",
    "      qual = features.qualifiers\n",
    "\n",
    "      strain = qual.get('host', qual.get('lab_host', None))\n",
    "\n",
    "      if strain != None:\n",
    "        strain = strain[0]\n",
    "        phage_dict['phage'] = qual['organism'][0]\n",
    "        phage_dict['id'] = id\n",
    "        phage_dict['strain'] = strain\n",
    "\n",
    "        split = strain.split(\" \", 2)\n",
    "\n",
    "        if len(split) > 1 and (\"sp.\" in split[1] or \"spp.\" in split[1]):\n",
    "          species = split[0]\n",
    "        elif len(split) > 1:\n",
    "          species = split[0] + \" \" + split[1]\n",
    "        else:\n",
    "          species = split[0]\n",
    "        phage_dict['host'] = species\n",
    "\n",
    "        phageinfo.append(phage_dict)\n",
    "\n",
    "      sleep_time = 1\n",
    "\n",
    "    except Exception as error:\n",
    "      print('Error fetching data, trying again in', sleep_time,'seconds:', error)\n",
    "      time.sleep(sleep_time)\n",
    "      sleep_time *= 2\n",
    "      continue\n",
    "\n",
    "  return phageinfo"
   ]
  },
  {
   "cell_type": "code",
   "execution_count": 21,
   "metadata": {
    "id": "Wx0zfq12KbTW"
   },
   "outputs": [],
   "source": [
    "#phageinfo = phageid_to_host(phageids)"
   ]
  },
  {
   "cell_type": "code",
   "execution_count": 22,
   "metadata": {
    "id": "h5K8Q1ALXA5m"
   },
   "outputs": [],
   "source": [
    "# def select_hosts(phinfo, patlist):\n",
    "#   pathost = []\n",
    "#   patstring = ' '.join(patlist)\n",
    "\n",
    "#   for phage in phinfo:\n",
    "#     if phage['host'] in patstring:\n",
    "#       pathost.append(phage)\n",
    "\n",
    "#   return pathost"
   ]
  },
  {
   "cell_type": "code",
   "execution_count": 23,
   "metadata": {
    "id": "tKNuq9PBYZ8z"
   },
   "outputs": [],
   "source": [
    "#Create list of dictionaries for phages with pathogen hosts\n",
    "# pathost = select_hosts(phageinfo, clean_pathogen_list)"
   ]
  },
  {
   "cell_type": "code",
   "execution_count": 24,
   "metadata": {
    "id": "mCJjng7HSI0l"
   },
   "outputs": [],
   "source": [
    "#List of unique pathogen hosts\n",
    "\n",
    "# uniquepat = []\n",
    "# for phage in pathost:\n",
    "#   if phage['host'] not in uniquepat and phage['host'] not 'bacterium':\n",
    "#     uniquepat.append(phage['host'])"
   ]
  },
  {
   "cell_type": "code",
   "execution_count": 25,
   "metadata": {},
   "outputs": [
    {
     "name": "stdout",
     "output_type": "stream",
     "text": [
      "['Aeromonas hydrophila', 'Aeromonas veronii', 'Vibrio parahaemolyticus', 'Escherichia coli', 'Escherichia', 'Yersinia pseudotuberculosis', 'Salmonella enterica', 'Vibrio cholerae', 'Gordonia terrae', 'Gordonia rubripertincta', 'Klebsiella pneumoniae', 'Listeria monocytogenes', 'Pseudomonas aeruginosa', 'Enterococcus faecalis', 'Bacillus pumilus', 'Bacillus cereus', 'Staphylococcus aureus', 'Bacillus thuringiensis', 'Staphylococcus xylosus', 'Serratia marcescens', 'Pseudomonas', 'Vibrio alginolyticus', 'Vibrio anguillarum', 'Proteus mirabilis', 'Pseudomonas fluorescens', 'Arthrobacter', 'Rhizobium', 'Bifidobacterium dentium', 'Curtobacterium', 'Rothia dentocariosa', 'Microbacterium paraoxydans', 'Mycobacterium smegmatis', 'Rhodococcus erythropolis', 'Streptomyces', 'Providencia stuartii', 'Stenotrophomonas maltophilia', 'Salmonella', 'Salmonella enteritidis', 'Bacillus anthracis', 'Shigella boydii', 'Bacillus subtilis', 'Sphingomonas', 'Hafnia paralvei', 'Pseudomonas putida', 'Klebsiella', 'Kosakonia cowanii', 'Pantoea dispersa', 'Enterobacter cloacae', 'Enterococcus faecium', 'Aeromonas', 'Shigella flexneri', 'Cronobacter', 'Clostridium perfringens', 'Burkholderia gladioli', 'Burkholderia cenocepacia', 'Cronobacter sakazakii', 'Klebsiella aerogenes', 'Ochrobactrum', 'Ochrobactrum intermedium', 'Ochrobactrum anthropi', 'Streptococcus pneumoniae', 'Shewanella', 'Aeromonas salmonicida', 'Yersinia enterocolitica', 'Burkholderia pseudomallei', 'Burkholderia glumae', 'Yersinia pestis', 'Agrobacterium tumefaciens', 'Staphylococcus epidermidis', 'Alcaligenes faecalis', 'Enterobacter hormaechei', 'Microbacterium', 'Staphylococcus', 'Bacillus', 'Flavobacterium', 'Vibrio harveyi', 'Burkholderia thailandensis', 'Enterococcus', 'Bacteroides thetaiotaomicron', 'Acinetobacter pittii', 'Streptomyces griseus', 'Staphylococcus pseudintermedius', 'Leuconostoc pseudomesenteroides', 'Serratia', 'Citrobacter rodentium', 'Citrobacter amalonaticus', 'Mycobacterium', 'Mycobacterium abscessus', 'Achromobacter', 'Providencia rettgeri', 'Shigella dysenteriae', 'Acinetobacter baumannii', 'Pantoea agglomerans', 'Photobacterium damselae', 'Enterobacter aerogenes', 'Campylobacter jejuni', 'Campylobacter', 'Citrobacter freundii', 'Lactobacillus delbrueckii', 'Burkholderia cepacia', 'Rhodococcus globerulus', 'Acinetobacter johnsonii', 'Clostridioides difficile', 'Actinomyces naeslundii', 'Burkholderia ambifaria', 'Pasteurella multocida', 'Mannheimia haemolytica', 'Lactobacillus plantarum', 'Bordetella bronchiseptica', 'Salmonella typhimurium', 'Haemophilus influenzae', 'Chlamydophila pneumoniae', 'Lactococcus', 'Proteus penneri', 'Shigella sonnei', 'Fusobacterium nucleatum', 'Achromobacter xylosoxidans', 'Achromobacter animicus', 'Enterobacter asburiae', 'Corynebacterium xerosis', 'Raoultella ornithinolytica', 'Edwardsiella tarda', 'Raoultella', 'Cronobacter turicensis', 'Vibrio', 'Sphingomonas paucimobilis', 'Eggerthella lenta', 'Shigella', 'Brevibacterium iodinum', 'Leclercia adecarboxylata', 'Cronobacter malonaticus', 'Lactococcus garvieae', 'Leuconostoc mesenteroides', 'Lactobacillus rhamnosus', 'Klebsiella oxytoca', 'Serratia rubidaea', 'Providencia', 'Morganella', 'Weissella', 'Enterobacter', 'Propionibacterium acnes', 'Stenotrophomonas', 'Enterobacter cancerogenus', 'Tsukamurella inchonensis', 'Vibrio vulnificus', 'Paracoccus', 'Acinetobacter', 'Delftia tsuruhatensis', 'Brucella inopinata', 'Clostridium tetani', 'Tsukamurella paurometabola', 'Gordonia sputi', 'Erysipelothrix rhusiopathiae', 'Gordonia', 'Salmonella typhi', 'Lactobacillus gasseri', 'Citrobacter', 'Streptococcus mutans', 'Staphylococcus haemolyticus', 'Delftia', 'Streptococcus pyogenes', 'Staphylococcus hominis', 'Morganella morganii', 'Lelliottia', 'Rhodococcus equi', 'Psychrobacter', 'Staphylococcus saprophyticus', 'Erwinia', 'Paenibacillus glucanolyticus', 'Mycobacterium avium', 'Agrobacterium', 'Helicobacter pylori', 'Clostridium sporogenes', 'Staphylococcus capitis', 'Lactobacillus', 'Brucella melitensis', 'Brucella abortus', 'Streptococcus suis', 'Cutibacterium acnes', 'Listeria', 'Staphylococcus pasteuri', 'Streptococcus salivarius', 'Bacteroides fragilis', 'Rhodococcus rhodochrous', 'Nocardia brasiliensis', 'Delftia acidovorans', 'Aggregatibacter actinomycetemcomitans', 'Burkholderia pyrrocinia', 'Streptococcus oralis', 'Lactobacillus jensenii', 'Streptococcus gordonii', 'Streptococcus equi', 'Streptococcus dysgalactiae', 'Streptococcus mitis', 'Mycobacterium tuberculosis', 'Kluyvera cryocrescens', 'Clostridium botulinum', 'Parabacteroides distasonis', 'Ralstonia pickettii', 'Spiroplasma', 'Chlamydia psittaci']\n"
     ]
    }
   ],
   "source": [
    "file_path = 'uniquepat.txt'\n",
    "\n",
    "# Create an empty list to store the lines\n",
    "upat = []\n",
    "\n",
    "# Open the file and read each line\n",
    "with open(file_path, 'r') as file:\n",
    "    for line in file:\n",
    "        # Strip newline characters and add to the list\n",
    "        upat.append(line.strip())\n",
    "\n",
    "# Print the list to verify the contents\n",
    "print(upat)\n"
   ]
  },
  {
   "cell_type": "code",
   "execution_count": 26,
   "metadata": {
    "id": "uf-jdHX4hmJl"
   },
   "outputs": [],
   "source": [
    "def receptors(maxm,db,query):\n",
    "\n",
    "  ids = retrieve_ids(maxm,db,query)\n",
    "  titles, acc = retrieve_summary(ids,maxm)\n",
    "  aaseqs = fetch_sequences(acc)\n",
    "  titles = fix_unnamed(titles)\n",
    "\n",
    "  return titles, aaseqs\n"
   ]
  },
  {
   "cell_type": "code",
   "execution_count": null,
   "metadata": {
    "colab": {
     "base_uri": "https://localhost:8080/",
     "height": 424
    },
    "id": "DSYzc53ryA1L",
    "outputId": "6bc87a3c-f8fa-4714-a9d7-41523c5439ba"
   },
   "outputs": [
    {
     "name": "stdout",
     "output_type": "stream",
     "text": [
      "Aeromonas hydrophila\n",
      "1222 1222\n",
      "Aeromonas veronii\n",
      "1771 1771\n",
      "Vibrio parahaemolyticus\n",
      "10422 10422\n",
      "Escherichia coli\n"
     ]
    }
   ],
   "source": [
    "maxm = 200\n",
    "db = 'ipg'\n",
    "alltitles = []\n",
    "allseqs = []\n",
    "species = [] \n",
    "\n",
    "\n",
    "for pathogen in upat:\n",
    "    query = str(pathogen)+'[ORGN] AND receptor[All fields]'\n",
    "    print(pathogen)\n",
    "    titles, aaseqs = receptors(maxm,db,query)\n",
    "    alltitles += titles\n",
    "    allseqs += aaseqs\n",
    "    species.extend([str(pathogen)]*len(titles))\n",
    "    print(len(titles), len(aaseqs))\n",
    "    with open('output.txt', 'a') as file:  \n",
    "        file.write(f\"{pathogen}\\t{len(titles)}\\t{len(aaseqs)}\\n\")\n"
   ]
  },
  {
   "cell_type": "code",
   "execution_count": null,
   "metadata": {},
   "outputs": [],
   "source": [
    "with open('allseqs.txt', 'w') as file:\n",
    "    for seq in allseqs:\n",
    "        file.write(\"%s\\n\" % seq)\n",
    "\n",
    "from IPython.display import FileLink\n",
    "FileLink('allseqs.txt')"
   ]
  },
  {
   "cell_type": "code",
   "execution_count": null,
   "metadata": {},
   "outputs": [],
   "source": [
    "with open('alltitles.txt', 'w') as file:\n",
    "    for title in alltitles:\n",
    "        file.write(\"%s\\n\" % item)\n",
    "\n",
    "from IPython.display import FileLink\n",
    "FileLink('alltitles.txt')"
   ]
  },
  {
   "cell_type": "code",
   "execution_count": null,
   "metadata": {
    "id": "SYuqXdN2Aj2s"
   },
   "outputs": [],
   "source": [
    "titles_unique = protdict(alltitles)\n",
    "protein_dictionary_v2 = protdictv2(alltitles, allseqs)"
   ]
  },
  {
   "cell_type": "code",
   "execution_count": null,
   "metadata": {},
   "outputs": [],
   "source": []
  },
  {
   "cell_type": "code",
   "execution_count": null,
   "metadata": {},
   "outputs": [],
   "source": []
  },
  {
   "cell_type": "code",
   "execution_count": null,
   "metadata": {},
   "outputs": [],
   "source": []
  }
 ],
 "metadata": {
  "accelerator": "GPU",
  "colab": {
   "provenance": []
  },
  "kernelspec": {
   "display_name": "Python 3 (ipykernel)",
   "language": "python",
   "name": "python3"
  },
  "language_info": {
   "codemirror_mode": {
    "name": "ipython",
    "version": 3
   },
   "file_extension": ".py",
   "mimetype": "text/x-python",
   "name": "python",
   "nbconvert_exporter": "python",
   "pygments_lexer": "ipython3",
   "version": "3.11.5"
  }
 },
 "nbformat": 4,
 "nbformat_minor": 1
}
