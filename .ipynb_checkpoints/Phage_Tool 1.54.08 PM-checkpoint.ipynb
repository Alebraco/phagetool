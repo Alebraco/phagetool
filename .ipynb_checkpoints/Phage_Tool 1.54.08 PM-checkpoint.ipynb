{
 "cells": [
  {
   "cell_type": "code",
   "execution_count": 1,
   "metadata": {
    "colab": {
     "base_uri": "https://localhost:8080/"
    },
    "id": "KcRx1XasDSAc",
    "outputId": "f4275bea-0caf-4279-c8e9-8c2c9a8e9d40",
    "scrolled": true
   },
   "outputs": [
    {
     "name": "stdout",
     "output_type": "stream",
     "text": [
      "Requirement already satisfied: bio in /Users/alebraco/anaconda3/lib/python3.11/site-packages (1.5.9)\n",
      "Requirement already satisfied: biopython>=1.80 in /Users/alebraco/anaconda3/lib/python3.11/site-packages (from bio) (1.81)\n",
      "Requirement already satisfied: requests in /Users/alebraco/anaconda3/lib/python3.11/site-packages (from bio) (2.29.0)\n",
      "Requirement already satisfied: tqdm in /Users/alebraco/anaconda3/lib/python3.11/site-packages (from bio) (4.65.0)\n",
      "Requirement already satisfied: mygene in /Users/alebraco/anaconda3/lib/python3.11/site-packages (from bio) (3.2.2)\n",
      "Requirement already satisfied: pandas in /Users/alebraco/anaconda3/lib/python3.11/site-packages (from bio) (1.5.3)\n",
      "Requirement already satisfied: pooch in /Users/alebraco/anaconda3/lib/python3.11/site-packages (from bio) (1.4.0)\n",
      "Requirement already satisfied: gprofiler-official in /Users/alebraco/anaconda3/lib/python3.11/site-packages (from bio) (1.0.0)\n",
      "Requirement already satisfied: numpy in /Users/alebraco/anaconda3/lib/python3.11/site-packages (from biopython>=1.80->bio) (1.24.3)\n",
      "Requirement already satisfied: biothings-client>=0.2.6 in /Users/alebraco/anaconda3/lib/python3.11/site-packages (from mygene->bio) (0.3.0)\n",
      "Requirement already satisfied: python-dateutil>=2.8.1 in /Users/alebraco/anaconda3/lib/python3.11/site-packages (from pandas->bio) (2.8.2)\n",
      "Requirement already satisfied: pytz>=2020.1 in /Users/alebraco/anaconda3/lib/python3.11/site-packages (from pandas->bio) (2022.7)\n",
      "Requirement already satisfied: packaging in /Users/alebraco/anaconda3/lib/python3.11/site-packages (from pooch->bio) (23.0)\n",
      "Requirement already satisfied: appdirs in /Users/alebraco/anaconda3/lib/python3.11/site-packages (from pooch->bio) (1.4.4)\n",
      "Requirement already satisfied: charset-normalizer<4,>=2 in /Users/alebraco/anaconda3/lib/python3.11/site-packages (from requests->bio) (2.0.4)\n",
      "Requirement already satisfied: idna<4,>=2.5 in /Users/alebraco/anaconda3/lib/python3.11/site-packages (from requests->bio) (3.4)\n",
      "Requirement already satisfied: urllib3<1.27,>=1.21.1 in /Users/alebraco/anaconda3/lib/python3.11/site-packages (from requests->bio) (1.26.16)\n",
      "Requirement already satisfied: certifi>=2017.4.17 in /Users/alebraco/anaconda3/lib/python3.11/site-packages (from requests->bio) (2023.5.7)\n",
      "Requirement already satisfied: six>=1.5 in /Users/alebraco/anaconda3/lib/python3.11/site-packages (from python-dateutil>=2.8.1->pandas->bio) (1.16.0)\n"
     ]
    }
   ],
   "source": [
    "!pip install bio\n",
    "from Bio import Entrez,SeqIO\n",
    "from Bio.SeqFeature import SeqFeature, FeatureLocation\n",
    "import pandas as pd\n",
    "import numpy as np\n",
    "import time"
   ]
  },
  {
   "cell_type": "code",
   "execution_count": 2,
   "metadata": {
    "id": "E17T_HHIG6Ow"
   },
   "outputs": [],
   "source": [
    "Entrez.email = 'alekey039@hotmail.com'"
   ]
  },
  {
   "cell_type": "code",
   "execution_count": 3,
   "metadata": {
    "id": "dGHW8bUyYUSh"
   },
   "outputs": [],
   "source": [
    "def retrieve_ids(max, db, query):\n",
    "  ids = []\n",
    "  start = 0\n",
    "  sleep_time = 1\n",
    "\n",
    "  while(True):\n",
    "    try:\n",
    "      handle = Entrez.esearch(db = db, retmax = max, retstart = start, term = query)\n",
    "      rec = Entrez.read(handle)\n",
    "      handle.close()\n",
    "      sleep_time = 1\n",
    "\n",
    "    except Exception as error:\n",
    "      print('Search failed, trying again in', sleep_time,'seconds:', error)\n",
    "      time.sleep(sleep_time)\n",
    "      sleep_time *= 2\n",
    "      continue\n",
    "\n",
    "    if len(rec['IdList']) == 0:\n",
    "      break\n",
    "\n",
    "    start += max\n",
    "    ids += rec['IdList']\n",
    "  return ids\n"
   ]
  },
  {
   "cell_type": "code",
   "execution_count": 4,
   "metadata": {
    "id": "-tsFq3ngdtEk"
   },
   "outputs": [],
   "source": [
    "#Can be a separate function\n",
    "\n",
    "max = 40\n",
    "strain = 'Escherichia coli K-12'\n",
    "db = 'ipg'\n",
    "query = str(strain)+'[ORGN] AND receptor[All fields]'\n",
    "#Execute the function with these parameters\n",
    "\n",
    "ids = retrieve_ids(max, db, query)"
   ]
  },
  {
   "cell_type": "code",
   "execution_count": 12,
   "metadata": {
    "id": "Kr6esZxF3bXy"
   },
   "outputs": [],
   "source": [
    "def retrieve_summary(ids, max):\n",
    "  titles = []\n",
    "  acc = []\n",
    "  start = 0\n",
    "  sleep_time = 1\n",
    "\n",
    "  while start < len(ids):\n",
    "    idsfrag = ids[start:start + max]\n",
    "    retrieval = False\n",
    "\n",
    "    while not retrieval:\n",
    "      try:\n",
    "        handle = Entrez.esummary(db='ipg', id = idsfrag, retmax = max)\n",
    "        ipgsum = Entrez.read(handle, validate = False)\n",
    "        handle.close()\n",
    "        retrieval = True\n",
    "        sleep_time = 1\n",
    "\n",
    "      except Exception as error:\n",
    "        print('Error retrieving data, trying again in', sleep_time,'seconds:', error)\n",
    "        time.sleep(sleep_time)\n",
    "        sleep_time *= 2\n",
    "\n",
    "    for entry in ipgsum['DocumentSummarySet']['DocumentSummary']:\n",
    "        print(ipgsum['DocumentSummarySet']['DocumentSummary'])\n",
    "        titles.append(entry['Title'])\n",
    "        acc.append(entry['Accession'])\n",
    "\n",
    "\n",
    "    start += max\n",
    "  return titles, acc"
   ]
  },
  {
   "cell_type": "code",
   "execution_count": 13,
   "metadata": {
    "id": "bLzcbdgl-O8e"
   },
   "outputs": [
    {
     "ename": "TypeError",
     "evalue": "can only concatenate list (not \"str\") to list",
     "output_type": "error",
     "traceback": [
      "\u001b[0;31m---------------------------------------------------------------------------\u001b[0m",
      "\u001b[0;31mTypeError\u001b[0m                                 Traceback (most recent call last)",
      "Cell \u001b[0;32mIn[13], line 4\u001b[0m\n\u001b[1;32m      2\u001b[0m dbs \u001b[38;5;241m=\u001b[39m \u001b[38;5;124m'\u001b[39m\u001b[38;5;124mipg\u001b[39m\u001b[38;5;124m'\u001b[39m\n\u001b[1;32m      3\u001b[0m \u001b[38;5;66;03m#Execute the function with these parameters\u001b[39;00m\n\u001b[0;32m----> 4\u001b[0m titles, acc \u001b[38;5;241m=\u001b[39m retrieve_summary(ids, \u001b[38;5;28mmax\u001b[39m)\n",
      "Cell \u001b[0;32mIn[12], line 25\u001b[0m, in \u001b[0;36mretrieve_summary\u001b[0;34m(ids, max)\u001b[0m\n\u001b[1;32m     22\u001b[0m     sleep_time \u001b[38;5;241m*\u001b[39m\u001b[38;5;241m=\u001b[39m \u001b[38;5;241m2\u001b[39m\n\u001b[1;32m     24\u001b[0m \u001b[38;5;28;01mfor\u001b[39;00m entry \u001b[38;5;129;01min\u001b[39;00m ipgsum[\u001b[38;5;124m'\u001b[39m\u001b[38;5;124mDocumentSummarySet\u001b[39m\u001b[38;5;124m'\u001b[39m][\u001b[38;5;124m'\u001b[39m\u001b[38;5;124mDocumentSummary\u001b[39m\u001b[38;5;124m'\u001b[39m]:\n\u001b[0;32m---> 25\u001b[0m     \u001b[38;5;28mprint\u001b[39m(ipgsum[\u001b[38;5;124m'\u001b[39m\u001b[38;5;124mDocumentSummarySet\u001b[39m\u001b[38;5;124m'\u001b[39m][\u001b[38;5;124m'\u001b[39m\u001b[38;5;124mDocumentSummary\u001b[39m\u001b[38;5;124m'\u001b[39m]\u001b[38;5;241m+\u001b[39m\u001b[38;5;124m'\u001b[39m\u001b[38;5;130;01m\\n\u001b[39;00m\u001b[38;5;124m'\u001b[39m)\n\u001b[1;32m     26\u001b[0m     titles\u001b[38;5;241m.\u001b[39mappend(entry[\u001b[38;5;124m'\u001b[39m\u001b[38;5;124mTitle\u001b[39m\u001b[38;5;124m'\u001b[39m])\n\u001b[1;32m     27\u001b[0m     acc\u001b[38;5;241m.\u001b[39mappend(entry[\u001b[38;5;124m'\u001b[39m\u001b[38;5;124mAccession\u001b[39m\u001b[38;5;124m'\u001b[39m])\n",
      "\u001b[0;31mTypeError\u001b[0m: can only concatenate list (not \"str\") to list"
     ]
    }
   ],
   "source": [
    "max = 40\n",
    "dbs = 'ipg'\n",
    "#Execute the function with these parameters\n",
    "titles, acc = retrieve_summary(ids, max)"
   ]
  },
  {
   "cell_type": "code",
   "execution_count": 14,
   "metadata": {
    "id": "r7UnXhynbSqd"
   },
   "outputs": [],
   "source": [
    "#Retrieving AA sequences\n",
    "\n",
    "def fetch_sequences(acc):\n",
    "    aaseqs = []\n",
    "    max_attempts = 10\n",
    "    \n",
    "    for a in acc:\n",
    "        attempt = 0\n",
    "        sequence_fetched = False\n",
    "\n",
    "        while attempt < max_attempts:\n",
    "            try:\n",
    "                handle = Entrez.efetch(db='protein', id=a, rettype='gb', retmode='text')\n",
    "                output = list(SeqIO.parse(handle, 'gb'))\n",
    "                handle.close()\n",
    "\n",
    "                if output:\n",
    "                    for record in output:\n",
    "                        aaseqs.append(str(record.seq))\n",
    "                    sequence_fetched = True\n",
    "                    break  \n",
    "                else:\n",
    "                    print('No sequence found for accession number ', a)\n",
    "                    aaseqs.append(\"No Sequence Found\") \n",
    "                    break\n",
    "\n",
    "            except Exception as error:\n",
    "                print('Error fetching data, trying again in', 2 ** attempt, 'seconds:', error)\n",
    "                time.sleep(2 ** attempt) \n",
    "                attempt += 1\n",
    "\n",
    "        if not sequence_fetched and attempt == max_attempts:\n",
    "            print('Failed to retrieve data for accession number ', a)\n",
    "            aaseqs.append(\"No Sequence Found\")\n",
    "\n",
    "    return aaseqs"
   ]
  },
  {
   "cell_type": "code",
   "execution_count": 15,
   "metadata": {
    "id": "26-cxc1skOnC"
   },
   "outputs": [],
   "source": [
    "#Execute the function above\n",
    "aaseqs = fetch_sequences(acc)"
   ]
  },
  {
   "cell_type": "code",
   "execution_count": 16,
   "metadata": {
    "id": "ZSjcpJZ1gaeB"
   },
   "outputs": [],
   "source": [
    "#Naming unnamed proteins\n",
    "def fix_unnamed(titles):\n",
    "  c = 1\n",
    "  for i in range(len(titles)):\n",
    "    if titles[i] == '':\n",
    "      titles[i] = 'unnamed protein v'+str(c)\n",
    "      c += 1\n",
    "  return titles"
   ]
  },
  {
   "cell_type": "code",
   "execution_count": 17,
   "metadata": {
    "id": "0fnDVt6qs0GS"
   },
   "outputs": [],
   "source": [
    "titles = fix_unnamed(titles)"
   ]
  },
  {
   "cell_type": "code",
   "execution_count": 18,
   "metadata": {
    "id": "qDX9VYWA7veb"
   },
   "outputs": [],
   "source": [
    "#Version 1\n",
    "#Create a unique title list\n",
    "#Aminoacid sequence not considered\n",
    "#Comparison will be by protein name\n",
    "\n",
    "def protdict (titles):\n",
    "  titles_unique = []\n",
    "  for title in titles:\n",
    "    if title not in titles_unique:\n",
    "      titles_unique.append(title)\n",
    "\n",
    "  return titles_unique"
   ]
  },
  {
   "cell_type": "code",
   "execution_count": 19,
   "metadata": {
    "id": "UKbvpQ0U1CKI"
   },
   "outputs": [],
   "source": [
    "#Version 2 dictionary\n",
    "#Create an alternative list that accounts for same protein names\n",
    "#Unique keys, unique values\n",
    "#Comparison will be by AA seq\n",
    "\n",
    "def protdictv2 (titles, aaseqs):\n",
    "  titles_version = []\n",
    "  key_counter = {}\n",
    "  protein_dictionary_v2 = {}\n",
    "\n",
    "  for key in titles:\n",
    "    if key in key_counter.keys():\n",
    "      key_counter[key] += 1\n",
    "      key_title = str(key) + ' v' + str(key_counter[key])\n",
    "    else:\n",
    "      key_counter[key] = 1\n",
    "      key_title = key\n",
    "    titles_version.append(key_title)\n",
    "\n",
    "  for key, value in zip(titles_version, aaseqs):\n",
    "    protein_dictionary_v2[key] = value\n",
    "\n",
    "  return protein_dictionary_v2\n"
   ]
  },
  {
   "cell_type": "code",
   "execution_count": 20,
   "metadata": {
    "id": "fWu2dWR8wk4t"
   },
   "outputs": [],
   "source": [
    "titles_unique = protdict(titles)\n",
    "protein_dictionary_v2 = protdictv2(titles, aaseqs)"
   ]
  },
  {
   "cell_type": "code",
   "execution_count": 21,
   "metadata": {
    "colab": {
     "base_uri": "https://localhost:8080/",
     "height": 411
    },
    "id": "5-uL9dFnBaal",
    "outputId": "77120896-9416-46a9-f082-6a9a71c66e88"
   },
   "outputs": [
    {
     "data": {
      "text/html": [
       "<div>\n",
       "<style scoped>\n",
       "    .dataframe tbody tr th:only-of-type {\n",
       "        vertical-align: middle;\n",
       "    }\n",
       "\n",
       "    .dataframe tbody tr th {\n",
       "        vertical-align: top;\n",
       "    }\n",
       "\n",
       "    .dataframe thead th {\n",
       "        text-align: right;\n",
       "    }\n",
       "</style>\n",
       "<table border=\"1\" class=\"dataframe\">\n",
       "  <thead>\n",
       "    <tr style=\"text-align: right;\">\n",
       "      <th></th>\n",
       "      <th>Protein Name</th>\n",
       "      <th>Escherichia coli K-12</th>\n",
       "    </tr>\n",
       "  </thead>\n",
       "  <tbody>\n",
       "    <tr>\n",
       "      <th>0</th>\n",
       "      <td>methyl-accepting chemotaxis protein IV</td>\n",
       "      <td>True</td>\n",
       "    </tr>\n",
       "    <tr>\n",
       "      <th>1</th>\n",
       "      <td>TRAP transporter substrate-binding protein</td>\n",
       "      <td>True</td>\n",
       "    </tr>\n",
       "    <tr>\n",
       "      <th>2</th>\n",
       "      <td>fimbrial adhesin EcpD</td>\n",
       "      <td>True</td>\n",
       "    </tr>\n",
       "    <tr>\n",
       "      <th>3</th>\n",
       "      <td>cyclic di-3',5'-guanylate-activated glycosyltr...</td>\n",
       "      <td>True</td>\n",
       "    </tr>\n",
       "    <tr>\n",
       "      <th>4</th>\n",
       "      <td>bacteriophage adsorption protein NfrA</td>\n",
       "      <td>True</td>\n",
       "    </tr>\n",
       "    <tr>\n",
       "      <th>...</th>\n",
       "      <td>...</td>\n",
       "      <td>...</td>\n",
       "    </tr>\n",
       "    <tr>\n",
       "      <th>74</th>\n",
       "      <td>ligand-gated channel protein</td>\n",
       "      <td>True</td>\n",
       "    </tr>\n",
       "    <tr>\n",
       "      <th>75</th>\n",
       "      <td>tonB-dependent receptor yncD</td>\n",
       "      <td>True</td>\n",
       "    </tr>\n",
       "    <tr>\n",
       "      <th>76</th>\n",
       "      <td>ferrienterobactin receptor precursor</td>\n",
       "      <td>True</td>\n",
       "    </tr>\n",
       "    <tr>\n",
       "      <th>77</th>\n",
       "      <td>phage lambda receptor protein</td>\n",
       "      <td>True</td>\n",
       "    </tr>\n",
       "    <tr>\n",
       "      <th>78</th>\n",
       "      <td>bacteriophage N4 receptor, outer membrane subunit</td>\n",
       "      <td>True</td>\n",
       "    </tr>\n",
       "  </tbody>\n",
       "</table>\n",
       "<p>79 rows × 2 columns</p>\n",
       "</div>"
      ],
      "text/plain": [
       "                                         Protein Name  Escherichia coli K-12\n",
       "0              methyl-accepting chemotaxis protein IV                   True\n",
       "1          TRAP transporter substrate-binding protein                   True\n",
       "2                               fimbrial adhesin EcpD                   True\n",
       "3   cyclic di-3',5'-guanylate-activated glycosyltr...                   True\n",
       "4               bacteriophage adsorption protein NfrA                   True\n",
       "..                                                ...                    ...\n",
       "74                       ligand-gated channel protein                   True\n",
       "75                       tonB-dependent receptor yncD                   True\n",
       "76               ferrienterobactin receptor precursor                   True\n",
       "77                      phage lambda receptor protein                   True\n",
       "78  bacteriophage N4 receptor, outer membrane subunit                   True\n",
       "\n",
       "[79 rows x 2 columns]"
      ]
     },
     "execution_count": 21,
     "metadata": {},
     "output_type": "execute_result"
    }
   ],
   "source": [
    "#Creating DataFrame of Version 1 dictionary\n",
    "\n",
    "df = pd.DataFrame(titles_unique, columns=['Protein Name'])\n",
    "df[strain] = df['Protein Name'].isin(titles)\n",
    "\n",
    "df"
   ]
  },
  {
   "cell_type": "code",
   "execution_count": 22,
   "metadata": {
    "colab": {
     "base_uri": "https://localhost:8080/",
     "height": 411
    },
    "id": "UkHE2Bpi4l5o",
    "outputId": "35c5d2ee-32b1-4e97-ca99-1f8424c7d7c9"
   },
   "outputs": [
    {
     "data": {
      "text/html": [
       "<div>\n",
       "<style scoped>\n",
       "    .dataframe tbody tr th:only-of-type {\n",
       "        vertical-align: middle;\n",
       "    }\n",
       "\n",
       "    .dataframe tbody tr th {\n",
       "        vertical-align: top;\n",
       "    }\n",
       "\n",
       "    .dataframe thead th {\n",
       "        text-align: right;\n",
       "    }\n",
       "</style>\n",
       "<table border=\"1\" class=\"dataframe\">\n",
       "  <thead>\n",
       "    <tr style=\"text-align: right;\">\n",
       "      <th></th>\n",
       "      <th>Protein Name</th>\n",
       "      <th>Escherichia coli K-12</th>\n",
       "    </tr>\n",
       "  </thead>\n",
       "  <tbody>\n",
       "    <tr>\n",
       "      <th>0</th>\n",
       "      <td>methyl-accepting chemotaxis protein IV</td>\n",
       "      <td>True</td>\n",
       "    </tr>\n",
       "    <tr>\n",
       "      <th>1</th>\n",
       "      <td>TRAP transporter substrate-binding protein</td>\n",
       "      <td>True</td>\n",
       "    </tr>\n",
       "    <tr>\n",
       "      <th>2</th>\n",
       "      <td>fimbrial adhesin EcpD</td>\n",
       "      <td>True</td>\n",
       "    </tr>\n",
       "    <tr>\n",
       "      <th>3</th>\n",
       "      <td>cyclic di-3',5'-guanylate-activated glycosyltr...</td>\n",
       "      <td>True</td>\n",
       "    </tr>\n",
       "    <tr>\n",
       "      <th>4</th>\n",
       "      <td>bacteriophage adsorption protein NfrA</td>\n",
       "      <td>True</td>\n",
       "    </tr>\n",
       "    <tr>\n",
       "      <th>...</th>\n",
       "      <td>...</td>\n",
       "      <td>...</td>\n",
       "    </tr>\n",
       "    <tr>\n",
       "      <th>366</th>\n",
       "      <td>TonB-dependent receptor plug domain-containing...</td>\n",
       "      <td>True</td>\n",
       "    </tr>\n",
       "    <tr>\n",
       "      <th>367</th>\n",
       "      <td>TonB-dependent receptor v23</td>\n",
       "      <td>True</td>\n",
       "    </tr>\n",
       "    <tr>\n",
       "      <th>368</th>\n",
       "      <td>ferrienterobactin receptor precursor</td>\n",
       "      <td>True</td>\n",
       "    </tr>\n",
       "    <tr>\n",
       "      <th>369</th>\n",
       "      <td>phage lambda receptor protein</td>\n",
       "      <td>True</td>\n",
       "    </tr>\n",
       "    <tr>\n",
       "      <th>370</th>\n",
       "      <td>bacteriophage N4 receptor, outer membrane subunit</td>\n",
       "      <td>True</td>\n",
       "    </tr>\n",
       "  </tbody>\n",
       "</table>\n",
       "<p>371 rows × 2 columns</p>\n",
       "</div>"
      ],
      "text/plain": [
       "                                          Protein Name  Escherichia coli K-12\n",
       "0               methyl-accepting chemotaxis protein IV                   True\n",
       "1           TRAP transporter substrate-binding protein                   True\n",
       "2                                fimbrial adhesin EcpD                   True\n",
       "3    cyclic di-3',5'-guanylate-activated glycosyltr...                   True\n",
       "4                bacteriophage adsorption protein NfrA                   True\n",
       "..                                                 ...                    ...\n",
       "366  TonB-dependent receptor plug domain-containing...                   True\n",
       "367                        TonB-dependent receptor v23                   True\n",
       "368               ferrienterobactin receptor precursor                   True\n",
       "369                      phage lambda receptor protein                   True\n",
       "370  bacteriophage N4 receptor, outer membrane subunit                   True\n",
       "\n",
       "[371 rows x 2 columns]"
      ]
     },
     "execution_count": 22,
     "metadata": {},
     "output_type": "execute_result"
    }
   ],
   "source": [
    "#Creating DataFrame of Version 2 dictionary\n",
    "#Compared dictionary values (accumulative) with AA sequence values (unique for each query)\n",
    "#Returns True/False\n",
    "\n",
    "df2 = pd.DataFrame(protein_dictionary_v2.items(), columns=['Protein Name','AAseq'])\n",
    "df2[strain] = df2['AAseq'].isin(aaseqs)\n",
    "df2.drop('AAseq', axis = 1, inplace = True)\n",
    "\n",
    "df2"
   ]
  },
  {
   "cell_type": "code",
   "execution_count": 23,
   "metadata": {
    "id": "-KvCeSVCHF-D"
   },
   "outputs": [],
   "source": [
    "#Download pathogenic bacteria list from Barlett et al.\n",
    "#Store it in a dataframe\n",
    "url = 'https://github.com/padpadpadpad/bartlett_et_al_2022_human_pathogens/raw/master/data/bacteria_human_pathogens.xlsx'\n",
    "bdf = pd.read_excel(url, sheet_name='Tab 6 Full List', usecols=\"F:G\", skiprows=0)"
   ]
  },
  {
   "cell_type": "code",
   "execution_count": 24,
   "metadata": {
    "id": "Na6U1gdW3zoT"
   },
   "outputs": [],
   "source": [
    "#Convert dataframe to list\n",
    "#Join the genus and species column\n",
    "\n",
    "pblist = list(bdf['genus'] + ' ' + bdf['species'])"
   ]
  },
  {
   "cell_type": "code",
   "execution_count": 25,
   "metadata": {
    "id": "hioDhNiS8gTv"
   },
   "outputs": [],
   "source": [
    "# Found random characters\n",
    "# Used .replace to remove them\n",
    "\n",
    "clean_pathogen_list = [species.replace('¬†','') for species in pblist]"
   ]
  },
  {
   "cell_type": "code",
   "execution_count": 26,
   "metadata": {
    "id": "gTdQliQS7SUl"
   },
   "outputs": [],
   "source": [
    "max = 100\n",
    "db = 'nucleotide'\n",
    "query = 'Viruses[ORGN] AND phage[All fields] AND srcdb_refseq[PROP] \\\n",
    "NOT wgs[PROP] NOT cellular organisms[ORGN] NOT AC_000001:AC_999999[PACC]'\n",
    "\n",
    "#Execute the function with these parameters\n",
    "phageids = retrieve_ids(max, db, query)"
   ]
  },
  {
   "cell_type": "code",
   "execution_count": 27,
   "metadata": {
    "id": "_tj8U8EAD41s"
   },
   "outputs": [],
   "source": [
    "#Input: IDs of phages\n",
    "#Output: List of bacterial hosts\n",
    "#seq_start and seq_stop parameters retrieve the first feature only (source)\n",
    "#In the source feature, there is information about the host\n",
    "\n",
    "def phageid_to_host(phageids):\n",
    "  phageinfo = []\n",
    "  sleep_time = 1\n",
    "\n",
    "  for id in phageids:\n",
    "    phage_dict = {}\n",
    "    try:\n",
    "      handle = Entrez.efetch(db=\"nucleotide\", id=id, rettype=\"gb\",\n",
    "                            retmode=\"text\", seq_start = 1, seq_stop = 1)\n",
    "      source = SeqIO.read(handle, 'gb')\n",
    "      handle.close()\n",
    "\n",
    "      features = source.features[0]\n",
    "      qual = features.qualifiers\n",
    "\n",
    "      strain = qual.get('host', qual.get('lab_host', None))\n",
    "\n",
    "      if strain != None:\n",
    "        strain = strain[0]\n",
    "        phage_dict['phage'] = qual['organism'][0]\n",
    "        phage_dict['id'] = id\n",
    "        phage_dict['strain'] = strain\n",
    "\n",
    "        split = strain.split(\" \", 2)\n",
    "\n",
    "        if len(split) > 1 and (\"sp.\" in split[1] or \"spp.\" in split[1]):\n",
    "          species = split[0]\n",
    "        elif len(split) > 1:\n",
    "          species = split[0] + \" \" + split[1]\n",
    "        else:\n",
    "          species = split[0]\n",
    "        phage_dict['host'] = species\n",
    "\n",
    "        phageinfo.append(phage_dict)\n",
    "\n",
    "      sleep_time = 1\n",
    "\n",
    "    except Exception as error:\n",
    "      print('Error fetching data, trying again in', sleep_time,'seconds:', error)\n",
    "      time.sleep(sleep_time)\n",
    "      sleep_time *= 2\n",
    "      continue\n",
    "\n",
    "  return phageinfo"
   ]
  },
  {
   "cell_type": "code",
   "execution_count": 28,
   "metadata": {
    "id": "Wx0zfq12KbTW"
   },
   "outputs": [],
   "source": [
    "#phageinfo = phageid_to_host(phageids)"
   ]
  },
  {
   "cell_type": "code",
   "execution_count": 29,
   "metadata": {
    "id": "h5K8Q1ALXA5m"
   },
   "outputs": [],
   "source": [
    "# def select_hosts(phinfo, patlist):\n",
    "#   pathost = []\n",
    "#   patstring = ' '.join(patlist)\n",
    "\n",
    "#   for phage in phinfo:\n",
    "#     if phage['host'] in patstring:\n",
    "#       pathost.append(phage)\n",
    "\n",
    "#   return pathost"
   ]
  },
  {
   "cell_type": "code",
   "execution_count": 30,
   "metadata": {
    "id": "tKNuq9PBYZ8z"
   },
   "outputs": [],
   "source": [
    "#Create list of dictionaries for phages with pathogen hosts\n",
    "# pathost = select_hosts(phageinfo, clean_pathogen_list)"
   ]
  },
  {
   "cell_type": "code",
   "execution_count": 31,
   "metadata": {
    "id": "mCJjng7HSI0l"
   },
   "outputs": [],
   "source": [
    "#List of unique pathogen hosts\n",
    "\n",
    "# uniquepat = []\n",
    "# for phage in pathost:\n",
    "#   if phage['host'] not in uniquepat and phage['host'] not 'bacterium':\n",
    "#     uniquepat.append(phage['host'])"
   ]
  },
  {
   "cell_type": "code",
   "execution_count": 32,
   "metadata": {},
   "outputs": [
    {
     "name": "stdout",
     "output_type": "stream",
     "text": [
      "['Aeromonas hydrophila', 'Aeromonas veronii', 'Vibrio parahaemolyticus', 'Escherichia coli', 'Escherichia', 'Yersinia pseudotuberculosis', 'Salmonella enterica', 'Vibrio cholerae', 'Gordonia terrae', 'Gordonia rubripertincta', 'Klebsiella pneumoniae', 'Listeria monocytogenes', 'Pseudomonas aeruginosa', 'Enterococcus faecalis', 'Bacillus pumilus', 'Bacillus cereus', 'Staphylococcus aureus', 'Bacillus thuringiensis', 'Staphylococcus xylosus', 'Serratia marcescens', 'Pseudomonas', 'Vibrio alginolyticus', 'Vibrio anguillarum', 'Proteus mirabilis', 'Pseudomonas fluorescens', 'Arthrobacter', 'Rhizobium', 'Bifidobacterium dentium', 'Curtobacterium', 'Rothia dentocariosa', 'Microbacterium paraoxydans', 'Mycobacterium smegmatis', 'Rhodococcus erythropolis', 'Streptomyces', 'Providencia stuartii', 'Stenotrophomonas maltophilia', 'Salmonella', 'Salmonella enteritidis', 'Bacillus anthracis', 'Shigella boydii', 'Bacillus subtilis', 'Sphingomonas', 'Hafnia paralvei', 'Pseudomonas putida', 'Klebsiella', 'Kosakonia cowanii', 'Pantoea dispersa', 'Enterobacter cloacae', 'Enterococcus faecium', 'Aeromonas', 'Shigella flexneri', 'Cronobacter', 'Clostridium perfringens', 'Burkholderia gladioli', 'Burkholderia cenocepacia', 'Cronobacter sakazakii', 'Klebsiella aerogenes', 'Ochrobactrum', 'Ochrobactrum intermedium', 'Ochrobactrum anthropi', 'Streptococcus pneumoniae', 'Shewanella', 'Aeromonas salmonicida', 'Yersinia enterocolitica', 'Burkholderia pseudomallei', 'Burkholderia glumae', 'Yersinia pestis', 'Agrobacterium tumefaciens', 'Staphylococcus epidermidis', 'Alcaligenes faecalis', 'Enterobacter hormaechei', 'Microbacterium', 'Staphylococcus', 'Bacillus', 'Flavobacterium', 'Vibrio harveyi', 'Burkholderia thailandensis', 'Enterococcus', 'Bacteroides thetaiotaomicron', 'Acinetobacter pittii', 'Streptomyces griseus', 'Staphylococcus pseudintermedius', 'Leuconostoc pseudomesenteroides', 'Serratia', 'Citrobacter rodentium', 'Citrobacter amalonaticus', 'Mycobacterium', 'Mycobacterium abscessus', 'Achromobacter', 'Providencia rettgeri', 'Shigella dysenteriae', 'Acinetobacter baumannii', 'Pantoea agglomerans', 'Photobacterium damselae', 'Enterobacter aerogenes', 'Campylobacter jejuni', 'Campylobacter', 'Citrobacter freundii', 'Lactobacillus delbrueckii', 'Burkholderia cepacia', 'Rhodococcus globerulus', 'Acinetobacter johnsonii', 'Clostridioides difficile', 'Actinomyces naeslundii', 'Burkholderia ambifaria', 'Pasteurella multocida', 'Mannheimia haemolytica', 'Lactobacillus plantarum', 'Bordetella bronchiseptica', 'Salmonella typhimurium', 'Haemophilus influenzae', 'Chlamydophila pneumoniae', 'Lactococcus', 'Proteus penneri', 'Shigella sonnei', 'Fusobacterium nucleatum', 'Achromobacter xylosoxidans', 'Achromobacter animicus', 'Enterobacter asburiae', 'Corynebacterium xerosis', 'Raoultella ornithinolytica', 'Edwardsiella tarda', 'Raoultella', 'Cronobacter turicensis', 'Vibrio', 'Sphingomonas paucimobilis', 'Eggerthella lenta', 'Shigella', 'Brevibacterium iodinum', 'Leclercia adecarboxylata', 'Cronobacter malonaticus', 'Lactococcus garvieae', 'Leuconostoc mesenteroides', 'Lactobacillus rhamnosus', 'Klebsiella oxytoca', 'Serratia rubidaea', 'Providencia', 'Morganella', 'Weissella', 'Enterobacter', 'Propionibacterium acnes', 'Stenotrophomonas', 'Enterobacter cancerogenus', 'Tsukamurella inchonensis', 'Vibrio vulnificus', 'Paracoccus', 'Acinetobacter', 'Delftia tsuruhatensis', 'Brucella inopinata', 'Clostridium tetani', 'Tsukamurella paurometabola', 'Gordonia sputi', 'Erysipelothrix rhusiopathiae', 'Gordonia', 'Salmonella typhi', 'Lactobacillus gasseri', 'Citrobacter', 'Streptococcus mutans', 'Staphylococcus haemolyticus', 'Delftia', 'Streptococcus pyogenes', 'Staphylococcus hominis', 'Morganella morganii', 'Lelliottia', 'Rhodococcus equi', 'Psychrobacter', 'Staphylococcus saprophyticus', 'Erwinia', 'Paenibacillus glucanolyticus', 'Mycobacterium avium', 'Agrobacterium', 'Helicobacter pylori', 'Clostridium sporogenes', 'Staphylococcus capitis', 'Lactobacillus', 'Brucella melitensis', 'Brucella abortus', 'Streptococcus suis', 'Cutibacterium acnes', 'Listeria', 'Staphylococcus pasteuri', 'Streptococcus salivarius', 'Bacteroides fragilis', 'Rhodococcus rhodochrous', 'Nocardia brasiliensis', 'Delftia acidovorans', 'Aggregatibacter actinomycetemcomitans', 'Burkholderia pyrrocinia', 'Streptococcus oralis', 'Lactobacillus jensenii', 'Streptococcus gordonii', 'Streptococcus equi', 'Streptococcus dysgalactiae', 'Streptococcus mitis', 'Mycobacterium tuberculosis', 'Kluyvera cryocrescens', 'Clostridium botulinum', 'Parabacteroides distasonis', 'Ralstonia pickettii', 'Spiroplasma', 'Chlamydia psittaci']\n"
     ]
    }
   ],
   "source": [
    "file_path = 'uniquepat.txt'\n",
    "\n",
    "# Create an empty list to store the lines\n",
    "upat = []\n",
    "\n",
    "# Open the file and read each line\n",
    "with open(file_path, 'r') as file:\n",
    "    for line in file:\n",
    "        # Strip newline characters and add to the list\n",
    "        upat.append(line.strip())\n",
    "\n",
    "# Print the list to verify the contents\n",
    "print(upat)\n"
   ]
  },
  {
   "cell_type": "code",
   "execution_count": 33,
   "metadata": {
    "id": "uf-jdHX4hmJl"
   },
   "outputs": [],
   "source": [
    "def receptors(maxm,db,query):\n",
    "\n",
    "  ids = retrieve_ids(maxm,db,query)\n",
    "  titles, acc = retrieve_summary(ids,maxm)\n",
    "  aaseqs = fetch_sequences(acc)\n",
    "  titles = fix_unnamed(titles)\n",
    "\n",
    "  return titles, aaseqs\n"
   ]
  },
  {
   "cell_type": "code",
   "execution_count": 34,
   "metadata": {},
   "outputs": [],
   "source": [
    "try:\n",
    "    with open('output.json', 'r') as file:\n",
    "        data = json.load(file)\n",
    "        \n",
    "        if data == \"\":\n",
    "            raise ValueError\n",
    "except:\n",
    "    data = {'titles': [], 'sequences': [], 'species': []}"
   ]
  },
  {
   "cell_type": "code",
   "execution_count": 35,
   "metadata": {
    "colab": {
     "base_uri": "https://localhost:8080/",
     "height": 424
    },
    "id": "DSYzc53ryA1L",
    "outputId": "6bc87a3c-f8fa-4714-a9d7-41523c5439ba",
    "scrolled": true
   },
   "outputs": [
    {
     "name": "stdout",
     "output_type": "stream",
     "text": [
      "Aeromonas hydrophila\n"
     ]
    },
    {
     "ename": "KeyboardInterrupt",
     "evalue": "",
     "output_type": "error",
     "traceback": [
      "\u001b[0;31m---------------------------------------------------------------------------\u001b[0m",
      "\u001b[0;31mKeyboardInterrupt\u001b[0m                         Traceback (most recent call last)",
      "Cell \u001b[0;32mIn[35], line 7\u001b[0m\n\u001b[1;32m      5\u001b[0m query \u001b[38;5;241m=\u001b[39m \u001b[38;5;28mstr\u001b[39m(pathogen)\u001b[38;5;241m+\u001b[39m\u001b[38;5;124m'\u001b[39m\u001b[38;5;124m[ORGN] AND receptor[All fields]\u001b[39m\u001b[38;5;124m'\u001b[39m\n\u001b[1;32m      6\u001b[0m \u001b[38;5;28mprint\u001b[39m(pathogen)\n\u001b[0;32m----> 7\u001b[0m titles, aaseqs \u001b[38;5;241m=\u001b[39m receptors(maxm,db,query)\n\u001b[1;32m      8\u001b[0m data[\u001b[38;5;124m'\u001b[39m\u001b[38;5;124mtitles\u001b[39m\u001b[38;5;124m'\u001b[39m]\u001b[38;5;241m.\u001b[39mextend(titles)\n\u001b[1;32m      9\u001b[0m data[\u001b[38;5;124m'\u001b[39m\u001b[38;5;124msequences\u001b[39m\u001b[38;5;124m'\u001b[39m]\u001b[38;5;241m.\u001b[39mextend(aaseqs)\n",
      "Cell \u001b[0;32mIn[33], line 5\u001b[0m, in \u001b[0;36mreceptors\u001b[0;34m(maxm, db, query)\u001b[0m\n\u001b[1;32m      3\u001b[0m ids \u001b[38;5;241m=\u001b[39m retrieve_ids(maxm,db,query)\n\u001b[1;32m      4\u001b[0m titles, acc \u001b[38;5;241m=\u001b[39m retrieve_summary(ids,maxm)\n\u001b[0;32m----> 5\u001b[0m aaseqs \u001b[38;5;241m=\u001b[39m fetch_sequences(acc)\n\u001b[1;32m      6\u001b[0m titles \u001b[38;5;241m=\u001b[39m fix_unnamed(titles)\n\u001b[1;32m      8\u001b[0m \u001b[38;5;28;01mreturn\u001b[39;00m titles, aaseqs\n",
      "Cell \u001b[0;32mIn[14], line 13\u001b[0m, in \u001b[0;36mfetch_sequences\u001b[0;34m(acc)\u001b[0m\n\u001b[1;32m     11\u001b[0m \u001b[38;5;28;01mwhile\u001b[39;00m attempt \u001b[38;5;241m<\u001b[39m max_attempts:\n\u001b[1;32m     12\u001b[0m     \u001b[38;5;28;01mtry\u001b[39;00m:\n\u001b[0;32m---> 13\u001b[0m         handle \u001b[38;5;241m=\u001b[39m Entrez\u001b[38;5;241m.\u001b[39mefetch(db\u001b[38;5;241m=\u001b[39m\u001b[38;5;124m'\u001b[39m\u001b[38;5;124mprotein\u001b[39m\u001b[38;5;124m'\u001b[39m, \u001b[38;5;28mid\u001b[39m\u001b[38;5;241m=\u001b[39ma, rettype\u001b[38;5;241m=\u001b[39m\u001b[38;5;124m'\u001b[39m\u001b[38;5;124mgb\u001b[39m\u001b[38;5;124m'\u001b[39m, retmode\u001b[38;5;241m=\u001b[39m\u001b[38;5;124m'\u001b[39m\u001b[38;5;124mtext\u001b[39m\u001b[38;5;124m'\u001b[39m)\n\u001b[1;32m     14\u001b[0m         output \u001b[38;5;241m=\u001b[39m \u001b[38;5;28mlist\u001b[39m(SeqIO\u001b[38;5;241m.\u001b[39mparse(handle, \u001b[38;5;124m'\u001b[39m\u001b[38;5;124mgb\u001b[39m\u001b[38;5;124m'\u001b[39m))\n\u001b[1;32m     15\u001b[0m         handle\u001b[38;5;241m.\u001b[39mclose()\n",
      "File \u001b[0;32m~/anaconda3/lib/python3.11/site-packages/Bio/Entrez/__init__.py:196\u001b[0m, in \u001b[0;36mefetch\u001b[0;34m(db, **keywords)\u001b[0m\n\u001b[1;32m    194\u001b[0m variables\u001b[38;5;241m.\u001b[39mupdate(keywords)\n\u001b[1;32m    195\u001b[0m request \u001b[38;5;241m=\u001b[39m _build_request(cgi, variables)\n\u001b[0;32m--> 196\u001b[0m \u001b[38;5;28;01mreturn\u001b[39;00m _open(request)\n",
      "File \u001b[0;32m~/anaconda3/lib/python3.11/site-packages/Bio/Entrez/__init__.py:594\u001b[0m, in \u001b[0;36m_open\u001b[0;34m(request)\u001b[0m\n\u001b[1;32m    592\u001b[0m \u001b[38;5;28;01mfor\u001b[39;00m i \u001b[38;5;129;01min\u001b[39;00m \u001b[38;5;28mrange\u001b[39m(max_tries):\n\u001b[1;32m    593\u001b[0m     \u001b[38;5;28;01mtry\u001b[39;00m:\n\u001b[0;32m--> 594\u001b[0m         handle \u001b[38;5;241m=\u001b[39m urlopen(request)\n\u001b[1;32m    595\u001b[0m     \u001b[38;5;28;01mexcept\u001b[39;00m HTTPError \u001b[38;5;28;01mas\u001b[39;00m exception:\n\u001b[1;32m    596\u001b[0m         \u001b[38;5;66;03m# Reraise if the final try fails\u001b[39;00m\n\u001b[1;32m    597\u001b[0m         \u001b[38;5;28;01mif\u001b[39;00m i \u001b[38;5;241m>\u001b[39m\u001b[38;5;241m=\u001b[39m max_tries \u001b[38;5;241m-\u001b[39m \u001b[38;5;241m1\u001b[39m:\n",
      "File \u001b[0;32m~/anaconda3/lib/python3.11/urllib/request.py:216\u001b[0m, in \u001b[0;36murlopen\u001b[0;34m(url, data, timeout, cafile, capath, cadefault, context)\u001b[0m\n\u001b[1;32m    214\u001b[0m \u001b[38;5;28;01melse\u001b[39;00m:\n\u001b[1;32m    215\u001b[0m     opener \u001b[38;5;241m=\u001b[39m _opener\n\u001b[0;32m--> 216\u001b[0m \u001b[38;5;28;01mreturn\u001b[39;00m opener\u001b[38;5;241m.\u001b[39mopen(url, data, timeout)\n",
      "File \u001b[0;32m~/anaconda3/lib/python3.11/urllib/request.py:519\u001b[0m, in \u001b[0;36mOpenerDirector.open\u001b[0;34m(self, fullurl, data, timeout)\u001b[0m\n\u001b[1;32m    516\u001b[0m     req \u001b[38;5;241m=\u001b[39m meth(req)\n\u001b[1;32m    518\u001b[0m sys\u001b[38;5;241m.\u001b[39maudit(\u001b[38;5;124m'\u001b[39m\u001b[38;5;124murllib.Request\u001b[39m\u001b[38;5;124m'\u001b[39m, req\u001b[38;5;241m.\u001b[39mfull_url, req\u001b[38;5;241m.\u001b[39mdata, req\u001b[38;5;241m.\u001b[39mheaders, req\u001b[38;5;241m.\u001b[39mget_method())\n\u001b[0;32m--> 519\u001b[0m response \u001b[38;5;241m=\u001b[39m \u001b[38;5;28mself\u001b[39m\u001b[38;5;241m.\u001b[39m_open(req, data)\n\u001b[1;32m    521\u001b[0m \u001b[38;5;66;03m# post-process response\u001b[39;00m\n\u001b[1;32m    522\u001b[0m meth_name \u001b[38;5;241m=\u001b[39m protocol\u001b[38;5;241m+\u001b[39m\u001b[38;5;124m\"\u001b[39m\u001b[38;5;124m_response\u001b[39m\u001b[38;5;124m\"\u001b[39m\n",
      "File \u001b[0;32m~/anaconda3/lib/python3.11/urllib/request.py:536\u001b[0m, in \u001b[0;36mOpenerDirector._open\u001b[0;34m(self, req, data)\u001b[0m\n\u001b[1;32m    533\u001b[0m     \u001b[38;5;28;01mreturn\u001b[39;00m result\n\u001b[1;32m    535\u001b[0m protocol \u001b[38;5;241m=\u001b[39m req\u001b[38;5;241m.\u001b[39mtype\n\u001b[0;32m--> 536\u001b[0m result \u001b[38;5;241m=\u001b[39m \u001b[38;5;28mself\u001b[39m\u001b[38;5;241m.\u001b[39m_call_chain(\u001b[38;5;28mself\u001b[39m\u001b[38;5;241m.\u001b[39mhandle_open, protocol, protocol \u001b[38;5;241m+\u001b[39m\n\u001b[1;32m    537\u001b[0m                           \u001b[38;5;124m'\u001b[39m\u001b[38;5;124m_open\u001b[39m\u001b[38;5;124m'\u001b[39m, req)\n\u001b[1;32m    538\u001b[0m \u001b[38;5;28;01mif\u001b[39;00m result:\n\u001b[1;32m    539\u001b[0m     \u001b[38;5;28;01mreturn\u001b[39;00m result\n",
      "File \u001b[0;32m~/anaconda3/lib/python3.11/urllib/request.py:496\u001b[0m, in \u001b[0;36mOpenerDirector._call_chain\u001b[0;34m(self, chain, kind, meth_name, *args)\u001b[0m\n\u001b[1;32m    494\u001b[0m \u001b[38;5;28;01mfor\u001b[39;00m handler \u001b[38;5;129;01min\u001b[39;00m handlers:\n\u001b[1;32m    495\u001b[0m     func \u001b[38;5;241m=\u001b[39m \u001b[38;5;28mgetattr\u001b[39m(handler, meth_name)\n\u001b[0;32m--> 496\u001b[0m     result \u001b[38;5;241m=\u001b[39m func(\u001b[38;5;241m*\u001b[39margs)\n\u001b[1;32m    497\u001b[0m     \u001b[38;5;28;01mif\u001b[39;00m result \u001b[38;5;129;01mis\u001b[39;00m \u001b[38;5;129;01mnot\u001b[39;00m \u001b[38;5;28;01mNone\u001b[39;00m:\n\u001b[1;32m    498\u001b[0m         \u001b[38;5;28;01mreturn\u001b[39;00m result\n",
      "File \u001b[0;32m~/anaconda3/lib/python3.11/urllib/request.py:1391\u001b[0m, in \u001b[0;36mHTTPSHandler.https_open\u001b[0;34m(self, req)\u001b[0m\n\u001b[1;32m   1390\u001b[0m \u001b[38;5;28;01mdef\u001b[39;00m \u001b[38;5;21mhttps_open\u001b[39m(\u001b[38;5;28mself\u001b[39m, req):\n\u001b[0;32m-> 1391\u001b[0m     \u001b[38;5;28;01mreturn\u001b[39;00m \u001b[38;5;28mself\u001b[39m\u001b[38;5;241m.\u001b[39mdo_open(http\u001b[38;5;241m.\u001b[39mclient\u001b[38;5;241m.\u001b[39mHTTPSConnection, req,\n\u001b[1;32m   1392\u001b[0m         context\u001b[38;5;241m=\u001b[39m\u001b[38;5;28mself\u001b[39m\u001b[38;5;241m.\u001b[39m_context, check_hostname\u001b[38;5;241m=\u001b[39m\u001b[38;5;28mself\u001b[39m\u001b[38;5;241m.\u001b[39m_check_hostname)\n",
      "File \u001b[0;32m~/anaconda3/lib/python3.11/urllib/request.py:1352\u001b[0m, in \u001b[0;36mAbstractHTTPHandler.do_open\u001b[0;34m(self, http_class, req, **http_conn_args)\u001b[0m\n\u001b[1;32m   1350\u001b[0m     \u001b[38;5;28;01mexcept\u001b[39;00m \u001b[38;5;167;01mOSError\u001b[39;00m \u001b[38;5;28;01mas\u001b[39;00m err: \u001b[38;5;66;03m# timeout error\u001b[39;00m\n\u001b[1;32m   1351\u001b[0m         \u001b[38;5;28;01mraise\u001b[39;00m URLError(err)\n\u001b[0;32m-> 1352\u001b[0m     r \u001b[38;5;241m=\u001b[39m h\u001b[38;5;241m.\u001b[39mgetresponse()\n\u001b[1;32m   1353\u001b[0m \u001b[38;5;28;01mexcept\u001b[39;00m:\n\u001b[1;32m   1354\u001b[0m     h\u001b[38;5;241m.\u001b[39mclose()\n",
      "File \u001b[0;32m~/anaconda3/lib/python3.11/http/client.py:1375\u001b[0m, in \u001b[0;36mHTTPConnection.getresponse\u001b[0;34m(self)\u001b[0m\n\u001b[1;32m   1373\u001b[0m \u001b[38;5;28;01mtry\u001b[39;00m:\n\u001b[1;32m   1374\u001b[0m     \u001b[38;5;28;01mtry\u001b[39;00m:\n\u001b[0;32m-> 1375\u001b[0m         response\u001b[38;5;241m.\u001b[39mbegin()\n\u001b[1;32m   1376\u001b[0m     \u001b[38;5;28;01mexcept\u001b[39;00m \u001b[38;5;167;01mConnectionError\u001b[39;00m:\n\u001b[1;32m   1377\u001b[0m         \u001b[38;5;28mself\u001b[39m\u001b[38;5;241m.\u001b[39mclose()\n",
      "File \u001b[0;32m~/anaconda3/lib/python3.11/http/client.py:318\u001b[0m, in \u001b[0;36mHTTPResponse.begin\u001b[0;34m(self)\u001b[0m\n\u001b[1;32m    316\u001b[0m \u001b[38;5;66;03m# read until we get a non-100 response\u001b[39;00m\n\u001b[1;32m    317\u001b[0m \u001b[38;5;28;01mwhile\u001b[39;00m \u001b[38;5;28;01mTrue\u001b[39;00m:\n\u001b[0;32m--> 318\u001b[0m     version, status, reason \u001b[38;5;241m=\u001b[39m \u001b[38;5;28mself\u001b[39m\u001b[38;5;241m.\u001b[39m_read_status()\n\u001b[1;32m    319\u001b[0m     \u001b[38;5;28;01mif\u001b[39;00m status \u001b[38;5;241m!=\u001b[39m CONTINUE:\n\u001b[1;32m    320\u001b[0m         \u001b[38;5;28;01mbreak\u001b[39;00m\n",
      "File \u001b[0;32m~/anaconda3/lib/python3.11/http/client.py:279\u001b[0m, in \u001b[0;36mHTTPResponse._read_status\u001b[0;34m(self)\u001b[0m\n\u001b[1;32m    278\u001b[0m \u001b[38;5;28;01mdef\u001b[39;00m \u001b[38;5;21m_read_status\u001b[39m(\u001b[38;5;28mself\u001b[39m):\n\u001b[0;32m--> 279\u001b[0m     line \u001b[38;5;241m=\u001b[39m \u001b[38;5;28mstr\u001b[39m(\u001b[38;5;28mself\u001b[39m\u001b[38;5;241m.\u001b[39mfp\u001b[38;5;241m.\u001b[39mreadline(_MAXLINE \u001b[38;5;241m+\u001b[39m \u001b[38;5;241m1\u001b[39m), \u001b[38;5;124m\"\u001b[39m\u001b[38;5;124miso-8859-1\u001b[39m\u001b[38;5;124m\"\u001b[39m)\n\u001b[1;32m    280\u001b[0m     \u001b[38;5;28;01mif\u001b[39;00m \u001b[38;5;28mlen\u001b[39m(line) \u001b[38;5;241m>\u001b[39m _MAXLINE:\n\u001b[1;32m    281\u001b[0m         \u001b[38;5;28;01mraise\u001b[39;00m LineTooLong(\u001b[38;5;124m\"\u001b[39m\u001b[38;5;124mstatus line\u001b[39m\u001b[38;5;124m\"\u001b[39m)\n",
      "File \u001b[0;32m~/anaconda3/lib/python3.11/socket.py:706\u001b[0m, in \u001b[0;36mSocketIO.readinto\u001b[0;34m(self, b)\u001b[0m\n\u001b[1;32m    704\u001b[0m \u001b[38;5;28;01mwhile\u001b[39;00m \u001b[38;5;28;01mTrue\u001b[39;00m:\n\u001b[1;32m    705\u001b[0m     \u001b[38;5;28;01mtry\u001b[39;00m:\n\u001b[0;32m--> 706\u001b[0m         \u001b[38;5;28;01mreturn\u001b[39;00m \u001b[38;5;28mself\u001b[39m\u001b[38;5;241m.\u001b[39m_sock\u001b[38;5;241m.\u001b[39mrecv_into(b)\n\u001b[1;32m    707\u001b[0m     \u001b[38;5;28;01mexcept\u001b[39;00m timeout:\n\u001b[1;32m    708\u001b[0m         \u001b[38;5;28mself\u001b[39m\u001b[38;5;241m.\u001b[39m_timeout_occurred \u001b[38;5;241m=\u001b[39m \u001b[38;5;28;01mTrue\u001b[39;00m\n",
      "File \u001b[0;32m~/anaconda3/lib/python3.11/ssl.py:1278\u001b[0m, in \u001b[0;36mSSLSocket.recv_into\u001b[0;34m(self, buffer, nbytes, flags)\u001b[0m\n\u001b[1;32m   1274\u001b[0m     \u001b[38;5;28;01mif\u001b[39;00m flags \u001b[38;5;241m!=\u001b[39m \u001b[38;5;241m0\u001b[39m:\n\u001b[1;32m   1275\u001b[0m         \u001b[38;5;28;01mraise\u001b[39;00m \u001b[38;5;167;01mValueError\u001b[39;00m(\n\u001b[1;32m   1276\u001b[0m           \u001b[38;5;124m\"\u001b[39m\u001b[38;5;124mnon-zero flags not allowed in calls to recv_into() on \u001b[39m\u001b[38;5;132;01m%s\u001b[39;00m\u001b[38;5;124m\"\u001b[39m \u001b[38;5;241m%\u001b[39m\n\u001b[1;32m   1277\u001b[0m           \u001b[38;5;28mself\u001b[39m\u001b[38;5;241m.\u001b[39m\u001b[38;5;18m__class__\u001b[39m)\n\u001b[0;32m-> 1278\u001b[0m     \u001b[38;5;28;01mreturn\u001b[39;00m \u001b[38;5;28mself\u001b[39m\u001b[38;5;241m.\u001b[39mread(nbytes, buffer)\n\u001b[1;32m   1279\u001b[0m \u001b[38;5;28;01melse\u001b[39;00m:\n\u001b[1;32m   1280\u001b[0m     \u001b[38;5;28;01mreturn\u001b[39;00m \u001b[38;5;28msuper\u001b[39m()\u001b[38;5;241m.\u001b[39mrecv_into(buffer, nbytes, flags)\n",
      "File \u001b[0;32m~/anaconda3/lib/python3.11/ssl.py:1134\u001b[0m, in \u001b[0;36mSSLSocket.read\u001b[0;34m(self, len, buffer)\u001b[0m\n\u001b[1;32m   1132\u001b[0m \u001b[38;5;28;01mtry\u001b[39;00m:\n\u001b[1;32m   1133\u001b[0m     \u001b[38;5;28;01mif\u001b[39;00m buffer \u001b[38;5;129;01mis\u001b[39;00m \u001b[38;5;129;01mnot\u001b[39;00m \u001b[38;5;28;01mNone\u001b[39;00m:\n\u001b[0;32m-> 1134\u001b[0m         \u001b[38;5;28;01mreturn\u001b[39;00m \u001b[38;5;28mself\u001b[39m\u001b[38;5;241m.\u001b[39m_sslobj\u001b[38;5;241m.\u001b[39mread(\u001b[38;5;28mlen\u001b[39m, buffer)\n\u001b[1;32m   1135\u001b[0m     \u001b[38;5;28;01melse\u001b[39;00m:\n\u001b[1;32m   1136\u001b[0m         \u001b[38;5;28;01mreturn\u001b[39;00m \u001b[38;5;28mself\u001b[39m\u001b[38;5;241m.\u001b[39m_sslobj\u001b[38;5;241m.\u001b[39mread(\u001b[38;5;28mlen\u001b[39m)\n",
      "\u001b[0;31mKeyboardInterrupt\u001b[0m: "
     ]
    }
   ],
   "source": [
    "maxm = 200\n",
    "db = 'ipg'\n",
    "\n",
    "for pathogen in upat:\n",
    "    query = str(pathogen)+'[ORGN] AND receptor[All fields]'\n",
    "    print(pathogen)\n",
    "    titles, aaseqs = receptors(maxm,db,query)\n",
    "    data['titles'].extend(titles)\n",
    "    data['sequences'].extend(aaseqs)\n",
    "    data['species'].extend([str(pathogen)]*len(titles))\n",
    "    print(len(titles), len(aaseqs))\n",
    "    \n",
    "    if len(data['titles'] > 10000):\n",
    "        with open('output.json', 'w') as file:\n",
    "            json.dump(data,file)\n",
    "    \n",
    "    with open('output.txt', 'a') as file:  \n",
    "        file.write(f\"{pathogen}\\t{len(titles)}\\t{len(aaseqs)}\\n\")\n",
    "        \n",
    "with open(output.json, 'w') as file:\n",
    "    json.dump(data, file)\n"
   ]
  },
  {
   "cell_type": "code",
   "execution_count": null,
   "metadata": {
    "id": "SYuqXdN2Aj2s"
   },
   "outputs": [],
   "source": [
    "titles_unique = protdict(alltitles)\n",
    "protein_dictionary_v2 = protdictv2(alltitles, allseqs)"
   ]
  }
 ],
 "metadata": {
  "accelerator": "GPU",
  "colab": {
   "provenance": []
  },
  "kernelspec": {
   "display_name": "Python 3 (ipykernel)",
   "language": "python",
   "name": "python3"
  },
  "language_info": {
   "codemirror_mode": {
    "name": "ipython",
    "version": 3
   },
   "file_extension": ".py",
   "mimetype": "text/x-python",
   "name": "python",
   "nbconvert_exporter": "python",
   "pygments_lexer": "ipython3",
   "version": "3.11.3"
  }
 },
 "nbformat": 4,
 "nbformat_minor": 1
}
