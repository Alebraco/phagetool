{
 "cells": [
  {
   "cell_type": "code",
   "execution_count": 1,
   "metadata": {
    "colab": {
     "base_uri": "https://localhost:8080/"
    },
    "id": "KcRx1XasDSAc",
    "outputId": "f4275bea-0caf-4279-c8e9-8c2c9a8e9d40"
   },
   "outputs": [],
   "source": [
    "from Bio import Entrez,SeqIO\n",
    "from Bio.SeqFeature import SeqFeature, FeatureLocation\n",
    "import pandas as pd\n",
    "import numpy as np\n",
    "import time\n",
    "import json\n",
    "from sklearn.neighbors import NearestNeighbors\n",
    "from sklearn import model_selection\n",
    "from sklearn.metrics import accuracy_score"
   ]
  },
  {
   "cell_type": "code",
   "execution_count": 2,
   "metadata": {
    "id": "E17T_HHIG6Ow"
   },
   "outputs": [],
   "source": [
    "Entrez.email = 'alekey039@hotmail.com'"
   ]
  },
  {
   "cell_type": "code",
   "execution_count": 3,
   "metadata": {
    "id": "dGHW8bUyYUSh"
   },
   "outputs": [],
   "source": [
    "def retrieve_ids(max, db, query):\n",
    "  ids = []\n",
    "  start = 0\n",
    "  sleep_time = 1\n",
    "\n",
    "  while(True):\n",
    "    try:\n",
    "      handle = Entrez.esearch(db = db, retmax = max, retstart = start, term = query)\n",
    "      rec = Entrez.read(handle)\n",
    "      handle.close()\n",
    "      sleep_time = 1\n",
    "\n",
    "    except Exception as error:\n",
    "      print('Search failed, trying again in', sleep_time,'seconds:', error)\n",
    "      time.sleep(sleep_time)\n",
    "      sleep_time *= 2\n",
    "      continue\n",
    "\n",
    "    if len(rec['IdList']) == 0:\n",
    "      break\n",
    "\n",
    "    start += max\n",
    "    ids += rec['IdList']\n",
    "  return ids\n"
   ]
  },
  {
   "cell_type": "code",
   "execution_count": 4,
   "metadata": {
    "id": "Kr6esZxF3bXy"
   },
   "outputs": [],
   "source": [
    "def retrieve_summary(ids, max):\n",
    "  titles = []\n",
    "  acc = []\n",
    "  start = 0\n",
    "  sleep_time = 1\n",
    "\n",
    "  while start < len(ids):\n",
    "    idsfrag = ids[start:start + max]\n",
    "    retrieval = False\n",
    "\n",
    "    while not retrieval:\n",
    "      try:\n",
    "        handle = Entrez.esummary(db='ipg', id = idsfrag, retmax = max)\n",
    "        ipgsum = Entrez.read(handle)\n",
    "        handle.close()\n",
    "        retrieval = True\n",
    "        sleep_time = 1\n",
    "\n",
    "      except Exception as error:\n",
    "        print('Error retrieving data, trying again in', sleep_time,'seconds:', error)\n",
    "        time.sleep(sleep_time)\n",
    "        sleep_time *= 2\n",
    "\n",
    "    for entry in ipgsum['DocumentSummarySet']['DocumentSummary']:\n",
    "      titles.append(entry['Title'])\n",
    "      acc.append(entry['Accession'])\n",
    "\n",
    "\n",
    "    start += max\n",
    "  return titles, acc"
   ]
  },
  {
   "cell_type": "code",
   "execution_count": 5,
   "metadata": {
    "id": "ZSjcpJZ1gaeB"
   },
   "outputs": [],
   "source": [
    "#Naming unnamed proteins\n",
    "def fix_unnamed(titles):\n",
    "  c = 1\n",
    "  for i in range(len(titles)):\n",
    "    if titles[i] == '':\n",
    "      titles[i] = 'unnamed protein v'+str(c)\n",
    "      c += 1\n",
    "  return titles"
   ]
  },
  {
   "cell_type": "code",
   "execution_count": 6,
   "metadata": {
    "id": "-KvCeSVCHF-D"
   },
   "outputs": [],
   "source": [
    "#Download pathogenic bacteria list from Barlett et al.\n",
    "#Store it in a dataframe\n",
    "url = 'https://github.com/padpadpadpad/bartlett_et_al_2022_human_pathogens/raw/master/data/bacteria_human_pathogens.xlsx'\n",
    "bdf = pd.read_excel(url, sheet_name='Tab 6 Full List', usecols=\"F:G\", skiprows=0)"
   ]
  },
  {
   "cell_type": "code",
   "execution_count": 7,
   "metadata": {
    "id": "Na6U1gdW3zoT"
   },
   "outputs": [],
   "source": [
    "#Convert dataframe to list\n",
    "#Join the genus and species column\n",
    "\n",
    "pblist = list(bdf['genus'] + ' ' + bdf['species'])"
   ]
  },
  {
   "cell_type": "code",
   "execution_count": 8,
   "metadata": {
    "id": "hioDhNiS8gTv"
   },
   "outputs": [],
   "source": [
    "# Found random characters\n",
    "# Used .replace to remove them\n",
    "\n",
    "clean_pathogen_list = [species.replace('¬†','') for species in pblist]"
   ]
  },
  {
   "cell_type": "code",
   "execution_count": 10,
   "metadata": {
    "id": "gTdQliQS7SUl"
   },
   "outputs": [],
   "source": [
    "max = 100\n",
    "db = 'nucleotide'\n",
    "query = 'Viruses[ORGN] AND phage[All fields] AND srcdb_refseq[PROP] \\\n",
    "NOT wgs[PROP] NOT cellular organisms[ORGN] NOT AC_000001:AC_999999[PACC]'\n",
    "\n",
    "#Execute the function with these parameters\n",
    "phageids = retrieve_ids(max, db, query)"
   ]
  },
  {
   "cell_type": "code",
   "execution_count": 11,
   "metadata": {
    "id": "_tj8U8EAD41s"
   },
   "outputs": [],
   "source": [
    "#Input: IDs of phages\n",
    "#Output: List of bacterial hosts\n",
    "#seq_start and seq_stop parameters retrieve the first feature only (source)\n",
    "#In the source feature, there is information about the host\n",
    "\n",
    "def phageid_to_host(phageids):\n",
    "  phageinfo = []\n",
    "  sleep_time = 1\n",
    "\n",
    "  for id in phageids:\n",
    "    phage_dict = {}\n",
    "    try:\n",
    "      handle = Entrez.efetch(db=\"nucleotide\", id=id, rettype=\"gb\",\n",
    "                            retmode=\"text\", seq_start = 1, seq_stop = 1)\n",
    "      source = SeqIO.read(handle, 'gb')\n",
    "      handle.close()\n",
    "\n",
    "      features = source.features[0]\n",
    "      qual = features.qualifiers\n",
    "\n",
    "      strain = qual.get('host', qual.get('lab_host', None))\n",
    "\n",
    "      if strain != None:\n",
    "        strain = strain[0]\n",
    "        phage_dict['phage'] = qual['organism'][0]\n",
    "        phage_dict['id'] = id\n",
    "        phage_dict['acc'] = source.id\n",
    "        phage_dict['strain'] = strain\n",
    "\n",
    "        split = strain.split(\" \", 2)\n",
    "\n",
    "        if len(split) > 1 and (\"sp.\" in split[1] or \"spp.\" in split[1]):\n",
    "          species = split[0]\n",
    "        elif len(split) > 1:\n",
    "          species = split[0] + \" \" + split[1]\n",
    "        else:\n",
    "          species = split[0]\n",
    "        phage_dict['host'] = species\n",
    "\n",
    "        phageinfo.append(phage_dict)\n",
    "\n",
    "      sleep_time = 1\n",
    "\n",
    "    except Exception as error:\n",
    "      print('Error fetching data, trying again in', sleep_time,'seconds:', error)\n",
    "      time.sleep(sleep_time)\n",
    "      sleep_time *= 2\n",
    "      continue\n",
    "\n",
    "  return phageinfo"
   ]
  },
  {
   "cell_type": "code",
   "execution_count": null,
   "metadata": {},
   "outputs": [],
   "source": [
    "phageinfo = phageid_to_host(phageids)"
   ]
  },
  {
   "cell_type": "code",
   "execution_count": null,
   "metadata": {
    "id": "h5K8Q1ALXA5m"
   },
   "outputs": [],
   "source": [
    "def select_hosts(phinfo, patlist):\n",
    "  pathost = []\n",
    "  patstring = ' '.join(patlist)\n",
    "\n",
    "  for phage in phinfo:\n",
    "    if phage['host'] in patstring:\n",
    "      pathost.append(phage)\n",
    "\n",
    "  return filtered_phagedict"
   ]
  },
  {
   "cell_type": "code",
   "execution_count": 18,
   "metadata": {},
   "outputs": [
    {
     "ename": "NameError",
     "evalue": "name 'pathost' is not defined",
     "output_type": "error",
     "traceback": [
      "\u001b[0;31m---------------------------------------------------------------------------\u001b[0m",
      "\u001b[0;31mNameError\u001b[0m                                 Traceback (most recent call last)",
      "Cell \u001b[0;32mIn[18], line 5\u001b[0m\n\u001b[1;32m      1\u001b[0m \u001b[38;5;66;03m# Download the dictionary of phages with pathogenic hosts\u001b[39;00m\n\u001b[1;32m      2\u001b[0m \u001b[38;5;66;03m# might have to modify this and reduce it to unique phages\u001b[39;00m\n\u001b[1;32m      4\u001b[0m \u001b[38;5;28;01mwith\u001b[39;00m \u001b[38;5;28mopen\u001b[39m(\u001b[38;5;124m'\u001b[39m\u001b[38;5;124mphagedicts.json\u001b[39m\u001b[38;5;124m'\u001b[39m, \u001b[38;5;124m'\u001b[39m\u001b[38;5;124mw\u001b[39m\u001b[38;5;124m'\u001b[39m) \u001b[38;5;28;01mas\u001b[39;00m f:\n\u001b[0;32m----> 5\u001b[0m     json\u001b[38;5;241m.\u001b[39mdump(pathost, f)\n",
      "\u001b[0;31mNameError\u001b[0m: name 'pathost' is not defined"
     ]
    }
   ],
   "source": [
    "# Download the dictionary of phages with pathogenic hosts\n",
    "# might have to modify this and reduce it to unique phages\n",
    "\n",
    "with open('phagedicts.json', 'w') as f:\n",
    "    json.dump(filtered_phagedict, f)"
   ]
  },
  {
   "cell_type": "code",
   "execution_count": null,
   "metadata": {
    "id": "mCJjng7HSI0l"
   },
   "outputs": [],
   "source": [
    "#List of unique pathogen hosts\n",
    "\n",
    "uniquepat = []\n",
    "for phage in pathost:\n",
    "  if phage['host'] not in uniquepat and phage['host'] not 'bacterium':\n",
    "    uniquepat.append(phage['host'])"
   ]
  },
  {
   "cell_type": "code",
   "execution_count": 32,
   "metadata": {},
   "outputs": [
    {
     "name": "stdout",
     "output_type": "stream",
     "text": [
      "['Aeromonas hydrophila', 'Aeromonas veronii', 'Vibrio parahaemolyticus', 'Escherichia coli', 'Escherichia', 'Yersinia pseudotuberculosis', 'Salmonella enterica', 'Vibrio cholerae', 'Gordonia terrae', 'Gordonia rubripertincta', 'Klebsiella pneumoniae', 'Listeria monocytogenes', 'Pseudomonas aeruginosa', 'Enterococcus faecalis', 'Bacillus pumilus', 'Bacillus cereus', 'Staphylococcus aureus', 'Bacillus thuringiensis', 'Staphylococcus xylosus', 'Serratia marcescens', 'Pseudomonas', 'Vibrio alginolyticus', 'Vibrio anguillarum', 'Proteus mirabilis', 'Pseudomonas fluorescens', 'Arthrobacter', 'Rhizobium', 'Bifidobacterium dentium', 'Curtobacterium', 'Rothia dentocariosa', 'Microbacterium paraoxydans', 'Mycobacterium smegmatis', 'Rhodococcus erythropolis', 'Streptomyces', 'Providencia stuartii', 'Stenotrophomonas maltophilia', 'Salmonella', 'Salmonella enteritidis', 'Bacillus anthracis', 'Shigella boydii', 'Bacillus subtilis', 'Sphingomonas', 'Hafnia paralvei', 'Pseudomonas putida', 'Klebsiella', 'Kosakonia cowanii', 'Pantoea dispersa', 'Enterobacter cloacae', 'Enterococcus faecium', 'Aeromonas', 'Shigella flexneri', 'Cronobacter', 'Clostridium perfringens', 'Burkholderia gladioli', 'Burkholderia cenocepacia', 'Cronobacter sakazakii', 'Klebsiella aerogenes', 'Ochrobactrum', 'Ochrobactrum intermedium', 'Ochrobactrum anthropi', 'Streptococcus pneumoniae', 'Shewanella', 'Aeromonas salmonicida', 'Yersinia enterocolitica', 'Burkholderia pseudomallei', 'Burkholderia glumae', 'Yersinia pestis', 'Agrobacterium tumefaciens', 'Staphylococcus epidermidis', 'Alcaligenes faecalis', 'Enterobacter hormaechei', 'Microbacterium', 'Staphylococcus', 'Bacillus', 'Flavobacterium', 'Vibrio harveyi', 'Burkholderia thailandensis', 'Enterococcus', 'Bacteroides thetaiotaomicron', 'Acinetobacter pittii', 'Streptomyces griseus', 'Staphylococcus pseudintermedius', 'Leuconostoc pseudomesenteroides', 'Serratia', 'Citrobacter rodentium', 'Citrobacter amalonaticus', 'Mycobacterium', 'Mycobacterium abscessus', 'Achromobacter', 'Providencia rettgeri', 'Shigella dysenteriae', 'Acinetobacter baumannii', 'Pantoea agglomerans', 'Photobacterium damselae', 'Enterobacter aerogenes', 'Campylobacter jejuni', 'Campylobacter', 'Citrobacter freundii', 'Lactobacillus delbrueckii', 'Burkholderia cepacia', 'Rhodococcus globerulus', 'Acinetobacter johnsonii', 'Clostridioides difficile', 'Actinomyces naeslundii', 'Burkholderia ambifaria', 'Pasteurella multocida', 'Mannheimia haemolytica', 'Lactobacillus plantarum', 'Bordetella bronchiseptica', 'Salmonella typhimurium', 'Haemophilus influenzae', 'Chlamydophila pneumoniae', 'Lactococcus', 'Proteus penneri', 'Shigella sonnei', 'Fusobacterium nucleatum', 'Achromobacter xylosoxidans', 'Achromobacter animicus', 'Enterobacter asburiae', 'Corynebacterium xerosis', 'Raoultella ornithinolytica', 'Edwardsiella tarda', 'Raoultella', 'Cronobacter turicensis', 'Vibrio', 'Sphingomonas paucimobilis', 'Eggerthella lenta', 'Shigella', 'Brevibacterium iodinum', 'Leclercia adecarboxylata', 'Cronobacter malonaticus', 'Lactococcus garvieae', 'Leuconostoc mesenteroides', 'Lactobacillus rhamnosus', 'Klebsiella oxytoca', 'Serratia rubidaea', 'Providencia', 'Morganella', 'Weissella', 'Enterobacter', 'Propionibacterium acnes', 'Stenotrophomonas', 'Enterobacter cancerogenus', 'Tsukamurella inchonensis', 'Vibrio vulnificus', 'Paracoccus', 'Acinetobacter', 'Delftia tsuruhatensis', 'Brucella inopinata', 'Clostridium tetani', 'Tsukamurella paurometabola', 'Gordonia sputi', 'Erysipelothrix rhusiopathiae', 'Gordonia', 'Salmonella typhi', 'Lactobacillus gasseri', 'Citrobacter', 'Streptococcus mutans', 'Staphylococcus haemolyticus', 'Delftia', 'Streptococcus pyogenes', 'Staphylococcus hominis', 'Morganella morganii', 'Lelliottia', 'Rhodococcus equi', 'Psychrobacter', 'Staphylococcus saprophyticus', 'Erwinia', 'Paenibacillus glucanolyticus', 'Mycobacterium avium', 'Agrobacterium', 'Helicobacter pylori', 'Clostridium sporogenes', 'Staphylococcus capitis', 'Lactobacillus', 'Brucella melitensis', 'Brucella abortus', 'Streptococcus suis', 'Cutibacterium acnes', 'Listeria', 'Staphylococcus pasteuri', 'Streptococcus salivarius', 'Bacteroides fragilis', 'Rhodococcus rhodochrous', 'Nocardia brasiliensis', 'Delftia acidovorans', 'Aggregatibacter actinomycetemcomitans', 'Burkholderia pyrrocinia', 'Streptococcus oralis', 'Lactobacillus jensenii', 'Streptococcus gordonii', 'Streptococcus equi', 'Streptococcus dysgalactiae', 'Streptococcus mitis', 'Mycobacterium tuberculosis', 'Kluyvera cryocrescens', 'Clostridium botulinum', 'Parabacteroides distasonis', 'Ralstonia pickettii', 'Spiroplasma', 'Chlamydia psittaci']\n"
     ]
    }
   ],
   "source": [
    "file_path = 'uniquepat.txt'\n",
    "\n",
    "# Create an empty list to store the lines\n",
    "upat = []\n",
    "\n",
    "# Open the file and read each line\n",
    "with open(file_path, 'r') as file:\n",
    "    for line in file:\n",
    "        # Strip newline characters and add to the list\n",
    "        upat.append(line.strip())\n",
    "\n",
    "# Print the list to verify the contents\n",
    "print(upat)\n"
   ]
  },
  {
   "cell_type": "code",
   "execution_count": 44,
   "metadata": {
    "id": "uf-jdHX4hmJl"
   },
   "outputs": [],
   "source": [
    "def receptors(maxm,db,query):\n",
    "\n",
    "  ids = retrieve_ids(maxm,db,query)\n",
    "  titles, acc = retrieve_summary(ids,maxm)\n",
    "  aaseqs = fetch_sequences(acc)\n",
    "  titles = fix_unnamed(titles)\n",
    "\n",
    "  return titles, aaseqs\n"
   ]
  },
  {
   "cell_type": "code",
   "execution_count": 43,
   "metadata": {
    "colab": {
     "base_uri": "https://localhost:8080/",
     "height": 424
    },
    "id": "DSYzc53ryA1L",
    "outputId": "6bc87a3c-f8fa-4714-a9d7-41523c5439ba"
   },
   "outputs": [],
   "source": [
    "# maxm = 200\n",
    "# db = 'ipg'\n",
    "# alltitles = []\n",
    "# allseqs = []\n",
    "# species = [] \n",
    "\n",
    "# for pathogen in upat:\n",
    "#     query = str(pathogen)+'[ORGN] AND receptor[All fields]'\n",
    "#     print(pathogen)\n",
    "#     titles, aaseqs = receptors(maxm,db,query)\n",
    "#     alltitles += titles\n",
    "#     allseqs += aaseqs\n",
    "#     species += pathogen\n",
    "#     print(len(titles))\n",
    "    \n",
    "\n",
    "  #add species list (to link it to the phage)\n",
    "  #run this locally\n",
    "\n"
   ]
  }
 ],
 "metadata": {
  "accelerator": "GPU",
  "colab": {
   "provenance": []
  },
  "kernelspec": {
   "display_name": "Python 3 (ipykernel)",
   "language": "python",
   "name": "python3"
  },
  "language_info": {
   "codemirror_mode": {
    "name": "ipython",
    "version": 3
   },
   "file_extension": ".py",
   "mimetype": "text/x-python",
   "name": "python",
   "nbconvert_exporter": "python",
   "pygments_lexer": "ipython3",
   "version": "3.11.5"
  }
 },
 "nbformat": 4,
 "nbformat_minor": 1
}
