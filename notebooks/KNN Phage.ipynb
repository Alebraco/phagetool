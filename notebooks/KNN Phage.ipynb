{
 "cells": [
  {
   "cell_type": "code",
   "execution_count": 2,
   "id": "96debca2",
   "metadata": {},
   "outputs": [],
   "source": [
    "import json\n",
    "from Bio import Entrez, SeqIO, AlignIO\n",
    "from sklearn.neighbors import NearestNeighbors\n",
    "from sklearn import model_selection\n",
    "from sklearn.metrics import accuracy_score\n",
    "import numpy as np\n",
    "import pandas as pd\n",
    "import json\n",
    "import re\n",
    "import subprocess"
   ]
  },
  {
   "cell_type": "code",
   "execution_count": 3,
   "id": "a734b72e",
   "metadata": {},
   "outputs": [],
   "source": [
    "Entrez.email = 'alekey039@hotmail.com'"
   ]
  },
  {
   "cell_type": "code",
   "execution_count": 4,
   "id": "99202d3c",
   "metadata": {},
   "outputs": [],
   "source": [
    "with open('output.json', 'r') as file:\n",
    "        data = json.load(file)"
   ]
  },
  {
   "cell_type": "code",
   "execution_count": 37,
   "id": "9e10a5a6",
   "metadata": {},
   "outputs": [],
   "source": [
    "species = data['species']\n",
    "titles = data['titles']"
   ]
  },
  {
   "cell_type": "code",
   "execution_count": 38,
   "id": "69297ed6",
   "metadata": {},
   "outputs": [],
   "source": [
    "species_dict = {}\n",
    "for sp, protein in zip(species, titles):\n",
    "    if sp not in species_dict:\n",
    "        species_dict[sp] = []\n",
    "    if protein not in species_dict[sp]:\n",
    "        species_dict[sp].append(protein)"
   ]
  },
  {
   "cell_type": "code",
   "execution_count": 39,
   "id": "a9220e1f",
   "metadata": {},
   "outputs": [],
   "source": [
    "unique_sp = sorted(set(species)) \n",
    "unique_titles = sorted(set(titles)) # these two lists do not need to have corresponding order\n",
    "\n",
    "df = pd.DataFrame(index = unique_sp, columns = unique_titles)"
   ]
  },
  {
   "cell_type": "code",
   "execution_count": 40,
   "id": "c041db4c",
   "metadata": {},
   "outputs": [],
   "source": [
    "for sp in df.index:\n",
    "    df.loc[sp] = df.columns.isin(species_dict.get(sp, False)).astype(int)"
   ]
  },
  {
   "cell_type": "code",
   "execution_count": 41,
   "id": "ea998641",
   "metadata": {
    "scrolled": true
   },
   "outputs": [
    {
     "data": {
      "text/html": [
       "<div>\n",
       "<style scoped>\n",
       "    .dataframe tbody tr th:only-of-type {\n",
       "        vertical-align: middle;\n",
       "    }\n",
       "\n",
       "    .dataframe tbody tr th {\n",
       "        vertical-align: top;\n",
       "    }\n",
       "\n",
       "    .dataframe thead th {\n",
       "        text-align: right;\n",
       "    }\n",
       "</style>\n",
       "<table border=\"1\" class=\"dataframe\">\n",
       "  <thead>\n",
       "    <tr style=\"text-align: right;\">\n",
       "      <th></th>\n",
       "      <th>2,3-diketo-L-gulonate TRAP transporter substrate-binding protein YiaO</th>\n",
       "      <th>2,3-diketo-L-gulonate-binding periplasmic protein</th>\n",
       "      <th>2,3-diketo-L-gulonate-binding periplasmic protein YiaO (2,3-DKG-binding protein) (Extracytoplasmic solute receptor protein yiaO)</th>\n",
       "      <th>2,3-diketo-L-gulonate-binding periplasmic protein YiaO precursor</th>\n",
       "      <th>2-methylaconitate cis-trans-isomerase PrpF/tripartite-type tricarboxylate transporter receptor subunit TctC</th>\n",
       "      <th>3'-5' exonuclease</th>\n",
       "      <th>3-hydroxyacyl-CoA dehydrogenase</th>\n",
       "      <th>4-(cytidine 5'-diphospho)-2-C-methyl-D-erythritol kinase</th>\n",
       "      <th>4-amino-4-deoxy-L-arabinose-phosphoundecaprenol flippase subunit ArnF</th>\n",
       "      <th>5'-nucleotidase C-terminal domain-containing protein</th>\n",
       "      <th>...</th>\n",
       "      <th>zeta toxin family protein</th>\n",
       "      <th>zinc ABC transporter substrate-binding protein</th>\n",
       "      <th>zinc piracy TonB-dependent receptor ZnuD</th>\n",
       "      <th>zinc ribbon domain-containing protein</th>\n",
       "      <th>zinc-binding dehydrogenase</th>\n",
       "      <th>zinc-dependent alcohol dehydrogenase family protein</th>\n",
       "      <th>zinc-regulated TonB-dependent outer membrane receptor</th>\n",
       "      <th>zinc-regulated TonB-dependent outer membrane receptor domain protein</th>\n",
       "      <th>zinc-regulated outer membrane receptor</th>\n",
       "      <th>zonular occludens toxin domain-containing protein</th>\n",
       "    </tr>\n",
       "  </thead>\n",
       "  <tbody>\n",
       "    <tr>\n",
       "      <th>Achromobacter</th>\n",
       "      <td>0</td>\n",
       "      <td>0</td>\n",
       "      <td>0</td>\n",
       "      <td>0</td>\n",
       "      <td>0</td>\n",
       "      <td>0</td>\n",
       "      <td>0</td>\n",
       "      <td>0</td>\n",
       "      <td>0</td>\n",
       "      <td>0</td>\n",
       "      <td>...</td>\n",
       "      <td>0</td>\n",
       "      <td>0</td>\n",
       "      <td>0</td>\n",
       "      <td>0</td>\n",
       "      <td>0</td>\n",
       "      <td>0</td>\n",
       "      <td>0</td>\n",
       "      <td>0</td>\n",
       "      <td>0</td>\n",
       "      <td>0</td>\n",
       "    </tr>\n",
       "    <tr>\n",
       "      <th>Achromobacter animicus</th>\n",
       "      <td>0</td>\n",
       "      <td>0</td>\n",
       "      <td>0</td>\n",
       "      <td>0</td>\n",
       "      <td>0</td>\n",
       "      <td>0</td>\n",
       "      <td>0</td>\n",
       "      <td>0</td>\n",
       "      <td>0</td>\n",
       "      <td>0</td>\n",
       "      <td>...</td>\n",
       "      <td>0</td>\n",
       "      <td>0</td>\n",
       "      <td>0</td>\n",
       "      <td>0</td>\n",
       "      <td>0</td>\n",
       "      <td>0</td>\n",
       "      <td>0</td>\n",
       "      <td>0</td>\n",
       "      <td>0</td>\n",
       "      <td>0</td>\n",
       "    </tr>\n",
       "    <tr>\n",
       "      <th>Achromobacter xylosoxidans</th>\n",
       "      <td>0</td>\n",
       "      <td>0</td>\n",
       "      <td>0</td>\n",
       "      <td>0</td>\n",
       "      <td>0</td>\n",
       "      <td>0</td>\n",
       "      <td>0</td>\n",
       "      <td>0</td>\n",
       "      <td>0</td>\n",
       "      <td>0</td>\n",
       "      <td>...</td>\n",
       "      <td>0</td>\n",
       "      <td>0</td>\n",
       "      <td>0</td>\n",
       "      <td>0</td>\n",
       "      <td>0</td>\n",
       "      <td>0</td>\n",
       "      <td>0</td>\n",
       "      <td>0</td>\n",
       "      <td>0</td>\n",
       "      <td>0</td>\n",
       "    </tr>\n",
       "    <tr>\n",
       "      <th>Acinetobacter</th>\n",
       "      <td>1</td>\n",
       "      <td>0</td>\n",
       "      <td>0</td>\n",
       "      <td>0</td>\n",
       "      <td>0</td>\n",
       "      <td>0</td>\n",
       "      <td>0</td>\n",
       "      <td>0</td>\n",
       "      <td>0</td>\n",
       "      <td>0</td>\n",
       "      <td>...</td>\n",
       "      <td>0</td>\n",
       "      <td>0</td>\n",
       "      <td>1</td>\n",
       "      <td>0</td>\n",
       "      <td>0</td>\n",
       "      <td>0</td>\n",
       "      <td>0</td>\n",
       "      <td>0</td>\n",
       "      <td>0</td>\n",
       "      <td>1</td>\n",
       "    </tr>\n",
       "    <tr>\n",
       "      <th>Acinetobacter baumannii</th>\n",
       "      <td>1</td>\n",
       "      <td>0</td>\n",
       "      <td>0</td>\n",
       "      <td>0</td>\n",
       "      <td>0</td>\n",
       "      <td>0</td>\n",
       "      <td>0</td>\n",
       "      <td>0</td>\n",
       "      <td>0</td>\n",
       "      <td>0</td>\n",
       "      <td>...</td>\n",
       "      <td>0</td>\n",
       "      <td>0</td>\n",
       "      <td>1</td>\n",
       "      <td>0</td>\n",
       "      <td>0</td>\n",
       "      <td>0</td>\n",
       "      <td>0</td>\n",
       "      <td>0</td>\n",
       "      <td>0</td>\n",
       "      <td>0</td>\n",
       "    </tr>\n",
       "    <tr>\n",
       "      <th>...</th>\n",
       "      <td>...</td>\n",
       "      <td>...</td>\n",
       "      <td>...</td>\n",
       "      <td>...</td>\n",
       "      <td>...</td>\n",
       "      <td>...</td>\n",
       "      <td>...</td>\n",
       "      <td>...</td>\n",
       "      <td>...</td>\n",
       "      <td>...</td>\n",
       "      <td>...</td>\n",
       "      <td>...</td>\n",
       "      <td>...</td>\n",
       "      <td>...</td>\n",
       "      <td>...</td>\n",
       "      <td>...</td>\n",
       "      <td>...</td>\n",
       "      <td>...</td>\n",
       "      <td>...</td>\n",
       "      <td>...</td>\n",
       "      <td>...</td>\n",
       "    </tr>\n",
       "    <tr>\n",
       "      <th>Vibrio vulnificus</th>\n",
       "      <td>0</td>\n",
       "      <td>0</td>\n",
       "      <td>0</td>\n",
       "      <td>0</td>\n",
       "      <td>0</td>\n",
       "      <td>0</td>\n",
       "      <td>0</td>\n",
       "      <td>0</td>\n",
       "      <td>0</td>\n",
       "      <td>0</td>\n",
       "      <td>...</td>\n",
       "      <td>0</td>\n",
       "      <td>0</td>\n",
       "      <td>0</td>\n",
       "      <td>0</td>\n",
       "      <td>0</td>\n",
       "      <td>0</td>\n",
       "      <td>1</td>\n",
       "      <td>0</td>\n",
       "      <td>0</td>\n",
       "      <td>0</td>\n",
       "    </tr>\n",
       "    <tr>\n",
       "      <th>Weissella</th>\n",
       "      <td>0</td>\n",
       "      <td>0</td>\n",
       "      <td>0</td>\n",
       "      <td>0</td>\n",
       "      <td>0</td>\n",
       "      <td>0</td>\n",
       "      <td>0</td>\n",
       "      <td>0</td>\n",
       "      <td>0</td>\n",
       "      <td>0</td>\n",
       "      <td>...</td>\n",
       "      <td>0</td>\n",
       "      <td>0</td>\n",
       "      <td>0</td>\n",
       "      <td>0</td>\n",
       "      <td>0</td>\n",
       "      <td>0</td>\n",
       "      <td>0</td>\n",
       "      <td>0</td>\n",
       "      <td>0</td>\n",
       "      <td>0</td>\n",
       "    </tr>\n",
       "    <tr>\n",
       "      <th>Yersinia enterocolitica</th>\n",
       "      <td>0</td>\n",
       "      <td>0</td>\n",
       "      <td>0</td>\n",
       "      <td>0</td>\n",
       "      <td>0</td>\n",
       "      <td>0</td>\n",
       "      <td>0</td>\n",
       "      <td>0</td>\n",
       "      <td>0</td>\n",
       "      <td>0</td>\n",
       "      <td>...</td>\n",
       "      <td>0</td>\n",
       "      <td>0</td>\n",
       "      <td>0</td>\n",
       "      <td>0</td>\n",
       "      <td>0</td>\n",
       "      <td>0</td>\n",
       "      <td>0</td>\n",
       "      <td>0</td>\n",
       "      <td>0</td>\n",
       "      <td>0</td>\n",
       "    </tr>\n",
       "    <tr>\n",
       "      <th>Yersinia pestis</th>\n",
       "      <td>0</td>\n",
       "      <td>0</td>\n",
       "      <td>0</td>\n",
       "      <td>0</td>\n",
       "      <td>0</td>\n",
       "      <td>0</td>\n",
       "      <td>0</td>\n",
       "      <td>0</td>\n",
       "      <td>0</td>\n",
       "      <td>0</td>\n",
       "      <td>...</td>\n",
       "      <td>0</td>\n",
       "      <td>0</td>\n",
       "      <td>0</td>\n",
       "      <td>0</td>\n",
       "      <td>0</td>\n",
       "      <td>0</td>\n",
       "      <td>0</td>\n",
       "      <td>0</td>\n",
       "      <td>0</td>\n",
       "      <td>0</td>\n",
       "    </tr>\n",
       "    <tr>\n",
       "      <th>Yersinia pseudotuberculosis</th>\n",
       "      <td>0</td>\n",
       "      <td>0</td>\n",
       "      <td>0</td>\n",
       "      <td>0</td>\n",
       "      <td>0</td>\n",
       "      <td>0</td>\n",
       "      <td>0</td>\n",
       "      <td>0</td>\n",
       "      <td>0</td>\n",
       "      <td>0</td>\n",
       "      <td>...</td>\n",
       "      <td>0</td>\n",
       "      <td>0</td>\n",
       "      <td>0</td>\n",
       "      <td>0</td>\n",
       "      <td>0</td>\n",
       "      <td>0</td>\n",
       "      <td>0</td>\n",
       "      <td>0</td>\n",
       "      <td>0</td>\n",
       "      <td>0</td>\n",
       "    </tr>\n",
       "  </tbody>\n",
       "</table>\n",
       "<p>200 rows × 2550 columns</p>\n",
       "</div>"
      ],
      "text/plain": [
       "                            2,3-diketo-L-gulonate TRAP transporter substrate-binding protein YiaO  \\\n",
       "Achromobacter                                                                0                      \n",
       "Achromobacter animicus                                                       0                      \n",
       "Achromobacter xylosoxidans                                                   0                      \n",
       "Acinetobacter                                                                1                      \n",
       "Acinetobacter baumannii                                                      1                      \n",
       "...                                                                        ...                      \n",
       "Vibrio vulnificus                                                            0                      \n",
       "Weissella                                                                    0                      \n",
       "Yersinia enterocolitica                                                      0                      \n",
       "Yersinia pestis                                                              0                      \n",
       "Yersinia pseudotuberculosis                                                  0                      \n",
       "\n",
       "                            2,3-diketo-L-gulonate-binding periplasmic protein  \\\n",
       "Achromobacter                                                               0   \n",
       "Achromobacter animicus                                                      0   \n",
       "Achromobacter xylosoxidans                                                  0   \n",
       "Acinetobacter                                                               0   \n",
       "Acinetobacter baumannii                                                     0   \n",
       "...                                                                       ...   \n",
       "Vibrio vulnificus                                                           0   \n",
       "Weissella                                                                   0   \n",
       "Yersinia enterocolitica                                                     0   \n",
       "Yersinia pestis                                                             0   \n",
       "Yersinia pseudotuberculosis                                                 0   \n",
       "\n",
       "                            2,3-diketo-L-gulonate-binding periplasmic protein YiaO (2,3-DKG-binding protein) (Extracytoplasmic solute receptor protein yiaO)  \\\n",
       "Achromobacter                                                                0                                                                                 \n",
       "Achromobacter animicus                                                       0                                                                                 \n",
       "Achromobacter xylosoxidans                                                   0                                                                                 \n",
       "Acinetobacter                                                                0                                                                                 \n",
       "Acinetobacter baumannii                                                      0                                                                                 \n",
       "...                                                                        ...                                                                                 \n",
       "Vibrio vulnificus                                                            0                                                                                 \n",
       "Weissella                                                                    0                                                                                 \n",
       "Yersinia enterocolitica                                                      0                                                                                 \n",
       "Yersinia pestis                                                              0                                                                                 \n",
       "Yersinia pseudotuberculosis                                                  0                                                                                 \n",
       "\n",
       "                            2,3-diketo-L-gulonate-binding periplasmic protein YiaO precursor  \\\n",
       "Achromobacter                                                                0                 \n",
       "Achromobacter animicus                                                       0                 \n",
       "Achromobacter xylosoxidans                                                   0                 \n",
       "Acinetobacter                                                                0                 \n",
       "Acinetobacter baumannii                                                      0                 \n",
       "...                                                                        ...                 \n",
       "Vibrio vulnificus                                                            0                 \n",
       "Weissella                                                                    0                 \n",
       "Yersinia enterocolitica                                                      0                 \n",
       "Yersinia pestis                                                              0                 \n",
       "Yersinia pseudotuberculosis                                                  0                 \n",
       "\n",
       "                            2-methylaconitate cis-trans-isomerase PrpF/tripartite-type tricarboxylate transporter receptor subunit TctC  \\\n",
       "Achromobacter                                                                0                                                            \n",
       "Achromobacter animicus                                                       0                                                            \n",
       "Achromobacter xylosoxidans                                                   0                                                            \n",
       "Acinetobacter                                                                0                                                            \n",
       "Acinetobacter baumannii                                                      0                                                            \n",
       "...                                                                        ...                                                            \n",
       "Vibrio vulnificus                                                            0                                                            \n",
       "Weissella                                                                    0                                                            \n",
       "Yersinia enterocolitica                                                      0                                                            \n",
       "Yersinia pestis                                                              0                                                            \n",
       "Yersinia pseudotuberculosis                                                  0                                                            \n",
       "\n",
       "                            3'-5' exonuclease 3-hydroxyacyl-CoA dehydrogenase  \\\n",
       "Achromobacter                               0                               0   \n",
       "Achromobacter animicus                      0                               0   \n",
       "Achromobacter xylosoxidans                  0                               0   \n",
       "Acinetobacter                               0                               0   \n",
       "Acinetobacter baumannii                     0                               0   \n",
       "...                                       ...                             ...   \n",
       "Vibrio vulnificus                           0                               0   \n",
       "Weissella                                   0                               0   \n",
       "Yersinia enterocolitica                     0                               0   \n",
       "Yersinia pestis                             0                               0   \n",
       "Yersinia pseudotuberculosis                 0                               0   \n",
       "\n",
       "                            4-(cytidine 5'-diphospho)-2-C-methyl-D-erythritol kinase  \\\n",
       "Achromobacter                                                                0         \n",
       "Achromobacter animicus                                                       0         \n",
       "Achromobacter xylosoxidans                                                   0         \n",
       "Acinetobacter                                                                0         \n",
       "Acinetobacter baumannii                                                      0         \n",
       "...                                                                        ...         \n",
       "Vibrio vulnificus                                                            0         \n",
       "Weissella                                                                    0         \n",
       "Yersinia enterocolitica                                                      0         \n",
       "Yersinia pestis                                                              0         \n",
       "Yersinia pseudotuberculosis                                                  0         \n",
       "\n",
       "                            4-amino-4-deoxy-L-arabinose-phosphoundecaprenol flippase subunit ArnF  \\\n",
       "Achromobacter                                                                0                      \n",
       "Achromobacter animicus                                                       0                      \n",
       "Achromobacter xylosoxidans                                                   0                      \n",
       "Acinetobacter                                                                0                      \n",
       "Acinetobacter baumannii                                                      0                      \n",
       "...                                                                        ...                      \n",
       "Vibrio vulnificus                                                            0                      \n",
       "Weissella                                                                    0                      \n",
       "Yersinia enterocolitica                                                      0                      \n",
       "Yersinia pestis                                                              0                      \n",
       "Yersinia pseudotuberculosis                                                  0                      \n",
       "\n",
       "                            5'-nucleotidase C-terminal domain-containing protein  \\\n",
       "Achromobacter                                                                0     \n",
       "Achromobacter animicus                                                       0     \n",
       "Achromobacter xylosoxidans                                                   0     \n",
       "Acinetobacter                                                                0     \n",
       "Acinetobacter baumannii                                                      0     \n",
       "...                                                                        ...     \n",
       "Vibrio vulnificus                                                            0     \n",
       "Weissella                                                                    0     \n",
       "Yersinia enterocolitica                                                      0     \n",
       "Yersinia pestis                                                              0     \n",
       "Yersinia pseudotuberculosis                                                  0     \n",
       "\n",
       "                             ... zeta toxin family protein  \\\n",
       "Achromobacter                ...                         0   \n",
       "Achromobacter animicus       ...                         0   \n",
       "Achromobacter xylosoxidans   ...                         0   \n",
       "Acinetobacter                ...                         0   \n",
       "Acinetobacter baumannii      ...                         0   \n",
       "...                          ...                       ...   \n",
       "Vibrio vulnificus            ...                         0   \n",
       "Weissella                    ...                         0   \n",
       "Yersinia enterocolitica      ...                         0   \n",
       "Yersinia pestis              ...                         0   \n",
       "Yersinia pseudotuberculosis  ...                         0   \n",
       "\n",
       "                            zinc ABC transporter substrate-binding protein  \\\n",
       "Achromobacter                                                            0   \n",
       "Achromobacter animicus                                                   0   \n",
       "Achromobacter xylosoxidans                                               0   \n",
       "Acinetobacter                                                            0   \n",
       "Acinetobacter baumannii                                                  0   \n",
       "...                                                                    ...   \n",
       "Vibrio vulnificus                                                        0   \n",
       "Weissella                                                                0   \n",
       "Yersinia enterocolitica                                                  0   \n",
       "Yersinia pestis                                                          0   \n",
       "Yersinia pseudotuberculosis                                              0   \n",
       "\n",
       "                            zinc piracy TonB-dependent receptor ZnuD  \\\n",
       "Achromobacter                                                      0   \n",
       "Achromobacter animicus                                             0   \n",
       "Achromobacter xylosoxidans                                         0   \n",
       "Acinetobacter                                                      1   \n",
       "Acinetobacter baumannii                                            1   \n",
       "...                                                              ...   \n",
       "Vibrio vulnificus                                                  0   \n",
       "Weissella                                                          0   \n",
       "Yersinia enterocolitica                                            0   \n",
       "Yersinia pestis                                                    0   \n",
       "Yersinia pseudotuberculosis                                        0   \n",
       "\n",
       "                            zinc ribbon domain-containing protein  \\\n",
       "Achromobacter                                                   0   \n",
       "Achromobacter animicus                                          0   \n",
       "Achromobacter xylosoxidans                                      0   \n",
       "Acinetobacter                                                   0   \n",
       "Acinetobacter baumannii                                         0   \n",
       "...                                                           ...   \n",
       "Vibrio vulnificus                                               0   \n",
       "Weissella                                                       0   \n",
       "Yersinia enterocolitica                                         0   \n",
       "Yersinia pestis                                                 0   \n",
       "Yersinia pseudotuberculosis                                     0   \n",
       "\n",
       "                            zinc-binding dehydrogenase  \\\n",
       "Achromobacter                                        0   \n",
       "Achromobacter animicus                               0   \n",
       "Achromobacter xylosoxidans                           0   \n",
       "Acinetobacter                                        0   \n",
       "Acinetobacter baumannii                              0   \n",
       "...                                                ...   \n",
       "Vibrio vulnificus                                    0   \n",
       "Weissella                                            0   \n",
       "Yersinia enterocolitica                              0   \n",
       "Yersinia pestis                                      0   \n",
       "Yersinia pseudotuberculosis                          0   \n",
       "\n",
       "                            zinc-dependent alcohol dehydrogenase family protein  \\\n",
       "Achromobacter                                                                0    \n",
       "Achromobacter animicus                                                       0    \n",
       "Achromobacter xylosoxidans                                                   0    \n",
       "Acinetobacter                                                                0    \n",
       "Acinetobacter baumannii                                                      0    \n",
       "...                                                                        ...    \n",
       "Vibrio vulnificus                                                            0    \n",
       "Weissella                                                                    0    \n",
       "Yersinia enterocolitica                                                      0    \n",
       "Yersinia pestis                                                              0    \n",
       "Yersinia pseudotuberculosis                                                  0    \n",
       "\n",
       "                            zinc-regulated TonB-dependent outer membrane receptor  \\\n",
       "Achromobacter                                                                0      \n",
       "Achromobacter animicus                                                       0      \n",
       "Achromobacter xylosoxidans                                                   0      \n",
       "Acinetobacter                                                                0      \n",
       "Acinetobacter baumannii                                                      0      \n",
       "...                                                                        ...      \n",
       "Vibrio vulnificus                                                            1      \n",
       "Weissella                                                                    0      \n",
       "Yersinia enterocolitica                                                      0      \n",
       "Yersinia pestis                                                              0      \n",
       "Yersinia pseudotuberculosis                                                  0      \n",
       "\n",
       "                            zinc-regulated TonB-dependent outer membrane receptor domain protein  \\\n",
       "Achromobacter                                                                0                     \n",
       "Achromobacter animicus                                                       0                     \n",
       "Achromobacter xylosoxidans                                                   0                     \n",
       "Acinetobacter                                                                0                     \n",
       "Acinetobacter baumannii                                                      0                     \n",
       "...                                                                        ...                     \n",
       "Vibrio vulnificus                                                            0                     \n",
       "Weissella                                                                    0                     \n",
       "Yersinia enterocolitica                                                      0                     \n",
       "Yersinia pestis                                                              0                     \n",
       "Yersinia pseudotuberculosis                                                  0                     \n",
       "\n",
       "                            zinc-regulated outer membrane receptor  \\\n",
       "Achromobacter                                                    0   \n",
       "Achromobacter animicus                                           0   \n",
       "Achromobacter xylosoxidans                                       0   \n",
       "Acinetobacter                                                    0   \n",
       "Acinetobacter baumannii                                          0   \n",
       "...                                                            ...   \n",
       "Vibrio vulnificus                                                0   \n",
       "Weissella                                                        0   \n",
       "Yersinia enterocolitica                                          0   \n",
       "Yersinia pestis                                                  0   \n",
       "Yersinia pseudotuberculosis                                      0   \n",
       "\n",
       "                            zonular occludens toxin domain-containing protein  \n",
       "Achromobacter                                                               0  \n",
       "Achromobacter animicus                                                      0  \n",
       "Achromobacter xylosoxidans                                                  0  \n",
       "Acinetobacter                                                               1  \n",
       "Acinetobacter baumannii                                                     0  \n",
       "...                                                                       ...  \n",
       "Vibrio vulnificus                                                           0  \n",
       "Weissella                                                                   0  \n",
       "Yersinia enterocolitica                                                     0  \n",
       "Yersinia pestis                                                             0  \n",
       "Yersinia pseudotuberculosis                                                 0  \n",
       "\n",
       "[200 rows x 2550 columns]"
      ]
     },
     "execution_count": 41,
     "metadata": {},
     "output_type": "execute_result"
    }
   ],
   "source": [
    "df"
   ]
  },
  {
   "cell_type": "code",
   "execution_count": 42,
   "id": "5a792c04",
   "metadata": {},
   "outputs": [
    {
     "data": {
      "text/plain": [
       "(200, 2550)"
      ]
     },
     "execution_count": 42,
     "metadata": {},
     "output_type": "execute_result"
    }
   ],
   "source": [
    "features_array = df.to_numpy() # -> features\n",
    "features_array.shape\n",
    "\n",
    "#unique_titles -> labels "
   ]
  },
  {
   "cell_type": "code",
   "execution_count": 43,
   "id": "ff3285d5",
   "metadata": {},
   "outputs": [
    {
     "name": "stdout",
     "output_type": "stream",
     "text": [
      "200 200\n"
     ]
    }
   ],
   "source": [
    "test = unique_sp[174]\n",
    "test_features = features_array[[174]]\n",
    "print(len(features_array), len(unique_sp))"
   ]
  },
  {
   "cell_type": "code",
   "execution_count": 44,
   "id": "0629c2d1",
   "metadata": {},
   "outputs": [],
   "source": [
    "nn_model = NearestNeighbors(n_neighbors = 5, metric = 'hamming') \n",
    "nn_model.fit(features_array)\n",
    "\n",
    "tdistances, tindices = nn_model.kneighbors(test_features, n_neighbors = 5)"
   ]
  },
  {
   "cell_type": "code",
   "execution_count": 45,
   "id": "eb83b44f",
   "metadata": {},
   "outputs": [
    {
     "data": {
      "text/plain": [
       "'Stenotrophomonas'"
      ]
     },
     "execution_count": 45,
     "metadata": {},
     "output_type": "execute_result"
    }
   ],
   "source": [
    "unique_sp[174]"
   ]
  },
  {
   "cell_type": "code",
   "execution_count": 46,
   "id": "9b8c9a64",
   "metadata": {},
   "outputs": [
    {
     "data": {
      "text/plain": [
       "(array([174, 175,  61,  59,  34]),\n",
       " array([0.        , 0.01843137, 0.0772549 , 0.08039216, 0.08117647]))"
      ]
     },
     "execution_count": 46,
     "metadata": {},
     "output_type": "execute_result"
    }
   ],
   "source": [
    "tindices[0], tdistances[0]"
   ]
  },
  {
   "cell_type": "code",
   "execution_count": 47,
   "id": "7f323d9d",
   "metadata": {},
   "outputs": [
    {
     "name": "stdout",
     "output_type": "stream",
     "text": [
      "Stenotrophomonas\n",
      "Stenotrophomonas maltophilia\n",
      "Delftia tsuruhatensis\n",
      "Delftia\n",
      "Burkholderia gladioli\n"
     ]
    }
   ],
   "source": [
    "for i in tindices[0]:\n",
    "    print(unique_sp[i])"
   ]
  },
  {
   "cell_type": "code",
   "execution_count": 48,
   "id": "37008cfb",
   "metadata": {},
   "outputs": [
    {
     "name": "stdout",
     "output_type": "stream",
     "text": [
      "0.0\n",
      "0.01843137254901961\n",
      "0.07725490196078431\n",
      "0.0803921568627451\n",
      "0.0811764705882353\n"
     ]
    }
   ],
   "source": [
    "for d in tdistances[0]:\n",
    "    print(d)"
   ]
  },
  {
   "cell_type": "code",
   "execution_count": 49,
   "id": "cb799365",
   "metadata": {},
   "outputs": [
    {
     "name": "stdout",
     "output_type": "stream",
     "text": [
      "199 199\n"
     ]
    }
   ],
   "source": [
    "modified_array = np.delete(features_array, 174, axis=0)\n",
    "modified_labels = list(unique_sp)\n",
    "modified_labels.pop(174)\n",
    "print(len(modified_array), len(modified_labels))"
   ]
  },
  {
   "cell_type": "code",
   "execution_count": 50,
   "id": "992f589a",
   "metadata": {},
   "outputs": [],
   "source": [
    "nn_model = NearestNeighbors(n_neighbors = 5, metric = 'hamming')\n",
    "nn_model.fit(modified_array)\n",
    "\n",
    "distances, indices = nn_model.kneighbors(test_features, n_neighbors = 1)"
   ]
  },
  {
   "cell_type": "code",
   "execution_count": 51,
   "id": "32059424",
   "metadata": {},
   "outputs": [
    {
     "data": {
      "text/plain": [
       "'Stenotrophomonas'"
      ]
     },
     "execution_count": 51,
     "metadata": {},
     "output_type": "execute_result"
    }
   ],
   "source": [
    "unique_sp[174] # Use unique_sp since modified_labels does not have this element"
   ]
  },
  {
   "cell_type": "code",
   "execution_count": 52,
   "id": "9abad9a1",
   "metadata": {},
   "outputs": [
    {
     "data": {
      "text/plain": [
       "(array([174]), array([0.01843137]))"
      ]
     },
     "execution_count": 52,
     "metadata": {},
     "output_type": "execute_result"
    }
   ],
   "source": [
    "indices[0], distances[0]"
   ]
  },
  {
   "cell_type": "code",
   "execution_count": 53,
   "id": "232e9343",
   "metadata": {},
   "outputs": [
    {
     "name": "stdout",
     "output_type": "stream",
     "text": [
      "Stenotrophomonas maltophilia\n"
     ]
    }
   ],
   "source": [
    "similar = []\n",
    "for i in indices[0]:\n",
    "    print(modified_labels[i])\n",
    "    similar.append(modified_labels[i])"
   ]
  },
  {
   "cell_type": "code",
   "execution_count": 54,
   "id": "e416fcf0",
   "metadata": {},
   "outputs": [
    {
     "name": "stdout",
     "output_type": "stream",
     "text": [
      "0.01843137254901961\n"
     ]
    }
   ],
   "source": [
    "for d in distances[0]:\n",
    "    print(d)"
   ]
  },
  {
   "cell_type": "code",
   "execution_count": 7,
   "id": "c20eabb6",
   "metadata": {
    "scrolled": false
   },
   "outputs": [],
   "source": [
    "with open('phagedicts.json', 'r') as f:\n",
    "    phageinfo = json.load(f)"
   ]
  },
  {
   "cell_type": "code",
   "execution_count": 8,
   "id": "dafa7526",
   "metadata": {
    "scrolled": true
   },
   "outputs": [
    {
     "ename": "NameError",
     "evalue": "name 'similar' is not defined",
     "output_type": "error",
     "traceback": [
      "\u001b[1;31m---------------------------------------------------------------------------\u001b[0m",
      "\u001b[1;31mNameError\u001b[0m                                 Traceback (most recent call last)",
      "Cell \u001b[1;32mIn[8], line 1\u001b[0m\n\u001b[1;32m----> 1\u001b[0m cocktail \u001b[38;5;241m=\u001b[39m {host:[record[\u001b[38;5;124m'\u001b[39m\u001b[38;5;124mid\u001b[39m\u001b[38;5;124m'\u001b[39m] \u001b[38;5;28;01mfor\u001b[39;00m record \u001b[38;5;129;01min\u001b[39;00m phageinfo \u001b[38;5;28;01mif\u001b[39;00m record[\u001b[38;5;124m'\u001b[39m\u001b[38;5;124mhost\u001b[39m\u001b[38;5;124m'\u001b[39m] \u001b[38;5;241m==\u001b[39m host] \u001b[38;5;28;01mfor\u001b[39;00m host \u001b[38;5;129;01min\u001b[39;00m similar}\n\u001b[0;32m      2\u001b[0m cocktail_names \u001b[38;5;241m=\u001b[39m [record[\u001b[38;5;124m'\u001b[39m\u001b[38;5;124mphage\u001b[39m\u001b[38;5;124m'\u001b[39m] \u001b[38;5;28;01mfor\u001b[39;00m record \u001b[38;5;129;01min\u001b[39;00m phageinfo \u001b[38;5;28;01mif\u001b[39;00m record[\u001b[38;5;124m'\u001b[39m\u001b[38;5;124mhost\u001b[39m\u001b[38;5;124m'\u001b[39m] \u001b[38;5;129;01min\u001b[39;00m similar]\n\u001b[0;32m      4\u001b[0m \u001b[38;5;28mprint\u001b[39m(cocktail)\n",
      "\u001b[1;31mNameError\u001b[0m: name 'similar' is not defined"
     ]
    }
   ],
   "source": [
    "cocktail = {host:[record['id'] for record in phageinfo if record['host'] == host] for host in similar}\n",
    "cocktail_names = [record['phage'] for record in phageinfo if record['host'] in similar]\n",
    "\n",
    "print(cocktail)"
   ]
  },
  {
   "cell_type": "code",
   "execution_count": 57,
   "id": "b1d00c9d",
   "metadata": {
    "scrolled": true
   },
   "outputs": [],
   "source": [
    "# Retrieve genomes\n",
    "seqs = []\n",
    "for bact, ids in cocktail.items():\n",
    "    handle = Entrez.efetch(db='nucleotide', id = ids, rettype = 'fasta', retmode = 'text')\n",
    "    for record in SeqIO.parse(handle, 'fasta'):\n",
    "        seqs.append(record)\n",
    "    handle.close()\n",
    "    \n",
    "with open('phages.fasta', 'w') as file:\n",
    "    SeqIO.write(seqs, file, 'fasta')"
   ]
  },
  {
   "cell_type": "code",
   "execution_count": 60,
   "id": "bac031c3",
   "metadata": {},
   "outputs": [],
   "source": [
    "def align_sequences(input_file, output_file):\n",
    "    mafft_command = f'mafft --auto {input_file} > {output_file}'\n",
    "    subprocess.call(mafft_command, shell=True)"
   ]
  },
  {
   "cell_type": "code",
   "execution_count": 61,
   "id": "6a562ecc",
   "metadata": {},
   "outputs": [
    {
     "name": "stderr",
     "output_type": "stream",
     "text": [
      "nthread = 0\n",
      "nthreadpair = 0\n",
      "nthreadtb = 0\n",
      "ppenalty_ex = 0\n",
      "stacksize: 8176 kb\n",
      "generating a scoring matrix for nucleotide (dist=200) ... done\n",
      "Gap Penalty = -1.53, +0.00, +0.00\n",
      "\n",
      "\n",
      "\n",
      "Making a distance matrix ..\n",
      "\n",
      "There are 98 ambiguous characters.\n",
      "    1 / 30\n",
      "done.\n",
      "\n",
      "Constructing a UPGMA tree (efffree=0) ... \n",
      "   20 / 30\n",
      "done.\n",
      "\n",
      "Progressive alignment 1/2... \n",
      "STEP     1 / 29 \n",
      "len1=162327, len2=5819, Switching to the memsave mode\n",
      "STEP    10 / 29 mDP 00001 / 00001DP 00001 / 00001DP 00001 / 00001DP 00001 / 00001DP 00001 / 00001DP 00001 / 00001DP 00001 / 00716DP 00002 / 00716DP 00003 / 00716DP 00004 / 00716DP 00005 / 00716DP 00006 / 00716DP 00007 / 00716DP 00008 / 00716DP 00009 / 00716DP 00010 / 00716DP 00011 / 00716DP 00012 / 00716DP 00013 / 00716DP 00014 / 00716DP 00015 / 00716DP 00016 / 00716DP 00017 / 00716DP 00018 / 00716DP 00019 / 00716DP 00020 / 00716DP 00021 / 00716DP 00022 / 00716DP 00023 / 00716DP 00024 / 00716DP 00025 / 00716DP 00026 / 00716DP 00027 / 00716DP 00028 / 00716DP 00029 / 00716DP 00030 / 00716DP 00031 / 00716DP 00032 / 00716DP 00033 / 00716DP 00034 / 00716DP 00035 / 00716DP 00036 / 00716DP 00037 / 00716DP 00038 / 00716DP 00039 / 00716DP 00040 / 00716DP 00041 / 00716DP 00042 / 00716DP 00043 / 00716DP 00044 / 00716DP 00045 / 00716DP 00046 / 00716DP 00047 / 00716DP 00048 / 00716DP 00049 / 00716DP 00050 / 00716DP 00051 / 00716DP 00052 / 00716DP 00053 / 00716DP 00054 / 00716DP 00055 / 00716DP 00056 / 00716DP 00057 / 00716DP 00058 / 00716DP 00059 / 00716DP 00060 / 00716DP 00061 / 00716DP 00062 / 00716DP 00063 / 00716DP 00064 / 00716DP 00065 / 00716DP 00066 / 00716DP 00067 / 00716DP 00068 / 00716DP 00069 / 00716DP 00070 / 00716DP 00071 / 00716DP 00072 / 00716DP 00073 / 00716DP 00074 / 00716DP 00075 / 00716DP 00076 / 00716DP 00077 / 00716DP 00078 / 00716DP 00079 / 00716DP 00080 / 00716DP 00081 / 00716DP 00082 / 00716DP 00083 / 00716DP 00084 / 00716DP 00085 / 00716DP 00086 / 00716DP 00087 / 00716DP 00088 / 00716DP 00089 / 00716DP 00090 / 00716DP 00091 / 00716DP 00092 / 00716DP 00093 / 00716DP 00094 / 00716DP 00095 / 00716DP 00096 / 00716DP 00097 / 00716DP 00098 / 00716DP 00099 / 00716DP 00100 / 00716DP 00101 / 00716DP 00102 / 00716DP 00103 / 00716DP 00104 / 00716DP 00105 / 00716DP 00106 / 00716DP 00107 / 00716DP 00108 / 00716DP 00109 / 00716DP 00110 / 00716DP 00111 / 00716DP 00112 / 00716DP 00113 / 00716DP 00114 / 00716DP 00115 / 00716DP 00116 / 00716DP 00117 / 00716DP 00118 / 00716DP 00119 / 00716DP 00120 / 00716DP 00121 / 00716DP 00122 / 00716DP 00123 / 00716DP 00124 / 00716DP 00125 / 00716DP 00126 / 00716DP 00127 / 00716DP 00128 / 00716DP 00129 / 00716DP 00130 / 00716DP 00131 / 00716DP 00132 / 00716DP 00133 / 00716DP 00134 / 00716DP 00135 / 00716DP 00136 / 00716DP 00137 / 00716DP 00138 / 00716DP 00139 / 00716DP 00140 / 00716DP 00141 / 00716DP 00142 / 00716DP 00143 / 00716DP 00144 / 00716DP 00145 / 00716DP 00146 / 00716DP 00147 / 00716DP 00148 / 00716DP 00149 / 00716DP 00150 / 00716DP 00151 / 00716DP 00152 / 00716DP 00153 / 00716DP 00154 / 00716DP 00155 / 00716DP 00156 / 00716DP 00157 / 00716DP 00158 / 00716DP 00159 / 00716DP 00160 / 00716DP 00161 / 00716DP 00162 / 00716DP 00163 / 00716DP 00164 / 00716DP 00165 / 00716DP 00166 / 00716DP 00167 / 00716DP 00168 / 00716DP 00169 / 00716DP 00170 / 00716DP 00171 / 00716DP 00172 / 00716DP 00173 / 00716DP 00174 / 00716DP 00175 / 00716DP 00176 / 00716DP 00177 / 00716DP 00178 / 00716DP 00179 / 00716DP 00180 / 00716DP 00181 / 00716DP 00182 / 00716DP 00183 / 00716DP 00184 / 00716DP 00185 / 00716DP 00186 / 00716DP 00187 / 00716DP 00188 / 00716DP 00189 / 00716DP 00190 / 00716DP 00191 / 00716DP 00192 / 00716DP 00193 / 00716DP 00194 / 00716DP 00195 / 00716DP 00196 / 00716DP 00197 / 00716DP 00198 / 00716DP 00199 / 00716DP 00200 / 00716DP 00201 / 00716DP 00202 / 00716DP 00203 / 00716DP 00204 / 00716DP 00205 / 00716DP 00206 / 00716DP 00207 / 00716DP 00208 / 00716DP 00209 / 00716DP 00210 / 00716DP 00211 / 00716DP 00212 / 00716DP 00213 / 00716DP 00214 / 00716DP 00215 / 00716DP 00216 / 00716DP 00217 / 00716DP 00218 / 00716DP 00219 / 00716DP 00220 / 00716DP 00221 / 00716DP 00222 / 00716DP 00223 / 00716DP 00224 / 00716DP 00225 / 00716DP 00226 / 00716DP 00227 / 00716DP 00228 / 00716DP 00229 / 00716DP 00230 / 00716DP 00231 / 00716DP 00232 / 00716DP 00233 / 00716DP 00234 / 00716DP 00235 / 00716DP 00236 / 00716DP 00237 / 00716DP 00238 / 00716DP 00239 / 00716DP 00240 / 00716DP 00241 / 00716DP 00242 / 00716DP 00243 / 00716DP 00244 / 00716DP 00245 / 00716DP 00246 / 00716DP 00247 / 00716DP 00248 / 00716DP 00249 / 00716DP 00250 / 00716DP 00251 / 00716DP 00252 / 00716DP 00253 / 00716DP 00254 / 00716DP 00255 / 00716DP 00256 / 00716DP 00257 / 00716DP 00258 / 00716DP 00259 / 00716DP 00260 / 00716DP 00261 / 00716DP 00262 / 00716DP 00263 / 00716DP 00264 / 00716DP 00265 / 00716DP 00266 / 00716DP 00267 / 00716DP 00268 / 00716DP 00269 / 00716DP 00270 / 00716DP 00271 / 00716DP 00272 / 00716DP 00273 / 00716DP 00274 / 00716DP 00275 / 00716DP 00276 / 00716DP 00277 / 00716DP 00278 / 00716DP 00279 / 00716DP 00280 / 00716DP 00281 / 00716DP 00282 / 00716DP 00283 / 00716DP 00284 / 00716DP 00285 / 00716DP 00286 / 00716DP 00287 / 00716DP 00288 / 00716DP 00289 / 00716DP 00290 / 00716DP 00291 / 00716DP 00292 / 00716DP 00293 / 00716DP 00294 / 00716DP 00295 / 00716DP 00296 / 00716DP 00297 / 00716DP 00298 / 00716DP 00299 / 00716DP 00300 / 00716DP 00301 / 00716DP 00302 / 00716DP 00303 / 00716DP 00304 / 00716DP 00305 / 00716DP 00306 / 00716DP 00307 / 00716DP 00308 / 00716DP 00309 / 00716DP 00310 / 00716DP 00311 / 00716DP 00312 / 00716DP 00313 / 00716DP 00314 / 00716DP 00315 / 00716DP 00316 / 00716DP 00317 / 00716DP 00318 / 00716DP 00319 / 00716DP 00320 / 00716DP 00321 / 00716DP 00322 / 00716DP 00323 / 00716DP 00324 / 00716DP 00325 / 00716DP 00326 / 00716DP 00327 / 00716DP 00328 / 00716DP 00329 / 00716DP 00330 / 00716DP 00331 / 00716DP 00332 / 00716DP 00333 / 00716DP 00334 / 00716DP 00335 / 00716DP 00336 / 00716DP 00337 / 00716DP 00338 / 00716DP 00339 / 00716DP 00340 / 00716DP 00341 / 00716DP 00342 / 00716DP 00343 / 00716DP 00344 / 00716DP 00345 / 00716DP 00346 / 00716DP 00347 / 00716DP 00348 / 00716DP 00349 / 00716DP 00350 / 00716DP 00351 / 00716DP 00352 / 00716DP 00353 / 00716DP 00354 / 00716DP 00355 / 00716DP 00356 / 00716DP 00357 / 00716DP 00358 / 00716DP 00359 / 00716DP 00360 / 00716DP 00361 / 00716DP 00362 / 00716DP 00363 / 00716DP 00364 / 00716DP 00365 / 00716DP 00366 / 00716DP 00367 / 00716DP 00368 / 00716DP 00369 / 00716DP 00370 / 00716DP 00371 / 00716DP 00372 / 00716DP 00373 / 00716DP 00374 / 00716DP 00375 / 00716DP 00376 / 00716DP 00377 / 00716DP 00378 / 00716DP 00379 / 00716DP 00380 / 00716DP 00381 / 00716DP 00382 / 00716DP 00383 / 00716DP 00384 / 00716DP 00385 / 00716DP 00386 / 00716DP 00387 / 00716DP 00388 / 00716DP 00389 / 00716DP 00390 / 00716DP 00391 / 00716DP 00392 / 00716DP 00393 / 00716DP 00394 / 00716DP 00395 / 00716DP 00396 / 00716DP 00397 / 00716DP 00398 / 00716DP 00399 / 00716DP 00400 / 00716DP 00401 / 00716DP 00402 / 00716DP 00403 / 00716DP 00404 / 00716DP 00405 / 00716DP 00406 / 00716DP 00407 / 00716DP 00408 / 00716DP 00409 / 00716DP 00410 / 00716DP 00411 / 00716DP 00412 / 00716DP 00413 / 00716DP 00414 / 00716DP 00415 / 00716DP 00416 / 00716DP 00417 / 00716DP 00418 / 00716DP 00419 / 00716DP 00420 / 00716DP 00421 / 00716DP 00422 / 00716DP 00423 / 00716DP 00424 / 00716DP 00425 / 00716DP 00426 / 00716DP 00427 / 00716DP 00428 / 00716DP 00429 / 00716DP 00430 / 00716DP 00431 / 00716DP 00432 / 00716DP 00433 / 00716DP 00434 / 00716DP 00435 / 00716DP 00436 / 00716DP 00437 / 00716DP 00438 / 00716DP 00439 / 00716DP 00440 / 00716DP 00441 / 00716DP 00442 / 00716DP 00443 / 00716DP 00444 / 00716DP 00445 / 00716DP 00446 / 00716DP 00447 / 00716DP 00448 / 00716DP 00449 / 00716DP 00450 / 00716DP 00451 / 00716DP 00452 / 00716DP 00453 / 00716DP 00454 / 00716DP 00455 / 00716DP 00456 / 00716DP 00457 / 00716DP 00458 / 00716DP 00459 / 00716DP 00460 / 00716DP 00461 / 00716DP 00462 / 00716DP 00463 / 00716DP 00464 / 00716DP 00465 / 00716DP 00466 / 00716DP 00467 / 00716DP 00468 / 00716DP 00469 / 00716DP 00470 / 00716DP 00471 / 00716DP 00472 / 00716DP 00473 / 00716DP 00474 / 00716DP 00475 / 00716DP 00476 / 00716DP 00477 / 00716DP 00478 / 00716DP 00479 / 00716DP 00480 / 00716DP 00481 / 00716DP 00482 / 00716DP 00483 / 00716DP 00484 / 00716DP 00485 / 00716DP 00486 / 00716DP 00487 / 00716DP 00488 / 00716DP 00489 / 00716DP 00490 / 00716DP 00491 / 00716DP 00492 / 00716DP 00493 / 00716DP 00494 / 00716DP 00495 / 00716DP 00496 / 00716DP 00497 / 00716DP 00498 / 00716DP 00499 / 00716DP 00500 / 00716DP 00501 / 00716DP 00502 / 00716DP 00503 / 00716DP 00504 / 00716DP 00505 / 00716DP 00506 / 00716DP 00507 / 00716DP 00508 / 00716DP 00509 / 00716DP 00510 / 00716DP 00511 / 00716DP 00512 / 00716DP 00513 / 00716DP 00514 / 00716DP 00515 / 00716DP 00516 / 00716DP 00517 / 00716DP 00518 / 00716DP 00519 / 00716DP 00520 / 00716DP 00521 / 00716DP 00522 / 00716DP 00523 / 00716DP 00524 / 00716DP 00525 / 00716DP 00526 / 00716DP 00527 / 00716DP 00528 / 00716DP 00529 / 00716DP 00530 / 00716DP 00531 / 00716DP 00532 / 00716DP 00533 / 00716DP 00534 / 00716DP 00535 / 00716DP 00536 / 00716DP 00537 / 00716DP 00538 / 00716DP 00539 / 00716DP 00540 / 00716DP 00541 / 00716DP 00542 / 00716DP 00543 / 00716DP 00544 / 00716DP 00545 / 00716DP 00546 / 00716DP 00547 / 00716DP 00548 / 00716DP 00549 / 00716DP 00550 / 00716DP 00551 / 00716DP 00552 / 00716DP 00553 / 00716DP 00554 / 00716DP 00555 / 00716DP 00556 / 00716DP 00557 / 00716DP 00558 / 00716DP 00559 / 00716DP 00560 / 00716DP 00561 / 00716DP 00562 / 00716DP 00563 / 00716DP 00564 / 00716DP 00565 / 00716DP 00566 / 00716DP 00567 / 00716DP 00568 / 00716DP 00569 / 00716DP 00570 / 00716DP 00571 / 00716DP 00572 / 00716DP 00573 / 00716DP 00574 / 00716DP 00575 / 00716DP 00576 / 00716DP 00577 / 00716DP 00578 / 00716DP 00579 / 00716DP 00580 / 00716DP 00581 / 00716DP 00582 / 00716DP 00583 / 00716DP 00584 / 00716DP 00585 / 00716DP 00586 / 00716DP 00587 / 00716DP 00588 / 00716DP 00589 / 00716DP 00590 / 00716DP 00591 / 00716DP 00592 / 00716DP 00593 / 00716DP 00594 / 00716DP 00595 / 00716DP 00596 / 00716DP 00597 / 00716DP 00598 / 00716DP 00599 / 00716DP 00600 / 00716DP 00601 / 00716DP 00602 / 00716DP 00603 / 00716DP 00604 / 00716DP 00605 / 00716DP 00606 / 00716DP 00607 / 00716DP 00608 / 00716DP 00609 / 00716DP 00610 / 00716DP 00611 / 00716DP 00612 / 00716DP 00613 / 00716DP 00614 / 00716DP 00615 / 00716DP 00616 / 00716DP 00617 / 00716DP 00618 / 00716DP 00619 / 00716DP 00620 / 00716DP 00621 / 00716DP 00622 / 00716DP 00623 / 00716DP 00624 / 00716DP 00625 / 00716DP 00626 / 00716DP 00627 / 00716DP 00628 / 00716DP 00629 / 00716DP 00630 / 00716DP 00631 / 00716DP 00632 / 00716DP 00633 / 00716DP 00634 / 00716DP 00635 / 00716DP 00636 / 00716DP 00637 / 00716DP 00638 / 00716DP 00639 / 00716DP 00640 / 00716DP 00641 / 00716DP 00642 / 00716DP 00643 / 00716DP 00644 / 00716DP 00645 / 00716DP 00646 / 00716DP 00647 / 00716DP 00648 / 00716DP 00649 / 00716DP 00650 / 00716DP 00651 / 00716DP 00652 / 00716DP 00653 / 00716DP 00654 / 00716DP 00655 / 00716DP 00656 / 00716DP 00657 / 00716DP 00658 / 00716DP 00659 / 00716DP 00660 / 00716DP 00661 / 00716DP 00662 / 00716DP 00663 / 00716DP 00664 / 00716DP 00665 / 00716DP 00666 / 00716DP 00667 / 00716DP 00668 / 00716DP 00669 / 00716DP 00670 / 00716DP 00671 / 00716DP 00672 / 00716DP 00673 / 00716DP 00674 / 00716DP 00675 / 00716DP 00676 / 00716DP 00677 / 00716DP 00678 / 00716DP 00679 / 00716DP 00680 / 00716DP 00681 / 00716DP 00682 / 00716DP 00683 / 00716DP 00684 / 00716DP 00685 / 00716DP 00686 / 00716DP 00687 / 00716DP 00688 / 00716DP 00689 / 00716DP 00690 / 00716DP 00691 / 00716DP 00692 / 00716DP 00693 / 00716DP 00694 / 00716DP 00695 / 00716DP 00696 / 00716DP 00697 / 00716DP 00698 / 00716DP 00699 / 00716DP 00700 / 00716DP 00701 / 00716DP 00702 / 00716DP 00703 / 00716DP 00704 / 00716DP 00705 / 00716DP 00706 / 00716DP 00707 / 00716DP 00708 / 00716DP 00709 / 00716DP 00710 / 00716DP 00711 / 00716DP 00712 / 00716DP 00713 / 00716DP 00714 / 00716DP 00715 / 00716DP 00716 / 00716\n",
      "Reallocating..done. *alloclen = 366630\n"
     ]
    },
    {
     "name": "stderr",
     "output_type": "stream",
     "text": [
      "STEP    11 / 29 mDP 00001 / 00609DP 00002 / 00609DP 00003 / 00609DP 00004 / 00609DP 00005 / 00609DP 00006 / 00609DP 00007 / 00609DP 00008 / 00609DP 00009 / 00609DP 00010 / 00609DP 00011 / 00609DP 00012 / 00609DP 00013 / 00609DP 00014 / 00609DP 00015 / 00609DP 00016 / 00609DP 00017 / 00609DP 00018 / 00609DP 00019 / 00609DP 00020 / 00609DP 00021 / 00609DP 00022 / 00609DP 00023 / 00609DP 00024 / 00609DP 00025 / 00609DP 00026 / 00609DP 00027 / 00609DP 00028 / 00609DP 00029 / 00609DP 00030 / 00609DP 00031 / 00609DP 00032 / 00609DP 00033 / 00609DP 00034 / 00609DP 00035 / 00609DP 00036 / 00609DP 00037 / 00609DP 00038 / 00609DP 00039 / 00609DP 00040 / 00609DP 00041 / 00609DP 00042 / 00609DP 00043 / 00609DP 00044 / 00609DP 00045 / 00609DP 00046 / 00609DP 00047 / 00609DP 00048 / 00609DP 00049 / 00609DP 00050 / 00609DP 00051 / 00609DP 00052 / 00609DP 00053 / 00609DP 00054 / 00609DP 00055 / 00609DP 00056 / 00609DP 00057 / 00609DP 00058 / 00609DP 00059 / 00609DP 00060 / 00609DP 00061 / 00609DP 00062 / 00609DP 00063 / 00609DP 00064 / 00609DP 00065 / 00609DP 00066 / 00609DP 00067 / 00609DP 00068 / 00609DP 00069 / 00609DP 00070 / 00609DP 00071 / 00609DP 00072 / 00609DP 00073 / 00609DP 00074 / 00609DP 00075 / 00609DP 00076 / 00609DP 00077 / 00609DP 00078 / 00609DP 00079 / 00609DP 00080 / 00609DP 00081 / 00609DP 00082 / 00609DP 00083 / 00609DP 00084 / 00609DP 00085 / 00609DP 00086 / 00609DP 00087 / 00609DP 00088 / 00609DP 00089 / 00609DP 00090 / 00609DP 00091 / 00609DP 00092 / 00609DP 00093 / 00609DP 00094 / 00609DP 00095 / 00609DP 00096 / 00609DP 00097 / 00609DP 00098 / 00609DP 00099 / 00609DP 00100 / 00609DP 00101 / 00609DP 00102 / 00609DP 00103 / 00609DP 00104 / 00609DP 00105 / 00609DP 00106 / 00609DP 00107 / 00609DP 00108 / 00609DP 00109 / 00609DP 00110 / 00609DP 00111 / 00609DP 00112 / 00609DP 00113 / 00609DP 00114 / 00609DP 00115 / 00609DP 00116 / 00609DP 00117 / 00609DP 00118 / 00609DP 00119 / 00609DP 00120 / 00609DP 00121 / 00609DP 00122 / 00609DP 00123 / 00609DP 00124 / 00609DP 00125 / 00609DP 00126 / 00609DP 00127 / 00609DP 00128 / 00609DP 00129 / 00609DP 00130 / 00609DP 00131 / 00609DP 00132 / 00609DP 00133 / 00609DP 00134 / 00609DP 00135 / 00609DP 00136 / 00609DP 00137 / 00609DP 00138 / 00609DP 00139 / 00609DP 00140 / 00609DP 00141 / 00609DP 00142 / 00609DP 00143 / 00609DP 00144 / 00609DP 00145 / 00609DP 00146 / 00609DP 00147 / 00609DP 00148 / 00609DP 00149 / 00609DP 00150 / 00609DP 00151 / 00609DP 00152 / 00609DP 00153 / 00609DP 00154 / 00609DP 00155 / 00609DP 00156 / 00609DP 00157 / 00609DP 00158 / 00609DP 00159 / 00609DP 00160 / 00609DP 00161 / 00609DP 00162 / 00609DP 00163 / 00609DP 00164 / 00609DP 00165 / 00609DP 00166 / 00609DP 00167 / 00609DP 00168 / 00609DP 00169 / 00609DP 00170 / 00609DP 00171 / 00609DP 00172 / 00609DP 00173 / 00609DP 00174 / 00609DP 00175 / 00609DP 00176 / 00609DP 00177 / 00609DP 00178 / 00609DP 00179 / 00609DP 00180 / 00609DP 00181 / 00609DP 00182 / 00609DP 00183 / 00609DP 00184 / 00609DP 00185 / 00609DP 00186 / 00609DP 00187 / 00609DP 00188 / 00609DP 00189 / 00609DP 00190 / 00609DP 00191 / 00609DP 00192 / 00609DP 00193 / 00609DP 00194 / 00609DP 00195 / 00609DP 00196 / 00609DP 00197 / 00609DP 00198 / 00609DP 00199 / 00609DP 00200 / 00609DP 00201 / 00609DP 00202 / 00609DP 00203 / 00609DP 00204 / 00609DP 00205 / 00609DP 00206 / 00609DP 00207 / 00609DP 00208 / 00609DP 00209 / 00609DP 00210 / 00609DP 00211 / 00609DP 00212 / 00609DP 00213 / 00609DP 00214 / 00609DP 00215 / 00609DP 00216 / 00609DP 00217 / 00609DP 00218 / 00609DP 00219 / 00609DP 00220 / 00609DP 00221 / 00609DP 00222 / 00609DP 00223 / 00609DP 00224 / 00609DP 00225 / 00609DP 00226 / 00609DP 00227 / 00609DP 00228 / 00609DP 00229 / 00609DP 00230 / 00609DP 00231 / 00609DP 00232 / 00609DP 00233 / 00609DP 00234 / 00609DP 00235 / 00609DP 00236 / 00609DP 00237 / 00609DP 00238 / 00609DP 00239 / 00609DP 00240 / 00609DP 00241 / 00609DP 00242 / 00609DP 00243 / 00609DP 00244 / 00609DP 00245 / 00609DP 00246 / 00609DP 00247 / 00609DP 00248 / 00609DP 00249 / 00609DP 00250 / 00609DP 00251 / 00609DP 00252 / 00609DP 00253 / 00609DP 00254 / 00609DP 00255 / 00609DP 00256 / 00609DP 00257 / 00609DP 00258 / 00609DP 00259 / 00609DP 00260 / 00609DP 00261 / 00609DP 00262 / 00609DP 00263 / 00609DP 00264 / 00609DP 00265 / 00609DP 00266 / 00609DP 00267 / 00609DP 00268 / 00609DP 00269 / 00609DP 00270 / 00609DP 00271 / 00609DP 00272 / 00609DP 00273 / 00609DP 00274 / 00609DP 00275 / 00609DP 00276 / 00609DP 00277 / 00609DP 00278 / 00609DP 00279 / 00609DP 00280 / 00609DP 00281 / 00609DP 00282 / 00609DP 00283 / 00609DP 00284 / 00609DP 00285 / 00609DP 00286 / 00609DP 00287 / 00609DP 00288 / 00609DP 00289 / 00609DP 00290 / 00609DP 00291 / 00609DP 00292 / 00609DP 00293 / 00609DP 00294 / 00609DP 00295 / 00609DP 00296 / 00609DP 00297 / 00609DP 00298 / 00609DP 00299 / 00609DP 00300 / 00609DP 00301 / 00609DP 00302 / 00609DP 00303 / 00609DP 00304 / 00609DP 00305 / 00609DP 00306 / 00609DP 00307 / 00609DP 00308 / 00609DP 00309 / 00609DP 00310 / 00609DP 00311 / 00609DP 00312 / 00609DP 00313 / 00609DP 00314 / 00609DP 00315 / 00609DP 00316 / 00609DP 00317 / 00609DP 00318 / 00609DP 00319 / 00609DP 00320 / 00609DP 00321 / 00609DP 00322 / 00609DP 00323 / 00609DP 00324 / 00609DP 00325 / 00609DP 00326 / 00609DP 00327 / 00609DP 00328 / 00609DP 00329 / 00609DP 00330 / 00609DP 00331 / 00609DP 00332 / 00609DP 00333 / 00609DP 00334 / 00609DP 00335 / 00609DP 00336 / 00609DP 00337 / 00609DP 00338 / 00609DP 00339 / 00609DP 00340 / 00609DP 00341 / 00609DP 00342 / 00609DP 00343 / 00609DP 00344 / 00609DP 00345 / 00609DP 00346 / 00609DP 00347 / 00609DP 00348 / 00609DP 00349 / 00609DP 00350 / 00609DP 00351 / 00609DP 00352 / 00609DP 00353 / 00609DP 00354 / 00609DP 00355 / 00609DP 00356 / 00609DP 00357 / 00609DP 00358 / 00609DP 00359 / 00609DP 00360 / 00609DP 00361 / 00609DP 00362 / 00609DP 00363 / 00609DP 00364 / 00609DP 00365 / 00609DP 00366 / 00609DP 00367 / 00609DP 00368 / 00609DP 00369 / 00609DP 00370 / 00609DP 00371 / 00609DP 00372 / 00609DP 00373 / 00609DP 00374 / 00609DP 00375 / 00609DP 00376 / 00609DP 00377 / 00609DP 00378 / 00609DP 00379 / 00609DP 00380 / 00609DP 00381 / 00609DP 00382 / 00609DP 00383 / 00609DP 00384 / 00609DP 00385 / 00609DP 00386 / 00609DP 00387 / 00609DP 00388 / 00609DP 00389 / 00609DP 00390 / 00609DP 00391 / 00609DP 00392 / 00609DP 00393 / 00609DP 00394 / 00609DP 00395 / 00609DP 00396 / 00609DP 00397 / 00609DP 00398 / 00609DP 00399 / 00609DP 00400 / 00609DP 00401 / 00609DP 00402 / 00609DP 00403 / 00609DP 00404 / 00609DP 00405 / 00609DP 00406 / 00609DP 00407 / 00609DP 00408 / 00609DP 00409 / 00609DP 00410 / 00609DP 00411 / 00609DP 00412 / 00609DP 00413 / 00609DP 00414 / 00609DP 00415 / 00609DP 00416 / 00609DP 00417 / 00609DP 00418 / 00609DP 00419 / 00609DP 00420 / 00609DP 00421 / 00609DP 00422 / 00609DP 00423 / 00609DP 00424 / 00609DP 00425 / 00609DP 00426 / 00609DP 00427 / 00609DP 00428 / 00609DP 00429 / 00609DP 00430 / 00609DP 00431 / 00609DP 00432 / 00609DP 00433 / 00609DP 00434 / 00609DP 00435 / 00609DP 00436 / 00609DP 00437 / 00609DP 00438 / 00609DP 00439 / 00609DP 00440 / 00609DP 00441 / 00609DP 00442 / 00609DP 00443 / 00609DP 00444 / 00609DP 00445 / 00609DP 00446 / 00609DP 00447 / 00609DP 00448 / 00609DP 00449 / 00609DP 00450 / 00609DP 00451 / 00609DP 00452 / 00609DP 00453 / 00609DP 00454 / 00609DP 00455 / 00609DP 00456 / 00609DP 00457 / 00609DP 00458 / 00609DP 00459 / 00609DP 00460 / 00609DP 00461 / 00609DP 00462 / 00609DP 00463 / 00609DP 00464 / 00609DP 00465 / 00609DP 00466 / 00609DP 00467 / 00609DP 00468 / 00609DP 00469 / 00609DP 00470 / 00609DP 00471 / 00609DP 00472 / 00609DP 00473 / 00609DP 00474 / 00609DP 00475 / 00609DP 00476 / 00609DP 00477 / 00609DP 00478 / 00609DP 00479 / 00609DP 00480 / 00609DP 00481 / 00609DP 00482 / 00609DP 00483 / 00609DP 00484 / 00609DP 00485 / 00609DP 00486 / 00609DP 00487 / 00609DP 00488 / 00609DP 00489 / 00609DP 00490 / 00609DP 00491 / 00609DP 00492 / 00609DP 00493 / 00609DP 00494 / 00609DP 00495 / 00609DP 00496 / 00609DP 00497 / 00609DP 00498 / 00609DP 00499 / 00609DP 00500 / 00609DP 00501 / 00609DP 00502 / 00609DP 00503 / 00609DP 00504 / 00609DP 00505 / 00609DP 00506 / 00609DP 00507 / 00609DP 00508 / 00609DP 00509 / 00609DP 00510 / 00609DP 00511 / 00609DP 00512 / 00609DP 00513 / 00609DP 00514 / 00609DP 00515 / 00609DP 00516 / 00609DP 00517 / 00609DP 00518 / 00609DP 00519 / 00609DP 00520 / 00609DP 00521 / 00609DP 00522 / 00609DP 00523 / 00609DP 00524 / 00609DP 00525 / 00609DP 00526 / 00609DP 00527 / 00609DP 00528 / 00609DP 00529 / 00609DP 00530 / 00609DP 00531 / 00609DP 00532 / 00609DP 00533 / 00609DP 00534 / 00609DP 00535 / 00609DP 00536 / 00609DP 00537 / 00609DP 00538 / 00609DP 00539 / 00609DP 00540 / 00609DP 00541 / 00609DP 00542 / 00609DP 00543 / 00609DP 00544 / 00609DP 00545 / 00609DP 00546 / 00609DP 00547 / 00609DP 00548 / 00609DP 00549 / 00609DP 00550 / 00609DP 00551 / 00609DP 00552 / 00609DP 00553 / 00609DP 00554 / 00609DP 00555 / 00609DP 00556 / 00609DP 00557 / 00609DP 00558 / 00609DP 00559 / 00609DP 00560 / 00609DP 00561 / 00609DP 00562 / 00609DP 00563 / 00609DP 00564 / 00609DP 00565 / 00609DP 00566 / 00609DP 00567 / 00609DP 00568 / 00609DP 00569 / 00609DP 00570 / 00609DP 00571 / 00609DP 00572 / 00609DP 00573 / 00609DP 00574 / 00609DP 00575 / 00609DP 00576 / 00609DP 00577 / 00609DP 00578 / 00609 \b\b\b\b\b\b\b\b\b\b\b\b\b\b\b\b\bDP 00579 / 00609 \b\b\b\b\b\b\b\b\b\b\b\b\b\b\b\b\bDP 00580 / 00609 \b\b\b\b\b\b\b\b\b\b\b\b\b\b\b\b\bDP 00581 / 00609 \b\b\b\b\b\b\b\b\b\b\b\b\b\b\b\b\bDP 00582 / 00609 \b\b\b\b\b\b\b\b\b\b\b\b\b\b\b\b\bDP 00583 / 00609 \b\b\b\b\b\b\b\b\b\b\b\b\b\b\b\b\bDP 00584 / 00609 \b\b\b\b\b\b\b\b\b\b\b\b\b\b\b\b\bDP 00585 / 00609 \b\b\b\b\b\b\b\b\b\b\b\b\b\b\b\b\bDP 00586 / 00609 \b\b\b\b\b\b\b\b\b\b\b\b\b\b\b\b\bDP 00587 / 00609 \b\b\b\b\b\b\b\b\b\b\b\b\b\b\b\b\bDP 00588 / 00609 \b\b\b\b\b\b\b\b\b\b\b\b\b\b\b\b\bDP 00589 / 00609 \b\b\b\b\b\b\b\b\b\b\b\b\b\b\b\b\bDP 00590 / 00609 \b\b\b\b\b\b\b\b\b\b\b\b\b\b\b\b\bDP 00591 / 00609 \b\b\b\b\b\b\b\b\b\b\b\b\b\b\b\b\bDP 00592 / 00609 \b\b\b\b\b\b\b\b\b\b\b\b\b\b\b\b\bDP 00593 / 00609 \b\b\b\b\b\b\b\b\b\b\b\b\b\b\b\b\bDP 00594 / 00609 \b\b\b\b\b\b\b\b\b\b\b\b\b\b\b\b\bDP 00595 / 00609 \b\b\b\b\b\b\b\b\b\b\b\b\b\b\b\b\bDP 00596 / 00609 \b\b\b\b\b\b\b\b\b\b\b\b\b\b\b\b\bDP 00597 / 00609 \b\b\b\b\b\b\b\b\b\b\b\b\b\b\b\b\bDP 00598 / 00609 \b\b\b\b\b\b\b\b\b\b\b\b\b\b\b\b\bDP 00599 / 00609 \b\b\b\b\b\b\b\b\b\b\b\b\b\b\b\b\bDP 00600 / 00609 \b\b\b\b\b\b\b\b\b\b\b\b\b\b\b\b\bDP 00601 / 00609 \b\b\b\b\b\b\b\b\b\b\b\b\b\b\b\b\bDP 00602 / 00609 \b\b\b\b\b\b\b\b\b\b\b\b\b\b\b\b\bDP 00603 / 00609 \b\b\b\b\b\b\b\b\b\b\b\b\b\b\b\b\bDP 00604 / 00609 \b\b\b\b\b\b\b\b\b\b\b\b\b\b\b\b\bDP 00605 / 00609 \b\b\b\b\b\b\b\b\b\b\b\b\b\b\b\b\bDP 00606 / 00609 \b\b\b\b\b\b\b\b\b\b\b\b\b\b\b\b\bDP 00607 / 00609 \b\b\b\b\b\b\b\b\b\b\b\b\b\b\b\b\bDP 00608 / 00609 \b\b\b\b\b\b\b\b\b\b\b\b\b\b\b\b\bDP 00609 / 00609 \b\b\b\b\b\b\b\b\b\b\b\b\b\b\b\b\b"
     ]
    },
    {
     "name": "stderr",
     "output_type": "stream",
     "text": [
      "STEP    13 / 29 mDP 00001 / 00257DP 00002 / 00257DP 00003 / 00257DP 00004 / 00257DP 00005 / 00257DP 00006 / 00257DP 00007 / 00257DP 00008 / 00257DP 00009 / 00257DP 00010 / 00257DP 00011 / 00257DP 00012 / 00257DP 00013 / 00257DP 00014 / 00257DP 00015 / 00257DP 00016 / 00257DP 00017 / 00257DP 00018 / 00257DP 00019 / 00257DP 00020 / 00257DP 00021 / 00257DP 00022 / 00257DP 00023 / 00257DP 00024 / 00257DP 00025 / 00257DP 00026 / 00257DP 00027 / 00257DP 00028 / 00257DP 00029 / 00257DP 00030 / 00257DP 00031 / 00257DP 00032 / 00257DP 00033 / 00257DP 00034 / 00257DP 00035 / 00257DP 00036 / 00257DP 00037 / 00257DP 00038 / 00257DP 00039 / 00257DP 00040 / 00257DP 00041 / 00257DP 00042 / 00257DP 00043 / 00257DP 00044 / 00257DP 00045 / 00257DP 00046 / 00257DP 00047 / 00257DP 00048 / 00257DP 00049 / 00257DP 00050 / 00257DP 00051 / 00257DP 00052 / 00257DP 00053 / 00257DP 00054 / 00257DP 00055 / 00257DP 00056 / 00257DP 00057 / 00257DP 00058 / 00257DP 00059 / 00257DP 00060 / 00257DP 00061 / 00257DP 00062 / 00257DP 00063 / 00257DP 00064 / 00257DP 00065 / 00257DP 00066 / 00257DP 00067 / 00257DP 00068 / 00257DP 00069 / 00257DP 00070 / 00257DP 00071 / 00257DP 00072 / 00257DP 00073 / 00257DP 00074 / 00257DP 00075 / 00257DP 00076 / 00257DP 00077 / 00257DP 00078 / 00257DP 00079 / 00257DP 00080 / 00257DP 00081 / 00257DP 00082 / 00257DP 00083 / 00257DP 00084 / 00257DP 00085 / 00257DP 00086 / 00257DP 00087 / 00257DP 00088 / 00257DP 00089 / 00257DP 00090 / 00257DP 00091 / 00257DP 00092 / 00257DP 00093 / 00257DP 00094 / 00257DP 00095 / 00257DP 00096 / 00257DP 00097 / 00257DP 00098 / 00257DP 00099 / 00257DP 00100 / 00257DP 00101 / 00257DP 00102 / 00257DP 00103 / 00257DP 00104 / 00257DP 00105 / 00257DP 00106 / 00257DP 00107 / 00257DP 00108 / 00257DP 00109 / 00257DP 00110 / 00257DP 00111 / 00257DP 00112 / 00257DP 00113 / 00257DP 00114 / 00257DP 00115 / 00257DP 00116 / 00257DP 00117 / 00257DP 00118 / 00257DP 00119 / 00257DP 00120 / 00257DP 00121 / 00257DP 00122 / 00257DP 00123 / 00257DP 00124 / 00257DP 00125 / 00257DP 00126 / 00257DP 00127 / 00257DP 00128 / 00257DP 00129 / 00257DP 00130 / 00257DP 00131 / 00257DP 00132 / 00257DP 00133 / 00257DP 00134 / 00257DP 00135 / 00257DP 00136 / 00257DP 00137 / 00257DP 00138 / 00257DP 00139 / 00257DP 00140 / 00257DP 00141 / 00257DP 00142 / 00257DP 00143 / 00257DP 00144 / 00257DP 00145 / 00257DP 00146 / 00257DP 00147 / 00257DP 00148 / 00257DP 00149 / 00257DP 00150 / 00257DP 00151 / 00257DP 00152 / 00257DP 00153 / 00257DP 00154 / 00257DP 00155 / 00257DP 00156 / 00257DP 00157 / 00257DP 00158 / 00257DP 00159 / 00257DP 00160 / 00257DP 00161 / 00257DP 00162 / 00257DP 00163 / 00257DP 00164 / 00257DP 00165 / 00257DP 00166 / 00257DP 00167 / 00257DP 00168 / 00257DP 00169 / 00257DP 00170 / 00257DP 00171 / 00257DP 00172 / 00257DP 00173 / 00257DP 00174 / 00257DP 00175 / 00257DP 00176 / 00257DP 00177 / 00257DP 00178 / 00257DP 00179 / 00257DP 00180 / 00257DP 00181 / 00257DP 00182 / 00257DP 00183 / 00257DP 00184 / 00257DP 00185 / 00257DP 00186 / 00257DP 00187 / 00257DP 00188 / 00257DP 00189 / 00257DP 00190 / 00257DP 00191 / 00257DP 00192 / 00257DP 00193 / 00257DP 00194 / 00257DP 00195 / 00257DP 00196 / 00257DP 00197 / 00257DP 00198 / 00257DP 00199 / 00257DP 00200 / 00257DP 00201 / 00257DP 00202 / 00257DP 00203 / 00257DP 00204 / 00257DP 00205 / 00257DP 00206 / 00257DP 00207 / 00257DP 00208 / 00257DP 00209 / 00257DP 00210 / 00257DP 00211 / 00257DP 00212 / 00257DP 00213 / 00257DP 00214 / 00257DP 00215 / 00257DP 00216 / 00257DP 00217 / 00257DP 00218 / 00257DP 00219 / 00257DP 00220 / 00257DP 00221 / 00257DP 00222 / 00257DP 00223 / 00257DP 00224 / 00257DP 00225 / 00257DP 00226 / 00257DP 00227 / 00257DP 00228 / 00257DP 00229 / 00257DP 00230 / 00257DP 00231 / 00257DP 00232 / 00257DP 00233 / 00257DP 00234 / 00257DP 00235 / 00257DP 00236 / 00257DP 00237 / 00257DP 00238 / 00257DP 00239 / 00257DP 00240 / 00257DP 00241 / 00257DP 00242 / 00257DP 00243 / 00257DP 00244 / 00257DP 00245 / 00257DP 00246 / 00257DP 00247 / 00257DP 00248 / 00257DP 00249 / 00257DP 00250 / 00257DP 00251 / 00257DP 00252 / 00257DP 00253 / 00257DP 00254 / 00257DP 00255 / 00257DP 00256 / 00257DP 00257 / 00257DP 00001 / 00001\n",
      "Reallocating..done. *alloclen = 378194\n",
      "STEP    14 / 29 mDP 00001 / 00605DP 00002 / 00605DP 00003 / 00605DP 00004 / 00605DP 00005 / 00605DP 00006 / 00605DP 00007 / 00605DP 00008 / 00605DP 00009 / 00605DP 00010 / 00605DP 00011 / 00605DP 00012 / 00605DP 00013 / 00605DP 00014 / 00605DP 00015 / 00605DP 00016 / 00605DP 00017 / 00605DP 00018 / 00605DP 00019 / 00605DP 00020 / 00605DP 00021 / 00605DP 00022 / 00605DP 00023 / 00605DP 00024 / 00605DP 00025 / 00605DP 00026 / 00605DP 00027 / 00605DP 00028 / 00605DP 00029 / 00605DP 00030 / 00605DP 00031 / 00605DP 00032 / 00605DP 00033 / 00605DP 00034 / 00605DP 00035 / 00605DP 00036 / 00605DP 00037 / 00605DP 00038 / 00605DP 00039 / 00605DP 00040 / 00605DP 00041 / 00605DP 00042 / 00605DP 00043 / 00605DP 00044 / 00605DP 00045 / 00605DP 00046 / 00605DP 00047 / 00605DP 00048 / 00605DP 00049 / 00605DP 00050 / 00605DP 00051 / 00605DP 00052 / 00605DP 00053 / 00605DP 00054 / 00605DP 00055 / 00605DP 00056 / 00605DP 00057 / 00605DP 00058 / 00605DP 00059 / 00605DP 00060 / 00605DP 00061 / 00605DP 00062 / 00605DP 00063 / 00605DP 00064 / 00605DP 00065 / 00605DP 00066 / 00605DP 00067 / 00605DP 00068 / 00605DP 00069 / 00605DP 00070 / 00605DP 00071 / 00605DP 00072 / 00605DP 00073 / 00605DP 00074 / 00605DP 00075 / 00605DP 00076 / 00605DP 00077 / 00605DP 00078 / 00605DP 00079 / 00605DP 00080 / 00605DP 00081 / 00605DP 00082 / 00605DP 00083 / 00605DP 00084 / 00605DP 00085 / 00605DP 00086 / 00605DP 00087 / 00605DP 00088 / 00605DP 00089 / 00605DP 00090 / 00605DP 00091 / 00605DP 00092 / 00605DP 00093 / 00605DP 00094 / 00605DP 00095 / 00605DP 00096 / 00605DP 00097 / 00605DP 00098 / 00605DP 00099 / 00605DP 00100 / 00605DP 00101 / 00605DP 00102 / 00605DP 00103 / 00605DP 00104 / 00605DP 00105 / 00605DP 00106 / 00605DP 00107 / 00605DP 00108 / 00605DP 00109 / 00605DP 00110 / 00605DP 00111 / 00605DP 00112 / 00605DP 00113 / 00605DP 00114 / 00605DP 00115 / 00605DP 00116 / 00605DP 00117 / 00605DP 00118 / 00605DP 00119 / 00605DP 00120 / 00605DP 00121 / 00605DP 00122 / 00605DP 00123 / 00605DP 00124 / 00605DP 00125 / 00605DP 00126 / 00605DP 00127 / 00605DP 00128 / 00605DP 00129 / 00605DP 00130 / 00605DP 00131 / 00605DP 00132 / 00605DP 00133 / 00605DP 00134 / 00605DP 00135 / 00605DP 00136 / 00605DP 00137 / 00605DP 00138 / 00605DP 00139 / 00605DP 00140 / 00605DP 00141 / 00605DP 00142 / 00605DP 00143 / 00605DP 00144 / 00605DP 00145 / 00605DP 00146 / 00605DP 00147 / 00605DP 00148 / 00605DP 00149 / 00605DP 00150 / 00605DP 00151 / 00605DP 00152 / 00605DP 00153 / 00605DP 00154 / 00605DP 00155 / 00605DP 00156 / 00605DP 00157 / 00605DP 00158 / 00605DP 00159 / 00605DP 00160 / 00605DP 00161 / 00605DP 00162 / 00605DP 00163 / 00605DP 00164 / 00605DP 00165 / 00605DP 00166 / 00605DP 00167 / 00605DP 00168 / 00605DP 00169 / 00605DP 00170 / 00605DP 00171 / 00605DP 00172 / 00605DP 00173 / 00605DP 00174 / 00605DP 00175 / 00605DP 00176 / 00605DP 00177 / 00605DP 00178 / 00605DP 00179 / 00605DP 00180 / 00605DP 00181 / 00605DP 00182 / 00605DP 00183 / 00605DP 00184 / 00605DP 00185 / 00605DP 00186 / 00605DP 00187 / 00605DP 00188 / 00605DP 00189 / 00605DP 00190 / 00605DP 00191 / 00605DP 00192 / 00605DP 00193 / 00605DP 00194 / 00605DP 00195 / 00605DP 00196 / 00605DP 00197 / 00605DP 00198 / 00605DP 00199 / 00605DP 00200 / 00605DP 00201 / 00605DP 00202 / 00605DP 00203 / 00605DP 00204 / 00605DP 00205 / 00605DP 00206 / 00605DP 00207 / 00605DP 00208 / 00605DP 00209 / 00605DP 00210 / 00605DP 00211 / 00605DP 00212 / 00605DP 00213 / 00605DP 00214 / 00605DP 00215 / 00605DP 00216 / 00605DP 00217 / 00605DP 00218 / 00605DP 00219 / 00605DP 00220 / 00605DP 00221 / 00605DP 00222 / 00605DP 00223 / 00605DP 00224 / 00605DP 00225 / 00605DP 00226 / 00605DP 00227 / 00605DP 00228 / 00605DP 00229 / 00605DP 00230 / 00605DP 00231 / 00605DP 00232 / 00605DP 00233 / 00605DP 00234 / 00605DP 00235 / 00605DP 00236 / 00605DP 00237 / 00605DP 00238 / 00605DP 00239 / 00605DP 00240 / 00605DP 00241 / 00605DP 00242 / 00605DP 00243 / 00605DP 00244 / 00605DP 00245 / 00605DP 00246 / 00605DP 00247 / 00605DP 00248 / 00605DP 00249 / 00605DP 00250 / 00605DP 00251 / 00605DP 00252 / 00605DP 00253 / 00605DP 00254 / 00605DP 00255 / 00605DP 00256 / 00605DP 00257 / 00605DP 00258 / 00605DP 00259 / 00605DP 00260 / 00605DP 00261 / 00605DP 00262 / 00605DP 00263 / 00605DP 00264 / 00605DP 00265 / 00605DP 00266 / 00605DP 00267 / 00605DP 00268 / 00605DP 00269 / 00605DP 00270 / 00605DP 00271 / 00605DP 00272 / 00605DP 00273 / 00605DP 00274 / 00605DP 00275 / 00605DP 00276 / 00605DP 00277 / 00605DP 00278 / 00605DP 00279 / 00605DP 00280 / 00605DP 00281 / 00605DP 00282 / 00605DP 00283 / 00605DP 00284 / 00605DP 00285 / 00605DP 00286 / 00605DP 00287 / 00605DP 00288 / 00605DP 00289 / 00605DP 00290 / 00605DP 00291 / 00605DP 00292 / 00605DP 00293 / 00605DP 00294 / 00605DP 00295 / 00605DP 00296 / 00605DP 00297 / 00605DP 00298 / 00605DP 00299 / 00605DP 00300 / 00605DP 00301 / 00605DP 00302 / 00605DP 00303 / 00605DP 00304 / 00605DP 00305 / 00605DP 00306 / 00605DP 00307 / 00605DP 00308 / 00605DP 00309 / 00605DP 00310 / 00605DP 00311 / 00605DP 00312 / 00605DP 00313 / 00605DP 00314 / 00605DP 00315 / 00605DP 00316 / 00605DP 00317 / 00605DP 00318 / 00605DP 00319 / 00605DP 00320 / 00605DP 00321 / 00605DP 00322 / 00605DP 00323 / 00605DP 00324 / 00605DP 00325 / 00605DP 00326 / 00605DP 00327 / 00605DP 00328 / 00605DP 00329 / 00605DP 00330 / 00605DP 00331 / 00605DP 00332 / 00605DP 00333 / 00605DP 00334 / 00605DP 00335 / 00605DP 00336 / 00605DP 00337 / 00605DP 00338 / 00605DP 00339 / 00605DP 00340 / 00605DP 00341 / 00605DP 00342 / 00605DP 00343 / 00605DP 00344 / 00605DP 00345 / 00605DP 00346 / 00605DP 00347 / 00605DP 00348 / 00605DP 00349 / 00605DP 00350 / 00605DP 00351 / 00605DP 00352 / 00605DP 00353 / 00605DP 00354 / 00605DP 00355 / 00605DP 00356 / 00605DP 00357 / 00605DP 00358 / 00605DP 00359 / 00605DP 00360 / 00605DP 00361 / 00605DP 00362 / 00605DP 00363 / 00605DP 00364 / 00605DP 00365 / 00605DP 00366 / 00605DP 00367 / 00605DP 00368 / 00605DP 00369 / 00605DP 00370 / 00605DP 00371 / 00605DP 00372 / 00605DP 00373 / 00605DP 00374 / 00605DP 00375 / 00605DP 00376 / 00605DP 00377 / 00605DP 00378 / 00605DP 00379 / 00605DP 00380 / 00605DP 00381 / 00605DP 00382 / 00605DP 00383 / 00605DP 00384 / 00605DP 00385 / 00605DP 00386 / 00605DP 00387 / 00605DP 00388 / 00605DP 00389 / 00605DP 00390 / 00605DP 00391 / 00605DP 00392 / 00605DP 00393 / 00605DP 00394 / 00605DP 00395 / 00605DP 00396 / 00605DP 00397 / 00605DP 00398 / 00605DP 00399 / 00605DP 00400 / 00605DP 00401 / 00605DP 00402 / 00605DP 00403 / 00605DP 00404 / 00605DP 00405 / 00605DP 00406 / 00605DP 00407 / 00605DP 00408 / 00605DP 00409 / 00605DP 00410 / 00605DP 00411 / 00605DP 00412 / 00605DP 00413 / 00605DP 00414 / 00605DP 00415 / 00605DP 00416 / 00605DP 00417 / 00605DP 00418 / 00605DP 00419 / 00605DP 00420 / 00605DP 00421 / 00605DP 00422 / 00605DP 00423 / 00605DP 00424 / 00605DP 00425 / 00605DP 00426 / 00605DP 00427 / 00605DP 00428 / 00605DP 00429 / 00605DP 00430 / 00605DP 00431 / 00605DP 00432 / 00605DP 00433 / 00605DP 00434 / 00605DP 00435 / 00605DP 00436 / 00605DP 00437 / 00605DP 00438 / 00605DP 00439 / 00605DP 00440 / 00605DP 00441 / 00605DP 00442 / 00605DP 00443 / 00605DP 00444 / 00605DP 00445 / 00605DP 00446 / 00605DP 00447 / 00605DP 00448 / 00605DP 00449 / 00605DP 00450 / 00605DP 00451 / 00605DP 00452 / 00605DP 00453 / 00605DP 00454 / 00605DP 00455 / 00605DP 00456 / 00605DP 00457 / 00605DP 00458 / 00605DP 00459 / 00605DP 00460 / 00605DP 00461 / 00605DP 00462 / 00605DP 00463 / 00605DP 00464 / 00605DP 00465 / 00605DP 00466 / 00605DP 00467 / 00605DP 00468 / 00605DP 00469 / 00605DP 00470 / 00605DP 00471 / 00605DP 00472 / 00605DP 00473 / 00605DP 00474 / 00605DP 00475 / 00605DP 00476 / 00605DP 00477 / 00605DP 00478 / 00605DP 00479 / 00605DP 00480 / 00605DP 00481 / 00605DP 00482 / 00605DP 00483 / 00605DP 00484 / 00605DP 00485 / 00605DP 00486 / 00605DP 00487 / 00605DP 00488 / 00605DP 00489 / 00605DP 00490 / 00605DP 00491 / 00605DP 00492 / 00605DP 00493 / 00605DP 00494 / 00605DP 00495 / 00605DP 00496 / 00605DP 00497 / 00605DP 00498 / 00605DP 00499 / 00605DP 00500 / 00605DP 00501 / 00605DP 00502 / 00605DP 00503 / 00605DP 00504 / 00605DP 00505 / 00605DP 00506 / 00605DP 00507 / 00605DP 00508 / 00605DP 00509 / 00605DP 00510 / 00605DP 00511 / 00605DP 00512 / 00605DP 00513 / 00605DP 00514 / 00605DP 00515 / 00605DP 00516 / 00605DP 00517 / 00605DP 00518 / 00605DP 00519 / 00605DP 00520 / 00605DP 00521 / 00605DP 00522 / 00605DP 00523 / 00605DP 00524 / 00605DP 00525 / 00605DP 00526 / 00605DP 00527 / 00605DP 00528 / 00605DP 00529 / 00605DP 00530 / 00605DP 00531 / 00605DP 00532 / 00605DP 00533 / 00605DP 00534 / 00605DP 00535 / 00605DP 00536 / 00605DP 00537 / 00605DP 00538 / 00605DP 00539 / 00605DP 00540 / 00605DP 00541 / 00605DP 00542 / 00605DP 00543 / 00605DP 00544 / 00605DP 00545 / 00605DP 00546 / 00605DP 00547 / 00605DP 00548 / 00605DP 00549 / 00605DP 00550 / 00605DP 00551 / 00605DP 00552 / 00605DP 00553 / 00605DP 00554 / 00605DP 00555 / 00605DP 00556 / 00605DP 00557 / 00605DP 00558 / 00605DP 00559 / 00605DP 00560 / 00605DP 00561 / 00605DP 00562 / 00605DP 00563 / 00605DP 00564 / 00605DP 00565 / 00605DP 00566 / 00605DP 00567 / 00605DP 00568 / 00605DP 00569 / 00605DP 00570 / 00605DP 00571 / 00605DP 00572 / 00605STEP    15 / 29 mP 00574 / 00605DP 00575 / 00605DP 00576 / 00605DP 00577 / 00605DP 00578 / 00605DP 00579 / 00605DP 00580 / 00605DP 00581 / 00605DP 00582 / 00605DP 00583 / 00605DP 00584 / 00605DP 00585 / 00605DP 00586 / 00605DP 00587 / 00605DP 00588 / 00605DP 00589 / 00605DP 00590 / 00605DP 00591 / 00605DP 00592 / 00605DP 00593 / 00605DP 00594 / 00605DP 00595 / 00605DP 00596 / 00605DP 00597 / 00605DP 00598 / 00605DP 00599 / 00605DP 00600 / 00605DP 00601 / 00605DP 00602 / 00605DP 00603 / 00605DP 00604 / 00605DP 00605 / 00605DP 00001 / 00001\n",
      "Reallocating..done. *alloclen = 395031\n",
      "STEP    29 / 29 mDP 00001 / 00001DP 00001 / 00408DP 00002 / 00408DP 00003 / 00408DP 00004 / 00408DP 00005 / 00408DP 00006 / 00408DP 00007 / 00408DP 00008 / 00408DP 00009 / 00408DP 00010 / 00408DP 00011 / 00408DP 00012 / 00408DP 00013 / 00408DP 00014 / 00408DP 00015 / 00408DP 00016 / 00408DP 00017 / 00408DP 00018 / 00408DP 00019 / 00408DP 00020 / 00408DP 00021 / 00408DP 00022 / 00408DP 00023 / 00408DP 00024 / 00408DP 00025 / 00408DP 00026 / 00408DP 00027 / 00408DP 00028 / 00408DP 00029 / 00408DP 00030 / 00408DP 00031 / 00408DP 00032 / 00408DP 00033 / 00408DP 00034 / 00408DP 00035 / 00408DP 00036 / 00408DP 00037 / 00408DP 00038 / 00408DP 00039 / 00408DP 00040 / 00408DP 00041 / 00408DP 00042 / 00408DP 00043 / 00408DP 00044 / 00408DP 00045 / 00408DP 00046 / 00408DP 00047 / 00408DP 00048 / 00408DP 00049 / 00408DP 00050 / 00408DP 00051 / 00408DP 00052 / 00408DP 00053 / 00408DP 00054 / 00408DP 00055 / 00408DP 00056 / 00408DP 00057 / 00408DP 00058 / 00408DP 00059 / 00408DP 00060 / 00408DP 00061 / 00408DP 00062 / 00408DP 00063 / 00408DP 00064 / 00408DP 00065 / 00408DP 00066 / 00408DP 00067 / 00408DP 00068 / 00408DP 00069 / 00408DP 00070 / 00408DP 00071 / 00408DP 00072 / 00408DP 00073 / 00408DP 00074 / 00408DP 00075 / 00408DP 00076 / 00408DP 00077 / 00408DP 00078 / 00408DP 00079 / 00408DP 00080 / 00408DP 00081 / 00408DP 00082 / 00408DP 00083 / 00408DP 00084 / 00408DP 00085 / 00408DP 00086 / 00408DP 00087 / 00408DP 00088 / 00408DP 00089 / 00408DP 00090 / 00408DP 00091 / 00408DP 00092 / 00408DP 00093 / 00408DP 00094 / 00408DP 00095 / 00408DP 00096 / 00408DP 00097 / 00408DP 00098 / 00408DP 00099 / 00408DP 00100 / 00408DP 00101 / 00408DP 00102 / 00408DP 00103 / 00408DP 00104 / 00408DP 00105 / 00408DP 00106 / 00408DP 00107 / 00408DP 00108 / 00408DP 00109 / 00408DP 00110 / 00408DP 00111 / 00408DP 00112 / 00408DP 00113 / 00408DP 00114 / 00408DP 00115 / 00408DP 00116 / 00408DP 00117 / 00408DP 00118 / 00408DP 00119 / 00408DP 00120 / 00408DP 00121 / 00408DP 00122 / 00408DP 00123 / 00408DP 00124 / 00408DP 00125 / 00408DP 00126 / 00408DP 00127 / 00408DP 00128 / 00408DP 00129 / 00408DP 00130 / 00408DP 00131 / 00408DP 00132 / 00408DP 00133 / 00408DP 00134 / 00408DP 00135 / 00408DP 00136 / 00408DP 00137 / 00408DP 00138 / 00408DP 00139 / 00408DP 00140 / 00408DP 00141 / 00408DP 00142 / 00408DP 00143 / 00408DP 00144 / 00408DP 00145 / 00408DP 00146 / 00408DP 00147 / 00408DP 00148 / 00408DP 00149 / 00408DP 00150 / 00408DP 00151 / 00408DP 00152 / 00408DP 00153 / 00408DP 00154 / 00408DP 00155 / 00408DP 00156 / 00408DP 00157 / 00408DP 00158 / 00408DP 00159 / 00408DP 00160 / 00408DP 00161 / 00408DP 00162 / 00408DP 00163 / 00408DP 00164 / 00408DP 00165 / 00408DP 00166 / 00408DP 00167 / 00408DP 00168 / 00408DP 00169 / 00408DP 00170 / 00408DP 00171 / 00408DP 00172 / 00408DP 00173 / 00408DP 00174 / 00408DP 00175 / 00408DP 00176 / 00408DP 00177 / 00408DP 00178 / 00408DP 00179 / 00408DP 00180 / 00408DP 00181 / 00408DP 00182 / 00408DP 00183 / 00408DP 00184 / 00408DP 00185 / 00408DP 00186 / 00408DP 00187 / 00408DP 00188 / 00408DP 00189 / 00408DP 00190 / 00408DP 00191 / 00408DP 00192 / 00408DP 00193 / 00408DP 00194 / 00408DP 00195 / 00408DP 00196 / 00408DP 00197 / 00408DP 00198 / 00408DP 00199 / 00408DP 00200 / 00408DP 00201 / 00408DP 00202 / 00408DP 00203 / 00408DP 00204 / 00408DP 00205 / 00408DP 00206 / 00408DP 00207 / 00408DP 00208 / 00408DP 00209 / 00408DP 00210 / 00408DP 00211 / 00408DP 00212 / 00408DP 00213 / 00408DP 00214 / 00408DP 00215 / 00408DP 00216 / 00408DP 00217 / 00408DP 00218 / 00408DP 00219 / 00408DP 00220 / 00408DP 00221 / 00408DP 00222 / 00408DP 00223 / 00408DP 00224 / 00408DP 00225 / 00408DP 00226 / 00408DP 00227 / 00408DP 00228 / 00408DP 00229 / 00408DP 00230 / 00408DP 00231 / 00408DP 00232 / 00408DP 00233 / 00408DP 00234 / 00408DP 00235 / 00408DP 00236 / 00408DP 00237 / 00408DP 00238 / 00408DP 00239 / 00408DP 00240 / 00408DP 00241 / 00408DP 00242 / 00408DP 00243 / 00408DP 00244 / 00408DP 00245 / 00408DP 00246 / 00408DP 00247 / 00408DP 00248 / 00408DP 00249 / 00408DP 00250 / 00408DP 00251 / 00408DP 00252 / 00408DP 00253 / 00408DP 00254 / 00408DP 00255 / 00408DP 00256 / 00408DP 00257 / 00408DP 00258 / 00408DP 00259 / 00408DP 00260 / 00408DP 00261 / 00408DP 00262 / 00408DP 00263 / 00408DP 00264 / 00408DP 00265 / 00408DP 00266 / 00408DP 00267 / 00408DP 00268 / 00408DP 00269 / 00408DP 00270 / 00408DP 00271 / 00408DP 00272 / 00408DP 00273 / 00408DP 00274 / 00408DP 00275 / 00408DP 00276 / 00408DP 00277 / 00408DP 00278 / 00408DP 00279 / 00408DP 00280 / 00408DP 00281 / 00408DP 00282 / 00408DP 00283 / 00408DP 00284 / 00408DP 00285 / 00408DP 00286 / 00408DP 00287 / 00408DP 00288 / 00408DP 00289 / 00408DP 00290 / 00408DP 00291 / 00408DP 00292 / 00408DP 00293 / 00408DP 00294 / 00408DP 00295 / 00408DP 00296 / 00408DP 00297 / 00408DP 00298 / 00408DP 00299 / 00408DP 00300 / 00408DP 00301 / 00408DP 00302 / 00408DP 00303 / 00408DP 00304 / 00408DP 00305 / 00408DP 00306 / 00408DP 00307 / 00408DP 00308 / 00408DP 00309 / 00408DP 00310 / 00408DP 00311 / 00408DP 00312 / 00408DP 00313 / 00408DP 00314 / 00408DP 00315 / 00408DP 00316 / 00408DP 00317 / 00408DP 00318 / 00408DP 00319 / 00408DP 00320 / 00408DP 00321 / 00408DP 00322 / 00408DP 00323 / 00408DP 00324 / 00408DP 00325 / 00408DP 00326 / 00408DP 00327 / 00408DP 00328 / 00408DP 00329 / 00408DP 00330 / 00408DP 00331 / 00408DP 00332 / 00408DP 00333 / 00408DP 00334 / 00408DP 00335 / 00408DP 00336 / 00408DP 00337 / 00408DP 00338 / 00408DP 00339 / 00408DP 00340 / 00408DP 00341 / 00408DP 00342 / 00408DP 00343 / 00408DP 00344 / 00408DP 00345 / 00408DP 00346 / 00408DP 00347 / 00408DP 00348 / 00408DP 00349 / 00408DP 00350 / 00408DP 00351 / 00408DP 00352 / 00408DP 00353 / 00408DP 00354 / 00408DP 00355 / 00408DP 00356 / 00408DP 00357 / 00408DP 00358 / 00408DP 00359 / 00408DP 00360 / 00408DP 00361 / 00408DP 00362 / 00408DP 00363 / 00408DP 00364 / 00408DP 00365 / 00408DP 00366 / 00408DP 00367 / 00408DP 00368 / 00408DP 00369 / 00408DP 00370 / 00408DP 00371 / 00408DP 00372 / 00408DP 00373 / 00408DP 00374 / 00408DP 00375 / 00408DP 00376 / 00408DP 00377 / 00408DP 00378 / 00408DP 00379 / 00408DP 00380 / 00408DP 00381 / 00408DP 00382 / 00408DP 00383 / 00408DP 00384 / 00408DP 00385 / 00408DP 00386 / 00408DP 00387 / 00408DP 00388 / 00408DP 00389 / 00408DP 00390 / 00408DP 00391 / 00408DP 00392 / 00408DP 00393 / 00408DP 00394 / 00408DP 00395 / 00408DP 00396 / 00408DP 00397 / 00408DP 00398 / 00408DP 00399 / 00408DP 00400 / 00408DP 00401 / 00408DP 00402 / 00408DP 00403 / 00408DP 00404 / 00408DP 00405 / 00408DP 00406 / 00408DP 00407 / 00408DP 00408 / 00408DP 00001 / 00001DP 00001 / 00001DP 00001 / 00001DP 00001 / 00001DP 00001 / 00001DP 00001 / 00001DP 00001 / 00001DP 00001 / 00001DP 00001 / 00001DP 00001 / 00001DP 00001 / 00001DP 00001 / 00001\n",
      "done.\n",
      "\n",
      "Making a distance matrix from msa.. \n",
      "    0 / 30\n",
      "done.\n",
      "\n",
      "Constructing a UPGMA tree (efffree=1) ... \n",
      "   20 / 30\n",
      "done.\n",
      "\n",
      "Progressive alignment 2/2... \n",
      "STEP     1 / 29 \n",
      "len1=42887, len2=42593, Switching to the memsave mode\n"
     ]
    },
    {
     "name": "stderr",
     "output_type": "stream",
     "text": [
      "STEP     3 / 29 mDP 00002 / 00257DP 00003 / 00257DP 00004 / 00257DP 00005 / 00257DP 00006 / 00257DP 00007 / 00257DP 00008 / 00257DP 00009 / 00257DP 00010 / 00257DP 00011 / 00257DP 00012 / 00257DP 00013 / 00257DP 00014 / 00257DP 00015 / 00257DP 00016 / 00257DP 00017 / 00257DP 00018 / 00257DP 00019 / 00257DP 00020 / 00257DP 00021 / 00257DP 00022 / 00257DP 00023 / 00257DP 00024 / 00257DP 00025 / 00257DP 00026 / 00257DP 00027 / 00257DP 00028 / 00257DP 00029 / 00257DP 00030 / 00257DP 00031 / 00257DP 00032 / 00257DP 00033 / 00257DP 00034 / 00257DP 00035 / 00257DP 00036 / 00257DP 00037 / 00257DP 00038 / 00257DP 00039 / 00257DP 00040 / 00257DP 00041 / 00257DP 00042 / 00257DP 00043 / 00257DP 00044 / 00257DP 00045 / 00257DP 00046 / 00257DP 00047 / 00257DP 00048 / 00257DP 00049 / 00257DP 00050 / 00257DP 00051 / 00257DP 00052 / 00257DP 00053 / 00257DP 00054 / 00257DP 00055 / 00257DP 00056 / 00257DP 00057 / 00257DP 00058 / 00257DP 00059 / 00257DP 00060 / 00257DP 00061 / 00257DP 00062 / 00257DP 00063 / 00257DP 00064 / 00257DP 00065 / 00257DP 00066 / 00257DP 00067 / 00257DP 00068 / 00257DP 00069 / 00257DP 00070 / 00257DP 00071 / 00257DP 00072 / 00257DP 00073 / 00257DP 00074 / 00257DP 00075 / 00257DP 00076 / 00257DP 00077 / 00257DP 00078 / 00257DP 00079 / 00257DP 00080 / 00257DP 00081 / 00257DP 00082 / 00257DP 00083 / 00257DP 00084 / 00257DP 00085 / 00257DP 00086 / 00257DP 00087 / 00257DP 00088 / 00257DP 00089 / 00257DP 00090 / 00257DP 00091 / 00257DP 00092 / 00257DP 00093 / 00257DP 00094 / 00257DP 00095 / 00257DP 00096 / 00257DP 00097 / 00257DP 00098 / 00257DP 00099 / 00257DP 00100 / 00257DP 00101 / 00257DP 00102 / 00257DP 00103 / 00257DP 00104 / 00257DP 00105 / 00257DP 00106 / 00257DP 00107 / 00257DP 00108 / 00257DP 00109 / 00257DP 00110 / 00257DP 00111 / 00257DP 00112 / 00257DP 00113 / 00257DP 00114 / 00257DP 00115 / 00257DP 00116 / 00257DP 00117 / 00257DP 00118 / 00257DP 00119 / 00257DP 00120 / 00257DP 00121 / 00257DP 00122 / 00257DP 00123 / 00257DP 00124 / 00257DP 00125 / 00257DP 00126 / 00257DP 00127 / 00257DP 00128 / 00257DP 00129 / 00257DP 00130 / 00257DP 00131 / 00257DP 00132 / 00257DP 00133 / 00257DP 00134 / 00257DP 00135 / 00257DP 00136 / 00257DP 00137 / 00257DP 00138 / 00257DP 00139 / 00257DP 00140 / 00257DP 00141 / 00257DP 00142 / 00257DP 00143 / 00257DP 00144 / 00257DP 00145 / 00257DP 00146 / 00257DP 00147 / 00257DP 00148 / 00257DP 00149 / 00257DP 00150 / 00257DP 00151 / 00257DP 00152 / 00257DP 00153 / 00257DP 00154 / 00257DP 00155 / 00257DP 00156 / 00257DP 00157 / 00257DP 00158 / 00257DP 00159 / 00257DP 00160 / 00257DP 00161 / 00257DP 00162 / 00257DP 00163 / 00257DP 00164 / 00257DP 00165 / 00257DP 00166 / 00257DP 00167 / 00257DP 00168 / 00257DP 00169 / 00257DP 00170 / 00257DP 00171 / 00257DP 00172 / 00257DP 00173 / 00257DP 00174 / 00257DP 00175 / 00257DP 00176 / 00257DP 00177 / 00257DP 00178 / 00257DP 00179 / 00257DP 00180 / 00257DP 00181 / 00257DP 00182 / 00257DP 00183 / 00257DP 00184 / 00257DP 00185 / 00257DP 00186 / 00257DP 00187 / 00257DP 00188 / 00257DP 00189 / 00257DP 00190 / 00257DP 00191 / 00257DP 00192 / 00257DP 00193 / 00257DP 00194 / 00257DP 00195 / 00257DP 00196 / 00257DP 00197 / 00257DP 00198 / 00257DP 00199 / 00257DP 00200 / 00257DP 00201 / 00257DP 00202 / 00257DP 00203 / 00257DP 00204 / 00257DP 00205 / 00257DP 00206 / 00257DP 00207 / 00257DP 00208 / 00257DP 00209 / 00257DP 00210 / 00257DP 00211 / 00257DP 00212 / 00257DP 00213 / 00257DP 00214 / 00257DP 00215 / 00257DP 00216 / 00257DP 00217 / 00257DP 00218 / 00257DP 00219 / 00257DP 00220 / 00257DP 00221 / 00257DP 00222 / 00257DP 00223 / 00257DP 00224 / 00257DP 00225 / 00257DP 00226 / 00257DP 00227 / 00257DP 00228 / 00257DP 00229 / 00257DP 00230 / 00257DP 00231 / 00257DP 00232 / 00257DP 00233 / 00257DP 00234 / 00257DP 00235 / 00257DP 00236 / 00257DP 00237 / 00257DP 00238 / 00257DP 00239 / 00257DP 00240 / 00257DP 00241 / 00257DP 00242 / 00257DP 00243 / 00257DP 00244 / 00257DP 00245 / 00257DP 00246 / 00257DP 00247 / 00257DP 00248 / 00257DP 00249 / 00257DP 00250 / 00257DP 00251 / 00257DP 00252 / 00257DP 00253 / 00257DP 00254 / 00257DP 00255 / 00257DP 00256 / 00257DP 00257 / 00257DP 00001 / 00408DP 00002 / 00408DP 00003 / 00408DP 00004 / 00408DP 00005 / 00408DP 00006 / 00408DP 00007 / 00408DP 00008 / 00408DP 00009 / 00408DP 00010 / 00408DP 00011 / 00408DP 00012 / 00408DP 00013 / 00408DP 00014 / 00408DP 00015 / 00408DP 00016 / 00408DP 00017 / 00408DP 00018 / 00408DP 00019 / 00408DP 00020 / 00408DP 00021 / 00408DP 00022 / 00408DP 00023 / 00408DP 00024 / 00408DP 00025 / 00408DP 00026 / 00408DP 00027 / 00408DP 00028 / 00408DP 00029 / 00408DP 00030 / 00408DP 00031 / 00408DP 00032 / 00408DP 00033 / 00408DP 00034 / 00408DP 00035 / 00408DP 00036 / 00408DP 00037 / 00408DP 00038 / 00408DP 00039 / 00408DP 00040 / 00408DP 00041 / 00408DP 00042 / 00408DP 00043 / 00408DP 00044 / 00408DP 00045 / 00408DP 00046 / 00408DP 00047 / 00408DP 00048 / 00408DP 00049 / 00408DP 00050 / 00408DP 00051 / 00408DP 00052 / 00408DP 00053 / 00408DP 00054 / 00408DP 00055 / 00408DP 00056 / 00408DP 00057 / 00408DP 00058 / 00408DP 00059 / 00408DP 00060 / 00408DP 00061 / 00408DP 00062 / 00408DP 00063 / 00408DP 00064 / 00408DP 00065 / 00408DP 00066 / 00408DP 00067 / 00408DP 00068 / 00408DP 00069 / 00408DP 00070 / 00408DP 00071 / 00408DP 00072 / 00408DP 00073 / 00408DP 00074 / 00408DP 00075 / 00408DP 00076 / 00408DP 00077 / 00408DP 00078 / 00408DP 00079 / 00408DP 00080 / 00408DP 00081 / 00408DP 00082 / 00408DP 00083 / 00408DP 00084 / 00408DP 00085 / 00408DP 00086 / 00408DP 00087 / 00408DP 00088 / 00408DP 00089 / 00408DP 00090 / 00408DP 00091 / 00408DP 00092 / 00408DP 00093 / 00408DP 00094 / 00408DP 00095 / 00408DP 00096 / 00408DP 00097 / 00408DP 00098 / 00408DP 00099 / 00408DP 00100 / 00408DP 00101 / 00408DP 00102 / 00408DP 00103 / 00408DP 00104 / 00408DP 00105 / 00408DP 00106 / 00408DP 00107 / 00408DP 00108 / 00408DP 00109 / 00408DP 00110 / 00408DP 00111 / 00408DP 00112 / 00408DP 00113 / 00408DP 00114 / 00408DP 00115 / 00408DP 00116 / 00408DP 00117 / 00408DP 00118 / 00408DP 00119 / 00408DP 00120 / 00408DP 00121 / 00408DP 00122 / 00408DP 00123 / 00408DP 00124 / 00408DP 00125 / 00408DP 00126 / 00408DP 00127 / 00408DP 00128 / 00408DP 00129 / 00408DP 00130 / 00408DP 00131 / 00408DP 00132 / 00408DP 00133 / 00408DP 00134 / 00408DP 00135 / 00408DP 00136 / 00408DP 00137 / 00408DP 00138 / 00408DP 00139 / 00408DP 00140 / 00408DP 00141 / 00408DP 00142 / 00408DP 00143 / 00408DP 00144 / 00408DP 00145 / 00408DP 00146 / 00408DP 00147 / 00408DP 00148 / 00408DP 00149 / 00408DP 00150 / 00408DP 00151 / 00408DP 00152 / 00408DP 00153 / 00408DP 00154 / 00408DP 00155 / 00408DP 00156 / 00408DP 00157 / 00408DP 00158 / 00408DP 00159 / 00408DP 00160 / 00408DP 00161 / 00408DP 00162 / 00408DP 00163 / 00408DP 00164 / 00408DP 00165 / 00408DP 00166 / 00408DP 00167 / 00408DP 00168 / 00408DP 00169 / 00408DP 00170 / 00408DP 00171 / 00408DP 00172 / 00408DP 00173 / 00408DP 00174 / 00408DP 00175 / 00408DP 00176 / 00408DP 00177 / 00408DP 00178 / 00408DP 00179 / 00408DP 00180 / 00408DP 00181 / 00408DP 00182 / 00408DP 00183 / 00408DP 00184 / 00408DP 00185 / 00408DP 00186 / 00408DP 00187 / 00408DP 00188 / 00408DP 00189 / 00408DP 00190 / 00408DP 00191 / 00408DP 00192 / 00408DP 00193 / 00408DP 00194 / 00408DP 00195 / 00408DP 00196 / 00408DP 00197 / 00408DP 00198 / 00408DP 00199 / 00408DP 00200 / 00408DP 00201 / 00408DP 00202 / 00408DP 00203 / 00408DP 00204 / 00408DP 00205 / 00408DP 00206 / 00408DP 00207 / 00408DP 00208 / 00408DP 00209 / 00408DP 00210 / 00408DP 00211 / 00408DP 00212 / 00408DP 00213 / 00408DP 00214 / 00408DP 00215 / 00408DP 00216 / 00408DP 00217 / 00408DP 00218 / 00408DP 00219 / 00408DP 00220 / 00408DP 00221 / 00408DP 00222 / 00408DP 00223 / 00408DP 00224 / 00408DP 00225 / 00408DP 00226 / 00408DP 00227 / 00408DP 00228 / 00408DP 00229 / 00408DP 00230 / 00408DP 00231 / 00408DP 00232 / 00408DP 00233 / 00408DP 00234 / 00408DP 00235 / 00408DP 00236 / 00408DP 00237 / 00408DP 00238 / 00408DP 00239 / 00408DP 00240 / 00408DP 00241 / 00408DP 00242 / 00408DP 00243 / 00408DP 00244 / 00408DP 00245 / 00408DP 00246 / 00408DP 00247 / 00408DP 00248 / 00408DP 00249 / 00408DP 00250 / 00408DP 00251 / 00408DP 00252 / 00408DP 00253 / 00408DP 00254 / 00408DP 00255 / 00408DP 00256 / 00408DP 00257 / 00408DP 00258 / 00408DP 00259 / 00408DP 00260 / 00408DP 00261 / 00408DP 00262 / 00408DP 00263 / 00408DP 00264 / 00408DP 00265 / 00408DP 00266 / 00408DP 00267 / 00408DP 00268 / 00408DP 00269 / 00408DP 00270 / 00408DP 00271 / 00408DP 00272 / 00408DP 00273 / 00408DP 00274 / 00408DP 00275 / 00408DP 00276 / 00408DP 00277 / 00408DP 00278 / 00408DP 00279 / 00408DP 00280 / 00408DP 00281 / 00408DP 00282 / 00408DP 00283 / 00408DP 00284 / 00408DP 00285 / 00408DP 00286 / 00408DP 00287 / 00408DP 00288 / 00408DP 00289 / 00408DP 00290 / 00408DP 00291 / 00408DP 00292 / 00408DP 00293 / 00408DP 00294 / 00408DP 00295 / 00408DP 00296 / 00408DP 00297 / 00408DP 00298 / 00408DP 00299 / 00408DP 00300 / 00408DP 00301 / 00408DP 00302 / 00408DP 00303 / 00408DP 00304 / 00408DP 00305 / 00408DP 00306 / 00408DP 00307 / 00408DP 00308 / 00408DP 00309 / 00408DP 00310 / 00408DP 00311 / 00408DP 00312 / 00408DP 00313 / 00408DP 00314 / 00408DP 00315 / 00408DP 00316 / 00408DP 00317 / 00408DP 00318 / 00408DP 00319 / 00408DP 00320 / 00408DP 00321 / 00408DP 00322 / 00408DP 00323 / 00408DP 00324 / 00408DP 00325 / 00408DP 00326 / 00408DP 00327 / 00408DP 00328 / 00408DP 00329 / 00408DP 00330 / 00408DP 00331 / 00408DP 00332 / 00408DP 00333 / 00408DP 00334 / 00408DP 00335 / 00408DP 00336 / 00408DP 00337 / 00408DP 00338 / 00408DP 00339 / 00408DP 00340 / 00408DP 00341 / 00408DP 00342 / 00408DP 00343 / 00408DP 00344 / 00408DP 00345 / 00408DP 00346 / 00408DP 00347 / 00408DP 00348 / 00408DP 00349 / 00408DP 00350 / 00408DP 00351 / 00408DP 00352 / 00408DP 00353 / 00408DP 00354 / 00408DP 00355 / 00408DP 00356 / 00408DP 00357 / 00408DP 00358 / 00408DP 00359 / 00408DP 00360 / 00408DP 00361 / 00408DP 00362 / 00408DP 00363 / 00408DP 00364 / 00408DP 00365 / 00408DP 00366 / 00408DP 00367 / 00408DP 00368 / 00408DP 00369 / 00408DP 00370 / 00408DP 00371 / 00408DP 00372 / 00408DP 00373 / 00408DP 00374 / 00408DP 00375 / 00408DP 00376 / 00408DP 00377 / 00408DP 00378 / 00408DP 00379 / 00408DP 00380 / 00408DP 00381 / 00408DP 00382 / 00408DP 00383 / 00408DP 00384 / 00408DP 00385 / 00408DP 00386 / 00408DP 00387 / 00408DP 00388 / 00408DP 00389 / 00408DP 00390 / 00408DP 00391 / 00408DP 00392 / 00408DP 00393 / 00408DP 00394 / 00408DP 00395 / 00408DP 00396 / 00408DP 00397 / 00408DP 00398 / 00408DP 00399 / 00408DP 00400 / 00408DP 00401 / 00408DP 00402 / 00408DP 00403 / 00408DP 00404 / 00408DP 00405 / 00408DP 00406 / 00408DP 00407 / 00408DP 00408 / 00408"
     ]
    },
    {
     "name": "stderr",
     "output_type": "stream",
     "text": [
      "DP 00001 / 00870 \b\b\b\b\b\b\b\b\b\b\b\b\b\b\b\b\bDP 00002 / 00870 \b\b\b\b\b\b\b\b\b\b\b\b\b\b\b\b\bDP 00003 / 00870 \b\b\b\b\b\b\b\b\b\b\b\b\b\b\b\b\bDP 00004 / 00870 \b\b\b\b\b\b\b\b\b\b\b\b\b\b\b\b\bDP 00005 / 00870 \b\b\b\b\b\b\b\b\b\b\b\b\b\b\b\b\bDP 00006 / 00870 \b\b\b\b\b\b\b\b\b\b\b\b\b\b\b\b\bDP 00007 / 00870 \b\b\b\b\b\b\b\b\b\b\b\b\b\b\b\b\bDP 00008 / 00870 \b\b\b\b\b\b\b\b\b\b\b\b\b\b\b\b\bDP 00009 / 00870 \b\b\b\b\b\b\b\b\b\b\b\b\b\b\b\b\bDP 00010 / 00870 \b\b\b\b\b\b\b\b\b\b\b\b\b\b\b\b\bDP 00011 / 00870 \b\b\b\b\b\b\b\b\b\b\b\b\b\b\b\b\bDP 00012 / 00870 \b\b\b\b\b\b\b\b\b\b\b\b\b\b\b\b\bDP 00013 / 00870 \b\b\b\b\b\b\b\b\b\b\b\b\b\b\b\b\bDP 00014 / 00870 \b\b\b\b\b\b\b\b\b\b\b\b\b\b\b\b\bDP 00015 / 00870 \b\b\b\b\b\b\b\b\b\b\b\b\b\b\b\b\bDP 00016 / 00870 \b\b\b\b\b\b\b\b\b\b\b\b\b\b\b\b\bDP 00017 / 00870 \b\b\b\b\b\b\b\b\b\b\b\b\b\b\b\b\bDP 00018 / 00870 \b\b\b\b\b\b\b\b\b\b\b\b\b\b\b\b\bDP 00019 / 00870 \b\b\b\b\b\b\b\b\b\b\b\b\b\b\b\b\bDP 00020 / 00870 \b\b\b\b\b\b\b\b\b\b\b\b\b\b\b\b\bDP 00021 / 00870 \b\b\b\b\b\b\b\b\b\b\b\b\b\b\b\b\bDP 00022 / 00870 \b\b\b\b\b\b\b\b\b\b\b\b\b\b\b\b\bDP 00023 / 00870 \b\b\b\b\b\b\b\b\b\b\b\b\b\b\b\b\bDP 00024 / 00870 \b\b\b\b\b\b\b\b\b\b\b\b\b\b\b\b\bDP 00025 / 00870 \b\b\b\b\b\b\b\b\b\b\b\b\b\b\b\b\bDP 00026 / 00870 \b\b\b\b\b\b\b\b\b\b\b\b\b\b\b\b\bDP 00027 / 00870 \b\b\b\b\b\b\b\b\b\b\b\b\b\b\b\b\bDP 00028 / 00870 \b\b\b\b\b\b\b\b\b\b\b\b\b\b\b\b\bDP 00029 / 00870 \b\b\b\b\b\b\b\b\b\b\b\b\b\b\b\b\bDP 00030 / 00870 \b\b\b\b\b\b\b\b\b\b\b\b\b\b\b\b\bDP 00031 / 00870 \b\b\b\b\b\b\b\b\b\b\b\b\b\b\b\b\bDP 00032 / 00870 \b\b\b\b\b\b\b\b\b\b\b\b\b\b\b\b\bDP 00033 / 00870 \b\b\b\b\b\b\b\b\b\b\b\b\b\b\b\b\bDP 00034 / 00870 \b\b\b\b\b\b\b\b\b\b\b\b\b\b\b\b\bDP 00035 / 00870 \b\b\b\b\b\b\b\b\b\b\b\b\b\b\b\b\bDP 00036 / 00870 \b\b\b\b\b\b\b\b\b\b\b\b\b\b\b\b\bDP 00037 / 00870 \b\b\b\b\b\b\b\b\b\b\b\b\b\b\b\b\bDP 00038 / 00870 \b\b\b\b\b\b\b\b\b\b\b\b\b\b\b\b\bDP 00039 / 00870 \b\b\b\b\b\b\b\b\b\b\b\b\b\b\b\b\bDP 00040 / 00870 \b\b\b\b\b\b\b\b\b\b\b\b\b\b\b\b\bDP 00041 / 00870 \b\b\b\b\b\b\b\b\b\b\b\b\b\b\b\b\bDP 00042 / 00870 \b\b\b\b\b\b\b\b\b\b\b\b\b\b\b\b\bDP 00043 / 00870 \b\b\b\b\b\b\b\b\b\b\b\b\b\b\b\b\bDP 00044 / 00870 \b\b\b\b\b\b\b\b\b\b\b\b\b\b\b\b\bDP 00045 / 00870 \b\b\b\b\b\b\b\b\b\b\b\b\b\b\b\b\bDP 00046 / 00870 \b\b\b\b\b\b\b\b\b\b\b\b\b\b\b\b\bDP 00047 / 00870 \b\b\b\b\b\b\b\b\b\b\b\b\b\b\b\b\bDP 00048 / 00870 \b\b\b\b\b\b\b\b\b\b\b\b\b\b\b\b\bDP 00049 / 00870 \b\b\b\b\b\b\b\b\b\b\b\b\b\b\b\b\bDP 00050 / 00870 \b\b\b\b\b\b\b\b\b\b\b\b\b\b\b\b\bDP 00051 / 00870 \b\b\b\b\b\b\b\b\b\b\b\b\b\b\b\b\bDP 00052 / 00870 \b\b\b\b\b\b\b\b\b\b\b\b\b\b\b\b\bDP 00053 / 00870 \b\b\b\b\b\b\b\b\b\b\b\b\b\b\b\b\bDP 00054 / 00870 \b\b\b\b\b\b\b\b\b\b\b\b\b\b\b\b\bDP 00055 / 00870 \b\b\b\b\b\b\b\b\b\b\b\b\b\b\b\b\bDP 00056 / 00870 \b\b\b\b\b\b\b\b\b\b\b\b\b\b\b\b\bDP 00057 / 00870 \b\b\b\b\b\b\b\b\b\b\b\b\b\b\b\b\bDP 00058 / 00870 \b\b\b\b\b\b\b\b\b\b\b\b\b\b\b\b\bDP 00059 / 00870 \b\b\b\b\b\b\b\b\b\b\b\b\b\b\b\b\bDP 00060 / 00870 \b\b\b\b\b\b\b\b\b\b\b\b\b\b\b\b\bDP 00061 / 00870 \b\b\b\b\b\b\b\b\b\b\b\b\b\b\b\b\bDP 00062 / 00870 \b\b\b\b\b\b\b\b\b\b\b\b\b\b\b\b\bDP 00063 / 00870 \b\b\b\b\b\b\b\b\b\b\b\b\b\b\b\b\bDP 00064 / 00870 \b\b\b\b\b\b\b\b\b\b\b\b\b\b\b\b\bDP 00065 / 00870 \b\b\b\b\b\b\b\b\b\b\b\b\b\b\b\b\bDP 00066 / 00870 \b\b\b\b\b\b\b\b\b\b\b\b\b\b\b\b\bDP 00067 / 00870 \b\b\b\b\b\b\b\b\b\b\b\b\b\b\b\b\bDP 00068 / 00870 \b\b\b\b\b\b\b\b\b\b\b\b\b\b\b\b\bDP 00069 / 00870 \b\b\b\b\b\b\b\b\b\b\b\b\b\b\b\b\bDP 00070 / 00870 \b\b\b\b\b\b\b\b\b\b\b\b\b\b\b\b\bDP 00071 / 00870 \b\b\b\b\b\b\b\b\b\b\b\b\b\b\b\b\bDP 00072 / 00870 \b\b\b\b\b\b\b\b\b\b\b\b\b\b\b\b\bDP 00073 / 00870 \b\b\b\b\b\b\b\b\b\b\b\b\b\b\b\b\bDP 00074 / 00870 \b\b\b\b\b\b\b\b\b\b\b\b\b\b\b\b\bDP 00075 / 00870 \b\b\b\b\b\b\b\b\b\b\b\b\b\b\b\b\bDP 00076 / 00870 \b\b\b\b\b\b\b\b\b\b\b\b\b\b\b\b\bDP 00077 / 00870 \b\b\b\b\b\b\b\b\b\b\b\b\b\b\b\b\bDP 00078 / 00870 \b\b\b\b\b\b\b\b\b\b\b\b\b\b\b\b\bDP 00079 / 00870 \b\b\b\b\b\b\b\b\b\b\b\b\b\b\b\b\bDP 00080 / 00870 \b\b\b\b\b\b\b\b\b\b\b\b\b\b\b\b\bDP 00081 / 00870 \b\b\b\b\b\b\b\b\b\b\b\b\b\b\b\b\bDP 00082 / 00870 \b\b\b\b\b\b\b\b\b\b\b\b\b\b\b\b\bDP 00083 / 00870 \b\b\b\b\b\b\b\b\b\b\b\b\b\b\b\b\bDP 00084 / 00870 \b\b\b\b\b\b\b\b\b\b\b\b\b\b\b\b\bDP 00085 / 00870 \b\b\b\b\b\b\b\b\b\b\b\b\b\b\b\b\bDP 00086 / 00870 \b\b\b\b\b\b\b\b\b\b\b\b\b\b\b\b\bDP 00087 / 00870 \b\b\b\b\b\b\b\b\b\b\b\b\b\b\b\b\bDP 00088 / 00870 \b\b\b\b\b\b\b\b\b\b\b\b\b\b\b\b\bDP 00089 / 00870 \b\b\b\b\b\b\b\b\b\b\b\b\b\b\b\b\bDP 00090 / 00870 \b\b\b\b\b\b\b\b\b\b\b\b\b\b\b\b\bDP 00091 / 00870 \b\b\b\b\b\b\b\b\b\b\b\b\b\b\b\b\bDP 00092 / 00870 \b\b\b\b\b\b\b\b\b\b\b\b\b\b\b\b\bDP 00093 / 00870 \b\b\b\b\b\b\b\b\b\b\b\b\b\b\b\b\bDP 00094 / 00870 \b\b\b\b\b\b\b\b\b\b\b\b\b\b\b\b\bDP 00095 / 00870 \b\b\b\b\b\b\b\b\b\b\b\b\b\b\b\b\bDP 00096 / 00870 \b\b\b\b\b\b\b\b\b\b\b\b\b\b\b\b\bDP 00097 / 00870 \b\b\b\b\b\b\b\b\b\b\b\b\b\b\b\b\bDP 00098 / 00870 \b\b\b\b\b\b\b\b\b\b\b\b\b\b\b\b\bDP 00099 / 00870 \b\b\b\b\b\b\b\b\b\b\b\b\b\b\b\b\bDP 00100 / 00870 \b\b\b\b\b\b\b\b\b\b\b\b\b\b\b\b\bDP 00101 / 00870 \b\b\b\b\b\b\b\b\b\b\b\b\b\b\b\b\bDP 00102 / 00870 \b\b\b\b\b\b\b\b\b\b\b\b\b\b\b\b\bDP 00103 / 00870 \b\b\b\b\b\b\b\b\b\b\b\b\b\b\b\b\bDP 00104 / 00870 \b\b\b\b\b\b\b\b\b\b\b\b\b\b\b\b\bDP 00105 / 00870 \b\b\b\b\b\b\b\b\b\b\b\b\b\b\b\b\bDP 00106 / 00870 \b\b\b\b\b\b\b\b\b\b\b\b\b\b\b\b\bDP 00107 / 00870 \b\b\b\b\b\b\b\b\b\b\b\b\b\b\b\b\bDP 00108 / 00870 \b\b\b\b\b\b\b\b\b\b\b\b\b\b\b\b\bDP 00109 / 00870 \b\b\b\b\b\b\b\b\b\b\b\b\b\b\b\b\bDP 00110 / 00870 \b\b\b\b\b\b\b\b\b\b\b\b\b\b\b\b\bDP 00111 / 00870 \b\b\b\b\b\b\b\b\b\b\b\b\b\b\b\b\bDP 00112 / 00870 \b\b\b\b\b\b\b\b\b\b\b\b\b\b\b\b\bDP 00113 / 00870 \b\b\b\b\b\b\b\b\b\b\b\b\b\b\b\b\bDP 00114 / 00870 \b\b\b\b\b\b\b\b\b\b\b\b\b\b\b\b\bDP 00115 / 00870 \b\b\b\b\b\b\b\b\b\b\b\b\b\b\b\b\bDP 00116 / 00870 \b\b\b\b\b\b\b\b\b\b\b\b\b\b\b\b\bDP 00117 / 00870 \b\b\b\b\b\b\b\b\b\b\b\b\b\b\b\b\bDP 00118 / 00870 \b\b\b\b\b\b\b\b\b\b\b\b\b\b\b\b\bDP 00119 / 00870 \b\b\b\b\b\b\b\b\b\b\b\b\b\b\b\b\bDP 00120 / 00870 \b\b\b\b\b\b\b\b\b\b\b\b\b\b\b\b\bDP 00121 / 00870 \b\b\b\b\b\b\b\b\b\b\b\b\b\b\b\b\bDP 00122 / 00870 \b\b\b\b\b\b\b\b\b\b\b\b\b\b\b\b\bDP 00123 / 00870 \b\b\b\b\b\b\b\b\b\b\b\b\b\b\b\b\bDP 00124 / 00870 \b\b\b\b\b\b\b\b\b\b\b\b\b\b\b\b\bDP 00125 / 00870 \b\b\b\b\b\b\b\b\b\b\b\b\b\b\b\b\bDP 00126 / 00870 \b\b\b\b\b\b\b\b\b\b\b\b\b\b\b\b\bDP 00127 / 00870 \b\b\b\b\b\b\b\b\b\b\b\b\b\b\b\b\bDP 00128 / 00870 \b\b\b\b\b\b\b\b\b\b\b\b\b\b\b\b\bDP 00129 / 00870 \b\b\b\b\b\b\b\b\b\b\b\b\b\b\b\b\bDP 00130 / 00870 \b\b\b\b\b\b\b\b\b\b\b\b\b\b\b\b\bDP 00131 / 00870 \b\b\b\b\b\b\b\b\b\b\b\b\b\b\b\b\bDP 00132 / 00870 \b\b\b\b\b\b\b\b\b\b\b\b\b\b\b\b\bDP 00133 / 00870 \b\b\b\b\b\b\b\b\b\b\b\b\b\b\b\b\bDP 00134 / 00870 \b\b\b\b\b\b\b\b\b\b\b\b\b\b\b\b\bDP 00135 / 00870 \b\b\b\b\b\b\b\b\b\b\b\b\b\b\b\b\bDP 00136 / 00870 \b\b\b\b\b\b\b\b\b\b\b\b\b\b\b\b\bDP 00137 / 00870 \b\b\b\b\b\b\b\b\b\b\b\b\b\b\b\b\bDP 00138 / 00870 \b\b\b\b\b\b\b\b\b\b\b\b\b\b\b\b\bDP 00139 / 00870 \b\b\b\b\b\b\b\b\b\b\b\b\b\b\b\b\bDP 00140 / 00870 \b\b\b\b\b\b\b\b\b\b\b\b\b\b\b\b\bDP 00141 / 00870 \b\b\b\b\b\b\b\b\b\b\b\b\b\b\b\b\bDP 00142 / 00870 \b\b\b\b\b\b\b\b\b\b\b\b\b\b\b\b\bDP 00143 / 00870 \b\b\b\b\b\b\b\b\b\b\b\b\b\b\b\b\bDP 00144 / 00870 \b\b\b\b\b\b\b\b\b\b\b\b\b\b\b\b\bDP 00145 / 00870 \b\b\b\b\b\b\b\b\b\b\b\b\b\b\b\b\bDP 00146 / 00870 \b\b\b\b\b\b\b\b\b\b\b\b\b\b\b\b\bDP 00147 / 00870 \b\b\b\b\b\b\b\b\b\b\b\b\b\b\b\b\bDP 00148 / 00870 \b\b\b\b\b\b\b\b\b\b\b\b\b\b\b\b\bDP 00149 / 00870 \b\b\b\b\b\b\b\b\b\b\b\b\b\b\b\b\bDP 00150 / 00870 \b\b\b\b\b\b\b\b\b\b\b\b\b\b\b\b\bDP 00151 / 00870 \b\b\b\b\b\b\b\b\b\b\b\b\b\b\b\b\bDP 00152 / 00870 \b\b\b\b\b\b\b\b\b\b\b\b\b\b\b\b\bDP 00153 / 00870 \b\b\b\b\b\b\b\b\b\b\b\b\b\b\b\b\bDP 00154 / 00870 \b\b\b\b\b\b\b\b\b\b\b\b\b\b\b\b\bDP 00155 / 00870 \b\b\b\b\b\b\b\b\b\b\b\b\b\b\b\b\bDP 00156 / 00870 \b\b\b\b\b\b\b\b\b\b\b\b\b\b\b\b\bDP 00157 / 00870 \b\b\b\b\b\b\b\b\b\b\b\b\b\b\b\b\bDP 00158 / 00870 \b\b\b\b\b\b\b\b\b\b\b\b\b\b\b\b\bDP 00159 / 00870 \b\b\b\b\b\b\b\b\b\b\b\b\b\b\b\b\bDP 00160 / 00870 \b\b\b\b\b\b\b\b\b\b\b\b\b\b\b\b\bDP 00161 / 00870 \b\b\b\b\b\b\b\b\b\b\b\b\b\b\b\b\bDP 00162 / 00870 \b\b\b\b\b\b\b\b\b\b\b\b\b\b\b\b\bDP 00163 / 00870 \b\b\b\b\b\b\b\b\b\b\b\b\b\b\b\b\bDP 00164 / 00870 \b\b\b\b\b\b\b\b\b\b\b\b\b\b\b\b\bDP 00165 / 00870 \b\b\b\b\b\b\b\b\b\b\b\b\b\b\b\b\bDP 00166 / 00870 \b\b\b\b\b\b\b\b\b\b\b\b\b\b\b\b\bDP 00167 / 00870 \b\b\b\b\b\b\b\b\b\b\b\b\b\b\b\b\bDP 00168 / 00870 \b\b\b\b\b\b\b\b\b\b\b\b\b\b\b\b\bDP 00169 / 00870 \b\b\b\b\b\b\b\b\b\b\b\b\b\b\b\b\bDP 00170 / 00870 \b\b\b\b\b\b\b\b\b\b\b\b\b\b\b\b\bDP 00171 / 00870 \b\b\b\b\b\b\b\b\b\b\b\b\b\b\b\b\bDP 00172 / 00870 \b\b\b\b\b\b\b\b\b\b\b\b\b\b\b\b\bDP 00173 / 00870 \b\b\b\b\b\b\b\b\b\b\b\b\b\b\b\b\bDP 00174 / 00870 \b\b\b\b\b\b\b\b\b\b\b\b\b\b\b\b\bDP 00175 / 00870 \b\b\b\b\b\b\b\b\b\b\b\b\b\b\b\b\bDP 00176 / 00870 \b\b\b\b\b\b\b\b\b\b\b\b\b\b\b\b\bDP 00177 / 00870 \b\b\b\b\b\b\b\b\b\b\b\b\b\b\b\b\bDP 00178 / 00870 \b\b\b\b\b\b\b\b\b\b\b\b\b\b\b\b\bDP 00179 / 00870 \b\b\b\b\b\b\b\b\b\b\b\b\b\b\b\b\bDP 00180 / 00870 \b\b\b\b\b\b\b\b\b\b\b\b\b\b\b\b\bDP 00181 / 00870 \b\b\b\b\b\b\b\b\b\b\b\b\b\b\b\b\bDP 00182 / 00870 \b\b\b\b\b\b\b\b\b\b\b\b\b\b\b\b\bDP 00183 / 00870 \b\b\b\b\b\b\b\b\b\b\b\b\b\b\b\b\bDP 00184 / 00870 \b\b\b\b\b\b\b\b\b\b\b\b\b\b\b\b\bDP 00185 / 00870 \b\b\b\b\b\b\b\b\b\b\b\b\b\b\b\b\bDP 00186 / 00870 \b\b\b\b\b\b\b\b\b\b\b\b\b\b\b\b\bDP 00187 / 00870 \b\b\b\b\b\b\b\b\b\b\b\b\b\b\b\b\bDP 00188 / 00870 \b\b\b\b\b\b\b\b\b\b\b\b\b\b\b\b\bDP 00189 / 00870 \b\b\b\b\b\b\b\b\b\b\b\b\b\b\b\b\bDP 00190 / 00870 \b\b\b\b\b\b\b\b\b\b\b\b\b\b\b\b\bDP 00191 / 00870 \b\b\b\b\b\b\b\b\b\b\b\b\b\b\b\b\bDP 00192 / 00870 \b\b\b\b\b\b\b\b\b\b\b\b\b\b\b\b\bDP 00193 / 00870 \b\b\b\b\b\b\b\b\b\b\b\b\b\b\b\b\bDP 00194 / 00870 \b\b\b\b\b\b\b\b\b\b\b\b\b\b\b\b\bDP 00195 / 00870 \b\b\b\b\b\b\b\b\b\b\b\b\b\b\b\b\bDP 00196 / 00870 \b\b\b\b\b\b\b\b\b\b\b\b\b\b\b\b\bDP 00197 / 00870 \b\b\b\b\b\b\b\b\b\b\b\b\b\b\b\b\bDP 00198 / 00870 \b\b\b\b\b\b\b\b\b\b\b\b\b\b\b\b\bDP 00199 / 00870 \b\b\b\b\b\b\b\b\b\b\b\b\b\b\b\b\bDP 00200 / 00870 \b\b\b\b\b\b\b\b\b\b\b\b\b\b\b\b\bDP 00201 / 00870 \b\b\b\b\b\b\b\b\b\b\b\b\b\b\b\b\bDP 00202 / 00870 \b\b\b\b\b\b\b\b\b\b\b\b\b\b\b\b\bDP 00203 / 00870 \b\b\b\b\b\b\b\b\b\b\b\b\b\b\b\b\bDP 00204 / 00870 \b\b\b\b\b\b\b\b\b\b\b\b\b\b\b\b\bDP 00205 / 00870 \b\b\b\b\b\b\b\b\b\b\b\b\b\b\b\b\bDP 00206 / 00870 \b\b\b\b\b\b\b\b\b\b\b\b\b\b\b\b\bDP 00207 / 00870 \b\b\b\b\b\b\b\b\b\b\b\b\b\b\b\b\bDP 00208 / 00870 \b\b\b\b\b\b\b\b\b\b\b\b\b\b\b\b\bDP 00209 / 00870 \b\b\b\b\b\b\b\b\b\b\b\b\b\b\b\b\bDP 00210 / 00870 \b\b\b\b\b\b\b\b\b\b\b\b\b\b\b\b\bDP 00211 / 00870 \b\b\b\b\b\b\b\b\b\b\b\b\b\b\b\b\bDP 00212 / 00870 \b\b\b\b\b\b\b\b\b\b\b\b\b\b\b\b\bDP 00213 / 00870 \b\b\b\b\b\b\b\b\b\b\b\b\b\b\b\b\bDP 00214 / 00870 \b\b\b\b\b\b\b\b\b\b\b\b\b\b\b\b\bDP 00215 / 00870 \b\b\b\b\b\b\b\b\b\b\b\b\b\b\b\b\bDP 00216 / 00870 \b\b\b\b\b\b\b\b\b\b\b\b\b\b\b\b\bDP 00217 / 00870 \b\b\b\b\b\b\b\b\b\b\b\b\b\b\b\b\bDP 00218 / 00870 \b\b\b\b\b\b\b\b\b\b\b\b\b\b\b\b\bDP 00219 / 00870 \b\b\b\b\b\b\b\b\b\b\b\b\b\b\b\b\bDP 00220 / 00870 \b\b\b\b\b\b\b\b\b\b\b\b\b\b\b\b\bDP 00221 / 00870 \b\b\b\b\b\b\b\b\b\b\b\b\b\b\b\b\bDP 00222 / 00870 \b\b\b\b\b\b\b\b\b\b\b\b\b\b\b\b\bDP 00223 / 00870 \b\b\b\b\b\b\b\b\b\b\b\b\b\b\b\b\bDP 00224 / 00870 \b\b\b\b\b\b\b\b\b\b\b\b\b\b\b\b\bDP 00225 / 00870 \b\b\b\b\b\b\b\b\b\b\b\b\b\b\b\b\bDP 00226 / 00870 \b\b\b\b\b\b\b\b\b\b\b\b\b\b\b\b\bDP 00227 / 00870 \b\b\b\b\b\b\b\b\b\b\b\b\b\b\b\b\bDP 00228 / 00870 \b\b\b\b\b\b\b\b\b\b\b\b\b\b\b\b\bDP 00229 / 00870 \b\b\b\b\b\b\b\b\b\b\b\b\b\b\b\b\bDP 00230 / 00870 \b\b\b\b\b\b\b\b\b\b\b\b\b\b\b\b\bDP 00231 / 00870 \b\b\b\b\b\b\b\b\b\b\b\b\b\b\b\b\bDP 00232 / 00870 \b\b\b\b\b\b\b\b\b\b\b\b\b\b\b\b\bDP 00233 / 00870 \b\b\b\b\b\b\b\b\b\b\b\b\b\b\b\b\bDP 00234 / 00870 \b\b\b\b\b\b\b\b\b\b\b\b\b\b\b\b\bDP 00235 / 00870 \b\b\b\b\b\b\b\b\b\b\b\b\b\b\b\b\bDP 00236 / 00870 \b\b\b\b\b\b\b\b\b\b\b\b\b\b\b\b\bDP 00237 / 00870 \b\b\b\b\b\b\b\b\b\b\b\b\b\b\b\b\bDP 00238 / 00870 \b\b\b\b\b\b\b\b\b\b\b\b\b\b\b\b\bDP 00239 / 00870 \b\b\b\b\b\b\b\b\b\b\b\b\b\b\b\b\bDP 00240 / 00870 \b\b\b\b\b\b\b\b\b\b\b\b\b\b\b\b\bDP 00241 / 00870 \b\b\b\b\b\b\b\b\b\b\b\b\b\b\b\b\bDP 00242 / 00870 \b\b\b\b\b\b\b\b\b\b\b\b\b\b\b\b\bDP 00243 / 00870 \b\b\b\b\b\b\b\b\b\b\b\b\b\b\b\b\bDP 00244 / 00870 \b\b\b\b\b\b\b\b\b\b\b\b\b\b\b\b\bDP 00245 / 00870 \b\b\b\b\b\b\b\b\b\b\b\b\b\b\b\b\bDP 00246 / 00870 \b\b\b\b\b\b\b\b\b\b\b\b\b\b\b\b\bDP 00247 / 00870 \b\b\b\b\b\b\b\b\b\b\b\b\b\b\b\b\bDP 00248 / 00870 \b\b\b\b\b\b\b\b\b\b\b\b\b\b\b\b\bDP 00249 / 00870 \b\b\b\b\b\b\b\b\b\b\b\b\b\b\b\b\bDP 00250 / 00870 \b\b\b\b\b\b\b\b\b\b\b\b\b\b\b\b\bDP 00251 / 00870 \b\b\b\b\b\b\b\b\b\b\b\b\b\b\b\b\bDP 00252 / 00870 \b\b\b\b\b\b\b\b\b\b\b\b\b\b\b\b\bDP 00253 / 00870 \b\b\b\b\b\b\b\b\b\b\b\b\b\b\b\b\bDP 00254 / 00870 \b\b\b\b\b\b\b\b\b\b\b\b\b\b\b\b\bDP 00255 / 00870 \b\b\b\b\b\b\b\b\b\b\b\b\b\b\b\b\bDP 00256 / 00870 \b\b\b\b\b\b\b\b\b\b\b\b\b\b\b\b\bDP 00257 / 00870 \b\b\b\b\b\b\b\b\b\b\b\b\b\b\b\b\bDP 00258 / 00870 \b\b\b\b\b\b\b\b\b\b\b\b\b\b\b\b\bDP 00259 / 00870 \b\b\b\b\b\b\b\b\b\b\b\b\b\b\b\b\bDP 00260 / 00870 \b\b\b\b\b\b\b\b\b\b\b\b\b\b\b\b\bDP 00261 / 00870 \b\b\b\b\b\b\b\b\b\b\b\b\b\b\b\b\bDP 00262 / 00870 \b\b\b\b\b\b\b\b\b\b\b\b\b\b\b\b\bDP 00263 / 00870 \b\b\b\b\b\b\b\b\b\b\b\b\b\b\b\b\bDP 00264 / 00870 \b\b\b\b\b\b\b\b\b\b\b\b\b\b\b\b\bDP 00265 / 00870 \b\b\b\b\b\b\b\b\b\b\b\b\b\b\b\b\bDP 00266 / 00870 \b\b\b\b\b\b\b\b\b\b\b\b\b\b\b\b\bDP 00267 / 00870 \b\b\b\b\b\b\b\b\b\b\b\b\b\b\b\b\bDP 00268 / 00870 \b\b\b\b\b\b\b\b\b\b\b\b\b\b\b\b\bDP 00269 / 00870 \b\b\b\b\b\b\b\b\b\b\b\b\b\b\b\b\bDP 00270 / 00870 \b\b\b\b\b\b\b\b\b\b\b\b\b\b\b\b\bDP 00271 / 00870 \b\b\b\b\b\b\b\b\b\b\b\b\b\b\b\b\bDP 00272 / 00870 \b\b\b\b\b\b\b\b\b\b\b\b\b\b\b\b\bDP 00273 / 00870 \b\b\b\b\b\b\b\b\b\b\b\b\b\b\b\b\bDP 00274 / 00870 \b\b\b\b\b\b\b\b\b\b\b\b\b\b\b\b\bDP 00275 / 00870 \b\b\b\b\b\b\b\b\b\b\b\b\b\b\b\b\bDP 00276 / 00870 \b\b\b\b\b\b\b\b\b\b\b\b\b\b\b\b\bDP 00277 / 00870 \b\b\b\b\b\b\b\b\b\b\b\b\b\b\b\b\bDP 00278 / 00870 \b\b\b\b\b\b\b\b\b\b\b\b\b\b\b\b\bDP 00279 / 00870 \b\b\b\b\b\b\b\b\b\b\b\b\b\b\b\b\bDP 00280 / 00870 \b\b\b\b\b\b\b\b\b\b\b\b\b\b\b\b\bDP 00281 / 00870 \b\b\b\b\b\b\b\b\b\b\b\b\b\b\b\b\bDP 00282 / 00870 \b\b\b\b\b\b\b\b\b\b\b\b\b\b\b\b\bDP 00283 / 00870 \b\b\b\b\b\b\b\b\b\b\b\b\b\b\b\b\bDP 00284 / 00870 \b\b\b\b\b\b\b\b\b\b\b\b\b\b\b\b\bDP 00285 / 00870 \b\b\b\b\b\b\b\b\b\b\b\b\b\b\b\b\bDP 00286 / 00870 \b\b\b\b\b\b\b\b\b\b\b\b\b\b\b\b\bDP 00287 / 00870 \b\b\b\b\b\b\b\b\b\b\b\b\b\b\b\b\bDP 00288 / 00870 \b\b\b\b\b\b\b\b\b\b\b\b\b\b\b\b\bDP 00289 / 00870 \b\b\b\b\b\b\b\b\b\b\b\b\b\b\b\b\bDP 00290 / 00870 \b\b\b\b\b\b\b\b\b\b\b\b\b\b\b\b\bDP 00291 / 00870 \b\b\b\b\b\b\b\b\b\b\b\b\b\b\b\b\bDP 00292 / 00870 \b\b\b\b\b\b\b\b\b\b\b\b\b\b\b\b\bDP 00293 / 00870 \b\b\b\b\b\b\b\b\b\b\b\b\b\b\b\b\bDP 00294 / 00870 \b\b\b\b\b\b\b\b\b\b\b\b\b\b\b\b\bDP 00295 / 00870 \b\b\b\b\b\b\b\b\b\b\b\b\b\b\b\b\bDP 00296 / 00870 \b\b\b\b\b\b\b\b\b\b\b\b\b\b\b\b\bDP 00297 / 00870 \b\b\b\b\b\b\b\b\b\b\b\b\b\b\b\b\bDP 00298 / 00870 \b\b\b\b\b\b\b\b\b\b\b\b\b\b\b\b\bDP 00299 / 00870 \b\b\b\b\b\b\b\b\b\b\b\b\b\b\b\b\bDP 00300 / 00870 \b\b\b\b\b\b\b\b\b\b\b\b\b\b\b\b\bDP 00301 / 00870 \b\b\b\b\b\b\b\b\b\b\b\b\b\b\b\b\bDP 00302 / 00870 \b\b\b\b\b\b\b\b\b\b\b\b\b\b\b\b\bDP 00303 / 00870 \b\b\b\b\b\b\b\b\b\b\b\b\b\b\b\b\bDP 00304 / 00870 \b\b\b\b\b\b\b\b\b\b\b\b\b\b\b\b\bDP 00305 / 00870 \b\b\b\b\b\b\b\b\b\b\b\b\b\b\b\b\bDP 00306 / 00870 \b\b\b\b\b\b\b\b\b\b\b\b\b\b\b\b\bDP 00307 / 00870 \b\b\b\b\b\b\b\b\b\b\b\b\b\b\b\b\bDP 00308 / 00870 \b\b\b\b\b\b\b\b\b\b\b\b\b\b\b\b\bDP 00309 / 00870 \b\b\b\b\b\b\b\b\b\b\b\b\b\b\b\b\bDP 00310 / 00870 \b\b\b\b\b\b\b\b\b\b\b\b\b\b\b\b\bDP 00311 / 00870 \b\b\b\b\b\b\b\b\b\b\b\b\b\b\b\b\bDP 00312 / 00870 \b\b\b\b\b\b\b\b\b\b\b\b\b\b\b\b\bDP 00313 / 00870 \b\b\b\b\b\b\b\b\b\b\b\b\b\b\b\b\bDP 00314 / 00870 \b\b\b\b\b\b\b\b\b\b\b\b\b\b\b\b\bDP 00315 / 00870 \b\b\b\b\b\b\b\b\b\b\b\b\b\b\b\b\bDP 00316 / 00870 \b\b\b\b\b\b\b\b\b\b\b\b\b\b\b\b\bDP 00317 / 00870 \b\b\b\b\b\b\b\b\b\b\b\b\b\b\b\b\bDP 00318 / 00870 \b\b\b\b\b\b\b\b\b\b\b\b\b\b\b\b\bDP 00319 / 00870 \b\b\b\b\b\b\b\b\b\b\b\b\b\b\b\b\bDP 00320 / 00870 \b\b\b\b\b\b\b\b\b\b\b\b\b\b\b\b\bDP 00321 / 00870 \b\b\b\b\b\b\b\b\b\b\b\b\b\b\b\b\bDP 00322 / 00870 \b\b\b\b\b\b\b\b\b\b\b\b\b\b\b\b\bDP 00323 / 00870 \b\b\b\b\b\b\b\b\b\b\b\b\b\b\b\b\bDP 00324 / 00870 \b\b\b\b\b\b\b\b\b\b\b\b\b\b\b\b\bDP 00325 / 00870 \b\b\b\b\b\b\b\b\b\b\b\b\b\b\b\b\bDP 00326 / 00870 \b\b\b\b\b\b\b\b\b\b\b\b\b\b\b\b\bDP 00327 / 00870 \b\b\b\b\b\b\b\b\b\b\b\b\b\b\b\b\bDP 00328 / 00870 \b\b\b\b\b\b\b\b\b\b\b\b\b\b\b\b\bDP 00329 / 00870 \b\b\b\b\b\b\b\b\b\b\b\b\b\b\b\b\bDP 00330 / 00870 \b\b\b\b\b\b\b\b\b\b\b\b\b\b\b\b\bDP 00331 / 00870 \b\b\b\b\b\b\b\b\b\b\b\b\b\b\b\b\bDP 00332 / 00870 \b\b\b\b\b\b\b\b\b\b\b\b\b\b\b\b\bDP 00333 / 00870 \b\b\b\b\b\b\b\b\b\b\b\b\b\b\b\b\bDP 00334 / 00870 \b\b\b\b\b\b\b\b\b\b\b\b\b\b\b\b\bDP 00335 / 00870 \b\b\b\b\b\b\b\b\b\b\b\b\b\b\b\b\bDP 00336 / 00870 \b\b\b\b\b\b\b\b\b\b\b\b\b\b\b\b\bDP 00337 / 00870 \b\b\b\b\b\b\b\b\b\b\b\b\b\b\b\b\bDP 00338 / 00870 \b\b\b\b\b\b\b\b\b\b\b\b\b\b\b\b\bDP 00339 / 00870 \b\b\b\b\b\b\b\b\b\b\b\b\b\b\b\b\bDP 00340 / 00870 \b\b\b\b\b\b\b\b\b\b\b\b\b\b\b\b\bDP 00341 / 00870 \b\b\b\b\b\b\b\b\b\b\b\b\b\b\b\b\bDP 00342 / 00870 \b\b\b\b\b\b\b\b\b\b\b\b\b\b\b\b\bDP 00343 / 00870 \b\b\b\b\b\b\b\b\b\b\b\b\b\b\b\b\bDP 00344 / 00870 \b\b\b\b\b\b\b\b\b\b\b\b\b\b\b\b\bDP 00345 / 00870 \b\b\b\b\b\b\b\b\b\b\b\b\b\b\b\b\bDP 00346 / 00870 \b\b\b\b\b\b\b\b\b\b\b\b\b\b\b\b\bDP 00347 / 00870 \b\b\b\b\b\b\b\b\b\b\b\b\b\b\b\b\bDP 00348 / 00870 \b\b\b\b\b\b\b\b\b\b\b\b\b\b\b\b\bDP 00349 / 00870 \b\b\b\b\b\b\b\b\b\b\b\b\b\b\b\b\bDP 00350 / 00870 \b\b\b\b\b\b\b\b\b\b\b\b\b\b\b\b\bDP 00351 / 00870 \b\b\b\b\b\b\b\b\b\b\b\b\b\b\b\b\bDP 00352 / 00870 \b\b\b\b\b\b\b\b\b\b\b\b\b\b\b\b\bDP 00353 / 00870 \b\b\b\b\b\b\b\b\b\b\b\b\b\b\b\b\bDP 00354 / 00870 \b\b\b\b\b\b\b\b\b\b\b\b\b\b\b\b\bDP 00355 / 00870 \b\b\b\b\b\b\b\b\b\b\b\b\b\b\b\b\bDP 00356 / 00870 \b\b\b\b\b\b\b\b\b\b\b\b\b\b\b\b\bDP 00357 / 00870 \b\b\b\b\b\b\b\b\b\b\b\b\b\b\b\b\bDP 00358 / 00870 \b\b\b\b\b\b\b\b\b\b\b\b\b\b\b\b\bDP 00359 / 00870 \b\b\b\b\b\b\b\b\b\b\b\b\b\b\b\b\bDP 00360 / 00870 \b\b\b\b\b\b\b\b\b\b\b\b\b\b\b\b\bDP 00361 / 00870 \b\b\b\b\b\b\b\b\b\b\b\b\b\b\b\b\bDP 00362 / 00870 \b\b\b\b\b\b\b\b\b\b\b\b\b\b\b\b\bDP 00363 / 00870 \b\b\b\b\b\b\b\b\b\b\b\b\b\b\b\b\b"
     ]
    },
    {
     "name": "stderr",
     "output_type": "stream",
     "text": [
      "STEP     4 / 29 mP 00365 / 00870DP 00366 / 00870DP 00367 / 00870DP 00368 / 00870DP 00369 / 00870DP 00370 / 00870DP 00371 / 00870DP 00372 / 00870DP 00373 / 00870DP 00374 / 00870DP 00375 / 00870DP 00376 / 00870DP 00377 / 00870DP 00378 / 00870DP 00379 / 00870DP 00380 / 00870DP 00381 / 00870DP 00382 / 00870DP 00383 / 00870DP 00384 / 00870DP 00385 / 00870DP 00386 / 00870DP 00387 / 00870DP 00388 / 00870DP 00389 / 00870DP 00390 / 00870DP 00391 / 00870DP 00392 / 00870DP 00393 / 00870DP 00394 / 00870DP 00395 / 00870DP 00396 / 00870DP 00397 / 00870DP 00398 / 00870DP 00399 / 00870DP 00400 / 00870DP 00401 / 00870DP 00402 / 00870DP 00403 / 00870DP 00404 / 00870DP 00405 / 00870DP 00406 / 00870DP 00407 / 00870DP 00408 / 00870DP 00409 / 00870DP 00410 / 00870DP 00411 / 00870DP 00412 / 00870DP 00413 / 00870DP 00414 / 00870DP 00415 / 00870DP 00416 / 00870DP 00417 / 00870DP 00418 / 00870DP 00419 / 00870DP 00420 / 00870DP 00421 / 00870DP 00422 / 00870DP 00423 / 00870DP 00424 / 00870DP 00425 / 00870DP 00426 / 00870DP 00427 / 00870DP 00428 / 00870DP 00429 / 00870DP 00430 / 00870DP 00431 / 00870DP 00432 / 00870DP 00433 / 00870DP 00434 / 00870DP 00435 / 00870DP 00436 / 00870DP 00437 / 00870DP 00438 / 00870DP 00439 / 00870DP 00440 / 00870DP 00441 / 00870DP 00442 / 00870DP 00443 / 00870DP 00444 / 00870DP 00445 / 00870DP 00446 / 00870DP 00447 / 00870DP 00448 / 00870DP 00449 / 00870DP 00450 / 00870DP 00451 / 00870DP 00452 / 00870DP 00453 / 00870DP 00454 / 00870DP 00455 / 00870DP 00456 / 00870DP 00457 / 00870DP 00458 / 00870DP 00459 / 00870DP 00460 / 00870DP 00461 / 00870DP 00462 / 00870DP 00463 / 00870DP 00464 / 00870DP 00465 / 00870DP 00466 / 00870DP 00467 / 00870DP 00468 / 00870DP 00469 / 00870DP 00470 / 00870DP 00471 / 00870DP 00472 / 00870DP 00473 / 00870DP 00474 / 00870DP 00475 / 00870DP 00476 / 00870DP 00477 / 00870DP 00478 / 00870DP 00479 / 00870DP 00480 / 00870DP 00481 / 00870DP 00482 / 00870DP 00483 / 00870DP 00484 / 00870DP 00485 / 00870DP 00486 / 00870DP 00487 / 00870DP 00488 / 00870DP 00489 / 00870DP 00490 / 00870DP 00491 / 00870DP 00492 / 00870DP 00493 / 00870DP 00494 / 00870DP 00495 / 00870DP 00496 / 00870DP 00497 / 00870DP 00498 / 00870DP 00499 / 00870DP 00500 / 00870DP 00501 / 00870DP 00502 / 00870DP 00503 / 00870DP 00504 / 00870DP 00505 / 00870DP 00506 / 00870DP 00507 / 00870DP 00508 / 00870DP 00509 / 00870DP 00510 / 00870DP 00511 / 00870DP 00512 / 00870DP 00513 / 00870DP 00514 / 00870DP 00515 / 00870DP 00516 / 00870DP 00517 / 00870DP 00518 / 00870DP 00519 / 00870DP 00520 / 00870DP 00521 / 00870DP 00522 / 00870DP 00523 / 00870DP 00524 / 00870DP 00525 / 00870DP 00526 / 00870DP 00527 / 00870DP 00528 / 00870DP 00529 / 00870DP 00530 / 00870DP 00531 / 00870DP 00532 / 00870DP 00533 / 00870DP 00534 / 00870DP 00535 / 00870DP 00536 / 00870DP 00537 / 00870DP 00538 / 00870DP 00539 / 00870DP 00540 / 00870DP 00541 / 00870DP 00542 / 00870DP 00543 / 00870DP 00544 / 00870DP 00545 / 00870DP 00546 / 00870DP 00547 / 00870DP 00548 / 00870DP 00549 / 00870DP 00550 / 00870DP 00551 / 00870DP 00552 / 00870DP 00553 / 00870DP 00554 / 00870DP 00555 / 00870DP 00556 / 00870DP 00557 / 00870DP 00558 / 00870DP 00559 / 00870DP 00560 / 00870DP 00561 / 00870DP 00562 / 00870DP 00563 / 00870DP 00564 / 00870DP 00565 / 00870DP 00566 / 00870DP 00567 / 00870DP 00568 / 00870DP 00569 / 00870DP 00570 / 00870DP 00571 / 00870DP 00572 / 00870DP 00573 / 00870DP 00574 / 00870DP 00575 / 00870DP 00576 / 00870DP 00577 / 00870DP 00578 / 00870DP 00579 / 00870DP 00580 / 00870DP 00581 / 00870DP 00582 / 00870DP 00583 / 00870DP 00584 / 00870DP 00585 / 00870DP 00586 / 00870DP 00587 / 00870DP 00588 / 00870DP 00589 / 00870DP 00590 / 00870DP 00591 / 00870DP 00592 / 00870DP 00593 / 00870DP 00594 / 00870DP 00595 / 00870DP 00596 / 00870DP 00597 / 00870DP 00598 / 00870DP 00599 / 00870DP 00600 / 00870DP 00601 / 00870DP 00602 / 00870DP 00603 / 00870DP 00604 / 00870DP 00605 / 00870DP 00606 / 00870DP 00607 / 00870DP 00608 / 00870DP 00609 / 00870DP 00610 / 00870DP 00611 / 00870DP 00612 / 00870DP 00613 / 00870DP 00614 / 00870DP 00615 / 00870DP 00616 / 00870DP 00617 / 00870DP 00618 / 00870DP 00619 / 00870DP 00620 / 00870DP 00621 / 00870DP 00622 / 00870DP 00623 / 00870DP 00624 / 00870DP 00625 / 00870DP 00626 / 00870DP 00627 / 00870DP 00628 / 00870DP 00629 / 00870DP 00630 / 00870DP 00631 / 00870DP 00632 / 00870DP 00633 / 00870DP 00634 / 00870DP 00635 / 00870DP 00636 / 00870DP 00637 / 00870DP 00638 / 00870DP 00639 / 00870DP 00640 / 00870DP 00641 / 00870DP 00642 / 00870DP 00643 / 00870DP 00644 / 00870DP 00645 / 00870DP 00646 / 00870DP 00647 / 00870DP 00648 / 00870DP 00649 / 00870DP 00650 / 00870DP 00651 / 00870DP 00652 / 00870DP 00653 / 00870DP 00654 / 00870DP 00655 / 00870DP 00656 / 00870DP 00657 / 00870DP 00658 / 00870DP 00659 / 00870DP 00660 / 00870DP 00661 / 00870DP 00662 / 00870DP 00663 / 00870DP 00664 / 00870DP 00665 / 00870DP 00666 / 00870DP 00667 / 00870DP 00668 / 00870DP 00669 / 00870DP 00670 / 00870DP 00671 / 00870DP 00672 / 00870DP 00673 / 00870DP 00674 / 00870DP 00675 / 00870DP 00676 / 00870DP 00677 / 00870DP 00678 / 00870DP 00679 / 00870DP 00680 / 00870DP 00681 / 00870DP 00682 / 00870DP 00683 / 00870DP 00684 / 00870DP 00685 / 00870DP 00686 / 00870DP 00687 / 00870DP 00688 / 00870DP 00689 / 00870DP 00690 / 00870DP 00691 / 00870DP 00692 / 00870DP 00693 / 00870DP 00694 / 00870DP 00695 / 00870DP 00696 / 00870DP 00697 / 00870DP 00698 / 00870DP 00699 / 00870DP 00700 / 00870DP 00701 / 00870DP 00702 / 00870DP 00703 / 00870DP 00704 / 00870DP 00705 / 00870DP 00706 / 00870DP 00707 / 00870DP 00708 / 00870DP 00709 / 00870DP 00710 / 00870DP 00711 / 00870DP 00712 / 00870DP 00713 / 00870DP 00714 / 00870DP 00715 / 00870DP 00716 / 00870DP 00717 / 00870DP 00718 / 00870DP 00719 / 00870DP 00720 / 00870DP 00721 / 00870DP 00722 / 00870DP 00723 / 00870DP 00724 / 00870DP 00725 / 00870DP 00726 / 00870DP 00727 / 00870DP 00728 / 00870DP 00729 / 00870DP 00730 / 00870DP 00731 / 00870DP 00732 / 00870DP 00733 / 00870DP 00734 / 00870DP 00735 / 00870DP 00736 / 00870DP 00737 / 00870DP 00738 / 00870DP 00739 / 00870DP 00740 / 00870DP 00741 / 00870DP 00742 / 00870DP 00743 / 00870DP 00744 / 00870DP 00745 / 00870DP 00746 / 00870DP 00747 / 00870DP 00748 / 00870DP 00749 / 00870DP 00750 / 00870DP 00751 / 00870DP 00752 / 00870DP 00753 / 00870DP 00754 / 00870DP 00755 / 00870DP 00756 / 00870DP 00757 / 00870DP 00758 / 00870DP 00759 / 00870DP 00760 / 00870DP 00761 / 00870DP 00762 / 00870DP 00763 / 00870DP 00764 / 00870DP 00765 / 00870DP 00766 / 00870DP 00767 / 00870DP 00768 / 00870DP 00769 / 00870DP 00770 / 00870DP 00771 / 00870DP 00772 / 00870DP 00773 / 00870DP 00774 / 00870DP 00775 / 00870DP 00776 / 00870DP 00777 / 00870DP 00778 / 00870DP 00779 / 00870DP 00780 / 00870DP 00781 / 00870DP 00782 / 00870DP 00783 / 00870DP 00784 / 00870DP 00785 / 00870DP 00786 / 00870DP 00787 / 00870DP 00788 / 00870DP 00789 / 00870DP 00790 / 00870DP 00791 / 00870DP 00792 / 00870DP 00793 / 00870DP 00794 / 00870DP 00795 / 00870DP 00796 / 00870DP 00797 / 00870DP 00798 / 00870DP 00799 / 00870DP 00800 / 00870DP 00801 / 00870DP 00802 / 00870DP 00803 / 00870DP 00804 / 00870DP 00805 / 00870DP 00806 / 00870DP 00807 / 00870DP 00808 / 00870DP 00809 / 00870DP 00810 / 00870DP 00811 / 00870DP 00812 / 00870DP 00813 / 00870DP 00814 / 00870DP 00815 / 00870DP 00816 / 00870DP 00817 / 00870DP 00818 / 00870DP 00819 / 00870DP 00820 / 00870DP 00821 / 00870DP 00822 / 00870DP 00823 / 00870DP 00824 / 00870DP 00825 / 00870DP 00826 / 00870DP 00827 / 00870DP 00828 / 00870DP 00829 / 00870DP 00830 / 00870DP 00831 / 00870DP 00832 / 00870DP 00833 / 00870DP 00834 / 00870DP 00835 / 00870DP 00836 / 00870DP 00837 / 00870DP 00838 / 00870DP 00839 / 00870DP 00840 / 00870DP 00841 / 00870DP 00842 / 00870DP 00843 / 00870DP 00844 / 00870DP 00845 / 00870DP 00846 / 00870DP 00847 / 00870DP 00848 / 00870DP 00849 / 00870DP 00850 / 00870DP 00851 / 00870DP 00852 / 00870DP 00853 / 00870DP 00854 / 00870DP 00855 / 00870DP 00856 / 00870DP 00857 / 00870DP 00858 / 00870DP 00859 / 00870DP 00860 / 00870DP 00861 / 00870DP 00862 / 00870DP 00863 / 00870DP 00864 / 00870DP 00865 / 00870DP 00866 / 00870DP 00867 / 00870DP 00868 / 00870DP 00869 / 00870DP 00870 / 00870DP 00001 / 00806DP 00002 / 00806DP 00003 / 00806DP 00004 / 00806DP 00005 / 00806DP 00006 / 00806DP 00007 / 00806DP 00008 / 00806DP 00009 / 00806DP 00010 / 00806DP 00011 / 00806DP 00012 / 00806DP 00013 / 00806DP 00014 / 00806DP 00015 / 00806DP 00016 / 00806DP 00017 / 00806DP 00018 / 00806DP 00019 / 00806DP 00020 / 00806DP 00021 / 00806DP 00022 / 00806DP 00023 / 00806DP 00024 / 00806DP 00025 / 00806DP 00026 / 00806DP 00027 / 00806DP 00028 / 00806DP 00029 / 00806DP 00030 / 00806DP 00031 / 00806DP 00032 / 00806DP 00033 / 00806DP 00034 / 00806DP 00035 / 00806DP 00036 / 00806DP 00037 / 00806DP 00038 / 00806DP 00039 / 00806DP 00040 / 00806DP 00041 / 00806DP 00042 / 00806DP 00043 / 00806DP 00044 / 00806DP 00045 / 00806DP 00046 / 00806DP 00047 / 00806DP 00048 / 00806DP 00049 / 00806DP 00050 / 00806DP 00051 / 00806DP 00052 / 00806DP 00053 / 00806DP 00054 / 00806DP 00055 / 00806DP 00056 / 00806DP 00057 / 00806DP 00058 / 00806DP 00059 / 00806DP 00060 / 00806DP 00061 / 00806DP 00062 / 00806DP 00063 / 00806DP 00064 / 00806DP 00065 / 00806DP 00066 / 00806DP 00067 / 00806DP 00068 / 00806DP 00069 / 00806DP 00070 / 00806DP 00071 / 00806DP 00072 / 00806DP 00073 / 00806DP 00074 / 00806DP 00075 / 00806DP 00076 / 00806DP 00077 / 00806DP 00078 / 00806DP 00079 / 00806DP 00080 / 00806DP 00081 / 00806DP 00082 / 00806DP 00083 / 00806DP 00084 / 00806DP 00085 / 00806DP 00086 / 00806DP 00087 / 00806DP 00088 / 00806DP 00089 / 00806DP 00090 / 00806DP 00091 / 00806DP 00092 / 00806DP 00093 / 00806DP 00094 / 00806DP 00095 / 00806DP 00096 / 00806DP 00097 / 00806DP 00098 / 00806DP 00099 / 00806DP 00100 / 00806DP 00101 / 00806DP 00102 / 00806DP 00103 / 00806DP 00104 / 00806DP 00105 / 00806DP 00106 / 00806DP 00107 / 00806DP 00108 / 00806DP 00109 / 00806DP 00110 / 00806DP 00111 / 00806DP 00112 / 00806DP 00113 / 00806DP 00114 / 00806DP 00115 / 00806DP 00116 / 00806DP 00117 / 00806DP 00118 / 00806DP 00119 / 00806DP 00120 / 00806DP 00121 / 00806DP 00122 / 00806DP 00123 / 00806DP 00124 / 00806DP 00125 / 00806DP 00126 / 00806DP 00127 / 00806DP 00128 / 00806DP 00129 / 00806DP 00130 / 00806DP 00131 / 00806DP 00132 / 00806DP 00133 / 00806DP 00134 / 00806DP 00135 / 00806DP 00136 / 00806DP 00137 / 00806DP 00138 / 00806DP 00139 / 00806DP 00140 / 00806DP 00141 / 00806DP 00142 / 00806DP 00143 / 00806DP 00144 / 00806DP 00145 / 00806DP 00146 / 00806DP 00147 / 00806DP 00148 / 00806DP 00149 / 00806DP 00150 / 00806DP 00151 / 00806DP 00152 / 00806DP 00153 / 00806DP 00154 / 00806DP 00155 / 00806DP 00156 / 00806DP 00157 / 00806DP 00158 / 00806DP 00159 / 00806DP 00160 / 00806DP 00161 / 00806DP 00162 / 00806DP 00163 / 00806DP 00164 / 00806DP 00165 / 00806DP 00166 / 00806DP 00167 / 00806DP 00168 / 00806DP 00169 / 00806DP 00170 / 00806DP 00171 / 00806DP 00172 / 00806DP 00173 / 00806DP 00174 / 00806DP 00175 / 00806DP 00176 / 00806DP 00177 / 00806DP 00178 / 00806DP 00179 / 00806DP 00180 / 00806DP 00181 / 00806DP 00182 / 00806DP 00183 / 00806DP 00184 / 00806DP 00185 / 00806DP 00186 / 00806DP 00187 / 00806DP 00188 / 00806DP 00189 / 00806DP 00190 / 00806DP 00191 / 00806DP 00192 / 00806DP 00193 / 00806DP 00194 / 00806DP 00195 / 00806DP 00196 / 00806DP 00197 / 00806DP 00198 / 00806DP 00199 / 00806DP 00200 / 00806DP 00201 / 00806DP 00202 / 00806DP 00203 / 00806DP 00204 / 00806DP 00205 / 00806DP 00206 / 00806DP 00207 / 00806DP 00208 / 00806DP 00209 / 00806DP 00210 / 00806DP 00211 / 00806DP 00212 / 00806DP 00213 / 00806DP 00214 / 00806DP 00215 / 00806DP 00216 / 00806DP 00217 / 00806DP 00218 / 00806DP 00219 / 00806DP 00220 / 00806DP 00221 / 00806DP 00222 / 00806DP 00223 / 00806DP 00224 / 00806DP 00225 / 00806DP 00226 / 00806DP 00227 / 00806DP 00228 / 00806DP 00229 / 00806DP 00230 / 00806DP 00231 / 00806DP 00232 / 00806DP 00233 / 00806DP 00234 / 00806DP 00235 / 00806DP 00236 / 00806DP 00237 / 00806DP 00238 / 00806DP 00239 / 00806DP 00240 / 00806DP 00241 / 00806DP 00242 / 00806DP 00243 / 00806DP 00244 / 00806DP 00245 / 00806DP 00246 / 00806DP 00247 / 00806DP 00248 / 00806DP 00249 / 00806DP 00250 / 00806DP 00251 / 00806DP 00252 / 00806DP 00253 / 00806DP 00254 / 00806DP 00255 / 00806DP 00256 / 00806DP 00257 / 00806DP 00258 / 00806DP 00259 / 00806DP 00260 / 00806DP 00261 / 00806DP 00262 / 00806DP 00263 / 00806DP 00264 / 00806DP 00265 / 00806DP 00266 / 00806DP 00267 / 00806DP 00268 / 00806DP 00269 / 00806DP 00270 / 00806DP 00271 / 00806DP 00272 / 00806DP 00273 / 00806DP 00274 / 00806DP 00275 / 00806DP 00276 / 00806DP 00277 / 00806DP 00278 / 00806DP 00279 / 00806DP 00280 / 00806DP 00281 / 00806DP 00282 / 00806DP 00283 / 00806DP 00284 / 00806DP 00285 / 00806DP 00286 / 00806DP 00287 / 00806DP 00288 / 00806DP 00289 / 00806DP 00290 / 00806DP 00291 / 00806DP 00292 / 00806DP 00293 / 00806DP 00294 / 00806DP 00295 / 00806DP 00296 / 00806DP 00297 / 00806DP 00298 / 00806DP 00299 / 00806DP 00300 / 00806DP 00301 / 00806DP 00302 / 00806DP 00303 / 00806DP 00304 / 00806DP 00305 / 00806DP 00306 / 00806DP 00307 / 00806DP 00308 / 00806DP 00309 / 00806DP 00310 / 00806DP 00311 / 00806DP 00312 / 00806DP 00313 / 00806DP 00314 / 00806DP 00315 / 00806DP 00316 / 00806DP 00317 / 00806DP 00318 / 00806DP 00319 / 00806DP 00320 / 00806DP 00321 / 00806DP 00322 / 00806DP 00323 / 00806DP 00324 / 00806DP 00325 / 00806DP 00326 / 00806DP 00327 / 00806DP 00328 / 00806DP 00329 / 00806DP 00330 / 00806DP 00331 / 00806DP 00332 / 00806DP 00333 / 00806DP 00334 / 00806DP 00335 / 00806DP 00336 / 00806"
     ]
    },
    {
     "name": "stderr",
     "output_type": "stream",
     "text": [
      "STEP     5 / 29 mP 00338 / 00806DP 00339 / 00806DP 00340 / 00806DP 00341 / 00806DP 00342 / 00806DP 00343 / 00806DP 00344 / 00806DP 00345 / 00806DP 00346 / 00806DP 00347 / 00806DP 00348 / 00806DP 00349 / 00806DP 00350 / 00806DP 00351 / 00806DP 00352 / 00806DP 00353 / 00806DP 00354 / 00806DP 00355 / 00806DP 00356 / 00806DP 00357 / 00806DP 00358 / 00806DP 00359 / 00806DP 00360 / 00806DP 00361 / 00806DP 00362 / 00806DP 00363 / 00806DP 00364 / 00806DP 00365 / 00806DP 00366 / 00806DP 00367 / 00806DP 00368 / 00806DP 00369 / 00806DP 00370 / 00806DP 00371 / 00806DP 00372 / 00806DP 00373 / 00806DP 00374 / 00806DP 00375 / 00806DP 00376 / 00806DP 00377 / 00806DP 00378 / 00806DP 00379 / 00806DP 00380 / 00806DP 00381 / 00806DP 00382 / 00806DP 00383 / 00806DP 00384 / 00806DP 00385 / 00806DP 00386 / 00806DP 00387 / 00806DP 00388 / 00806DP 00389 / 00806DP 00390 / 00806DP 00391 / 00806DP 00392 / 00806DP 00393 / 00806DP 00394 / 00806DP 00395 / 00806DP 00396 / 00806DP 00397 / 00806DP 00398 / 00806DP 00399 / 00806DP 00400 / 00806DP 00401 / 00806DP 00402 / 00806DP 00403 / 00806DP 00404 / 00806DP 00405 / 00806DP 00406 / 00806DP 00407 / 00806DP 00408 / 00806DP 00409 / 00806DP 00410 / 00806DP 00411 / 00806DP 00412 / 00806DP 00413 / 00806DP 00414 / 00806DP 00415 / 00806DP 00416 / 00806DP 00417 / 00806DP 00418 / 00806DP 00419 / 00806DP 00420 / 00806DP 00421 / 00806DP 00422 / 00806DP 00423 / 00806DP 00424 / 00806DP 00425 / 00806DP 00426 / 00806DP 00427 / 00806DP 00428 / 00806DP 00429 / 00806DP 00430 / 00806DP 00431 / 00806DP 00432 / 00806DP 00433 / 00806DP 00434 / 00806DP 00435 / 00806DP 00436 / 00806DP 00437 / 00806DP 00438 / 00806DP 00439 / 00806DP 00440 / 00806DP 00441 / 00806DP 00442 / 00806DP 00443 / 00806DP 00444 / 00806DP 00445 / 00806DP 00446 / 00806DP 00447 / 00806DP 00448 / 00806DP 00449 / 00806DP 00450 / 00806DP 00451 / 00806DP 00452 / 00806DP 00453 / 00806DP 00454 / 00806DP 00455 / 00806DP 00456 / 00806DP 00457 / 00806DP 00458 / 00806DP 00459 / 00806DP 00460 / 00806DP 00461 / 00806DP 00462 / 00806DP 00463 / 00806DP 00464 / 00806DP 00465 / 00806DP 00466 / 00806DP 00467 / 00806DP 00468 / 00806DP 00469 / 00806DP 00470 / 00806DP 00471 / 00806DP 00472 / 00806DP 00473 / 00806DP 00474 / 00806DP 00475 / 00806DP 00476 / 00806DP 00477 / 00806DP 00478 / 00806DP 00479 / 00806DP 00480 / 00806DP 00481 / 00806DP 00482 / 00806DP 00483 / 00806DP 00484 / 00806DP 00485 / 00806DP 00486 / 00806DP 00487 / 00806DP 00488 / 00806DP 00489 / 00806DP 00490 / 00806DP 00491 / 00806DP 00492 / 00806DP 00493 / 00806DP 00494 / 00806DP 00495 / 00806DP 00496 / 00806DP 00497 / 00806DP 00498 / 00806DP 00499 / 00806DP 00500 / 00806DP 00501 / 00806DP 00502 / 00806DP 00503 / 00806DP 00504 / 00806DP 00505 / 00806DP 00506 / 00806DP 00507 / 00806DP 00508 / 00806DP 00509 / 00806DP 00510 / 00806DP 00511 / 00806DP 00512 / 00806DP 00513 / 00806DP 00514 / 00806DP 00515 / 00806DP 00516 / 00806DP 00517 / 00806DP 00518 / 00806DP 00519 / 00806DP 00520 / 00806DP 00521 / 00806DP 00522 / 00806DP 00523 / 00806DP 00524 / 00806DP 00525 / 00806DP 00526 / 00806DP 00527 / 00806DP 00528 / 00806DP 00529 / 00806DP 00530 / 00806DP 00531 / 00806DP 00532 / 00806DP 00533 / 00806DP 00534 / 00806DP 00535 / 00806DP 00536 / 00806DP 00537 / 00806DP 00538 / 00806DP 00539 / 00806DP 00540 / 00806DP 00541 / 00806DP 00542 / 00806DP 00543 / 00806DP 00544 / 00806DP 00545 / 00806DP 00546 / 00806DP 00547 / 00806DP 00548 / 00806DP 00549 / 00806DP 00550 / 00806DP 00551 / 00806DP 00552 / 00806DP 00553 / 00806DP 00554 / 00806DP 00555 / 00806DP 00556 / 00806DP 00557 / 00806DP 00558 / 00806DP 00559 / 00806DP 00560 / 00806DP 00561 / 00806DP 00562 / 00806DP 00563 / 00806DP 00564 / 00806DP 00565 / 00806DP 00566 / 00806DP 00567 / 00806DP 00568 / 00806DP 00569 / 00806DP 00570 / 00806DP 00571 / 00806DP 00572 / 00806DP 00573 / 00806DP 00574 / 00806DP 00575 / 00806DP 00576 / 00806DP 00577 / 00806DP 00578 / 00806DP 00579 / 00806DP 00580 / 00806DP 00581 / 00806DP 00582 / 00806DP 00583 / 00806DP 00584 / 00806DP 00585 / 00806DP 00586 / 00806DP 00587 / 00806DP 00588 / 00806DP 00589 / 00806DP 00590 / 00806DP 00591 / 00806DP 00592 / 00806DP 00593 / 00806DP 00594 / 00806DP 00595 / 00806DP 00596 / 00806DP 00597 / 00806DP 00598 / 00806DP 00599 / 00806DP 00600 / 00806DP 00601 / 00806DP 00602 / 00806DP 00603 / 00806DP 00604 / 00806DP 00605 / 00806DP 00606 / 00806DP 00607 / 00806DP 00608 / 00806DP 00609 / 00806DP 00610 / 00806DP 00611 / 00806DP 00612 / 00806DP 00613 / 00806DP 00614 / 00806DP 00615 / 00806DP 00616 / 00806DP 00617 / 00806DP 00618 / 00806DP 00619 / 00806DP 00620 / 00806DP 00621 / 00806DP 00622 / 00806DP 00623 / 00806DP 00624 / 00806DP 00625 / 00806DP 00626 / 00806DP 00627 / 00806DP 00628 / 00806DP 00629 / 00806DP 00630 / 00806DP 00631 / 00806DP 00632 / 00806DP 00633 / 00806DP 00634 / 00806DP 00635 / 00806DP 00636 / 00806DP 00637 / 00806DP 00638 / 00806DP 00639 / 00806DP 00640 / 00806DP 00641 / 00806DP 00642 / 00806DP 00643 / 00806DP 00644 / 00806DP 00645 / 00806DP 00646 / 00806DP 00647 / 00806DP 00648 / 00806DP 00649 / 00806DP 00650 / 00806DP 00651 / 00806DP 00652 / 00806DP 00653 / 00806DP 00654 / 00806DP 00655 / 00806DP 00656 / 00806DP 00657 / 00806DP 00658 / 00806DP 00659 / 00806DP 00660 / 00806DP 00661 / 00806DP 00662 / 00806DP 00663 / 00806DP 00664 / 00806DP 00665 / 00806DP 00666 / 00806DP 00667 / 00806DP 00668 / 00806DP 00669 / 00806DP 00670 / 00806DP 00671 / 00806DP 00672 / 00806DP 00673 / 00806DP 00674 / 00806DP 00675 / 00806DP 00676 / 00806DP 00677 / 00806DP 00678 / 00806DP 00679 / 00806DP 00680 / 00806DP 00681 / 00806DP 00682 / 00806DP 00683 / 00806DP 00684 / 00806DP 00685 / 00806DP 00686 / 00806DP 00687 / 00806DP 00688 / 00806DP 00689 / 00806DP 00690 / 00806DP 00691 / 00806DP 00692 / 00806DP 00693 / 00806DP 00694 / 00806DP 00695 / 00806DP 00696 / 00806DP 00697 / 00806DP 00698 / 00806DP 00699 / 00806DP 00700 / 00806DP 00701 / 00806DP 00702 / 00806DP 00703 / 00806DP 00704 / 00806DP 00705 / 00806DP 00706 / 00806DP 00707 / 00806DP 00708 / 00806DP 00709 / 00806DP 00710 / 00806DP 00711 / 00806DP 00712 / 00806DP 00713 / 00806DP 00714 / 00806DP 00715 / 00806DP 00716 / 00806DP 00717 / 00806DP 00718 / 00806DP 00719 / 00806DP 00720 / 00806DP 00721 / 00806DP 00722 / 00806DP 00723 / 00806DP 00724 / 00806DP 00725 / 00806DP 00726 / 00806DP 00727 / 00806DP 00728 / 00806DP 00729 / 00806DP 00730 / 00806DP 00731 / 00806DP 00732 / 00806DP 00733 / 00806DP 00734 / 00806DP 00735 / 00806DP 00736 / 00806DP 00737 / 00806DP 00738 / 00806DP 00739 / 00806DP 00740 / 00806DP 00741 / 00806DP 00742 / 00806DP 00743 / 00806DP 00744 / 00806DP 00745 / 00806DP 00746 / 00806DP 00747 / 00806DP 00748 / 00806DP 00749 / 00806DP 00750 / 00806DP 00751 / 00806DP 00752 / 00806DP 00753 / 00806DP 00754 / 00806DP 00755 / 00806DP 00756 / 00806DP 00757 / 00806DP 00758 / 00806DP 00759 / 00806DP 00760 / 00806DP 00761 / 00806DP 00762 / 00806DP 00763 / 00806DP 00764 / 00806DP 00765 / 00806DP 00766 / 00806DP 00767 / 00806DP 00768 / 00806DP 00769 / 00806DP 00770 / 00806DP 00771 / 00806DP 00772 / 00806DP 00773 / 00806DP 00774 / 00806DP 00775 / 00806DP 00776 / 00806DP 00777 / 00806DP 00778 / 00806DP 00779 / 00806DP 00780 / 00806DP 00781 / 00806DP 00782 / 00806DP 00783 / 00806DP 00784 / 00806DP 00785 / 00806DP 00786 / 00806DP 00787 / 00806DP 00788 / 00806DP 00789 / 00806DP 00790 / 00806DP 00791 / 00806DP 00792 / 00806DP 00793 / 00806DP 00794 / 00806DP 00795 / 00806DP 00796 / 00806DP 00797 / 00806DP 00798 / 00806DP 00799 / 00806DP 00800 / 00806DP 00801 / 00806DP 00802 / 00806DP 00803 / 00806DP 00804 / 00806DP 00805 / 00806DP 00806 / 00806DP 00001 / 00333DP 00002 / 00333DP 00003 / 00333DP 00004 / 00333DP 00005 / 00333DP 00006 / 00333DP 00007 / 00333DP 00008 / 00333DP 00009 / 00333DP 00010 / 00333DP 00011 / 00333DP 00012 / 00333DP 00013 / 00333DP 00014 / 00333DP 00015 / 00333DP 00016 / 00333DP 00017 / 00333DP 00018 / 00333DP 00019 / 00333DP 00020 / 00333DP 00021 / 00333DP 00022 / 00333DP 00023 / 00333DP 00024 / 00333DP 00025 / 00333DP 00026 / 00333DP 00027 / 00333DP 00028 / 00333DP 00029 / 00333DP 00030 / 00333DP 00031 / 00333DP 00032 / 00333DP 00033 / 00333DP 00034 / 00333DP 00035 / 00333DP 00036 / 00333DP 00037 / 00333DP 00038 / 00333DP 00039 / 00333DP 00040 / 00333DP 00041 / 00333DP 00042 / 00333DP 00043 / 00333DP 00044 / 00333DP 00045 / 00333DP 00046 / 00333DP 00047 / 00333DP 00048 / 00333DP 00049 / 00333DP 00050 / 00333DP 00051 / 00333DP 00052 / 00333DP 00053 / 00333DP 00054 / 00333DP 00055 / 00333DP 00056 / 00333DP 00057 / 00333DP 00058 / 00333DP 00059 / 00333DP 00060 / 00333"
     ]
    },
    {
     "name": "stderr",
     "output_type": "stream",
     "text": [
      "DP 00061 / 00333 \b\b\b\b\b\b\b\b\b\b\b\b\b\b\b\b\bDP 00062 / 00333 \b\b\b\b\b\b\b\b\b\b\b\b\b\b\b\b\bDP 00063 / 00333 \b\b\b\b\b\b\b\b\b\b\b\b\b\b\b\b\bDP 00064 / 00333 \b\b\b\b\b\b\b\b\b\b\b\b\b\b\b\b\bDP 00065 / 00333 \b\b\b\b\b\b\b\b\b\b\b\b\b\b\b\b\bDP 00066 / 00333 \b\b\b\b\b\b\b\b\b\b\b\b\b\b\b\b\bDP 00067 / 00333 \b\b\b\b\b\b\b\b\b\b\b\b\b\b\b\b\bDP 00068 / 00333 \b\b\b\b\b\b\b\b\b\b\b\b\b\b\b\b\bDP 00069 / 00333 \b\b\b\b\b\b\b\b\b\b\b\b\b\b\b\b\bDP 00070 / 00333 \b\b\b\b\b\b\b\b\b\b\b\b\b\b\b\b\bDP 00071 / 00333 \b\b\b\b\b\b\b\b\b\b\b\b\b\b\b\b\bDP 00072 / 00333 \b\b\b\b\b\b\b\b\b\b\b\b\b\b\b\b\bDP 00073 / 00333 \b\b\b\b\b\b\b\b\b\b\b\b\b\b\b\b\bDP 00074 / 00333 \b\b\b\b\b\b\b\b\b\b\b\b\b\b\b\b\bDP 00075 / 00333 \b\b\b\b\b\b\b\b\b\b\b\b\b\b\b\b\bDP 00076 / 00333 \b\b\b\b\b\b\b\b\b\b\b\b\b\b\b\b\bDP 00077 / 00333 \b\b\b\b\b\b\b\b\b\b\b\b\b\b\b\b\bDP 00078 / 00333 \b\b\b\b\b\b\b\b\b\b\b\b\b\b\b\b\bDP 00079 / 00333 \b\b\b\b\b\b\b\b\b\b\b\b\b\b\b\b\bDP 00080 / 00333 \b\b\b\b\b\b\b\b\b\b\b\b\b\b\b\b\bDP 00081 / 00333 \b\b\b\b\b\b\b\b\b\b\b\b\b\b\b\b\bDP 00082 / 00333 \b\b\b\b\b\b\b\b\b\b\b\b\b\b\b\b\bDP 00083 / 00333 \b\b\b\b\b\b\b\b\b\b\b\b\b\b\b\b\bDP 00084 / 00333 \b\b\b\b\b\b\b\b\b\b\b\b\b\b\b\b\bDP 00085 / 00333 \b\b\b\b\b\b\b\b\b\b\b\b\b\b\b\b\bDP 00086 / 00333 \b\b\b\b\b\b\b\b\b\b\b\b\b\b\b\b\bDP 00087 / 00333 \b\b\b\b\b\b\b\b\b\b\b\b\b\b\b\b\bDP 00088 / 00333 \b\b\b\b\b\b\b\b\b\b\b\b\b\b\b\b\bDP 00089 / 00333 \b\b\b\b\b\b\b\b\b\b\b\b\b\b\b\b\bDP 00090 / 00333 \b\b\b\b\b\b\b\b\b\b\b\b\b\b\b\b\bDP 00091 / 00333 \b\b\b\b\b\b\b\b\b\b\b\b\b\b\b\b\bDP 00092 / 00333 \b\b\b\b\b\b\b\b\b\b\b\b\b\b\b\b\bDP 00093 / 00333 \b\b\b\b\b\b\b\b\b\b\b\b\b\b\b\b\bDP 00094 / 00333 \b\b\b\b\b\b\b\b\b\b\b\b\b\b\b\b\bDP 00095 / 00333 \b\b\b\b\b\b\b\b\b\b\b\b\b\b\b\b\bDP 00096 / 00333 \b\b\b\b\b\b\b\b\b\b\b\b\b\b\b\b\bDP 00097 / 00333 \b\b\b\b\b\b\b\b\b\b\b\b\b\b\b\b\bDP 00098 / 00333 \b\b\b\b\b\b\b\b\b\b\b\b\b\b\b\b\bDP 00099 / 00333 \b\b\b\b\b\b\b\b\b\b\b\b\b\b\b\b\bDP 00100 / 00333 \b\b\b\b\b\b\b\b\b\b\b\b\b\b\b\b\bDP 00101 / 00333 \b\b\b\b\b\b\b\b\b\b\b\b\b\b\b\b\bDP 00102 / 00333 \b\b\b\b\b\b\b\b\b\b\b\b\b\b\b\b\bDP 00103 / 00333 \b\b\b\b\b\b\b\b\b\b\b\b\b\b\b\b\bDP 00104 / 00333 \b\b\b\b\b\b\b\b\b\b\b\b\b\b\b\b\bDP 00105 / 00333 \b\b\b\b\b\b\b\b\b\b\b\b\b\b\b\b\bDP 00106 / 00333 \b\b\b\b\b\b\b\b\b\b\b\b\b\b\b\b\bDP 00107 / 00333 \b\b\b\b\b\b\b\b\b\b\b\b\b\b\b\b\bDP 00108 / 00333 \b\b\b\b\b\b\b\b\b\b\b\b\b\b\b\b\bDP 00109 / 00333 \b\b\b\b\b\b\b\b\b\b\b\b\b\b\b\b\bDP 00110 / 00333 \b\b\b\b\b\b\b\b\b\b\b\b\b\b\b\b\bDP 00111 / 00333 \b\b\b\b\b\b\b\b\b\b\b\b\b\b\b\b\bDP 00112 / 00333 \b\b\b\b\b\b\b\b\b\b\b\b\b\b\b\b\bDP 00113 / 00333 \b\b\b\b\b\b\b\b\b\b\b\b\b\b\b\b\bDP 00114 / 00333 \b\b\b\b\b\b\b\b\b\b\b\b\b\b\b\b\bDP 00115 / 00333 \b\b\b\b\b\b\b\b\b\b\b\b\b\b\b\b\bDP 00116 / 00333 \b\b\b\b\b\b\b\b\b\b\b\b\b\b\b\b\bDP 00117 / 00333 \b\b\b\b\b\b\b\b\b\b\b\b\b\b\b\b\bDP 00118 / 00333 \b\b\b\b\b\b\b\b\b\b\b\b\b\b\b\b\bDP 00119 / 00333 \b\b\b\b\b\b\b\b\b\b\b\b\b\b\b\b\bDP 00120 / 00333 \b\b\b\b\b\b\b\b\b\b\b\b\b\b\b\b\bDP 00121 / 00333 \b\b\b\b\b\b\b\b\b\b\b\b\b\b\b\b\bDP 00122 / 00333 \b\b\b\b\b\b\b\b\b\b\b\b\b\b\b\b\bDP 00123 / 00333 \b\b\b\b\b\b\b\b\b\b\b\b\b\b\b\b\bDP 00124 / 00333 \b\b\b\b\b\b\b\b\b\b\b\b\b\b\b\b\bDP 00125 / 00333 \b\b\b\b\b\b\b\b\b\b\b\b\b\b\b\b\bDP 00126 / 00333 \b\b\b\b\b\b\b\b\b\b\b\b\b\b\b\b\bDP 00127 / 00333 \b\b\b\b\b\b\b\b\b\b\b\b\b\b\b\b\bDP 00128 / 00333 \b\b\b\b\b\b\b\b\b\b\b\b\b\b\b\b\bDP 00129 / 00333 \b\b\b\b\b\b\b\b\b\b\b\b\b\b\b\b\bDP 00130 / 00333 \b\b\b\b\b\b\b\b\b\b\b\b\b\b\b\b\bDP 00131 / 00333 \b\b\b\b\b\b\b\b\b\b\b\b\b\b\b\b\bDP 00132 / 00333 \b\b\b\b\b\b\b\b\b\b\b\b\b\b\b\b\bDP 00133 / 00333 \b\b\b\b\b\b\b\b\b\b\b\b\b\b\b\b\bDP 00134 / 00333 \b\b\b\b\b\b\b\b\b\b\b\b\b\b\b\b\bDP 00135 / 00333 \b\b\b\b\b\b\b\b\b\b\b\b\b\b\b\b\bDP 00136 / 00333 \b\b\b\b\b\b\b\b\b\b\b\b\b\b\b\b\bDP 00137 / 00333 \b\b\b\b\b\b\b\b\b\b\b\b\b\b\b\b\bDP 00138 / 00333 \b\b\b\b\b\b\b\b\b\b\b\b\b\b\b\b\bDP 00139 / 00333 \b\b\b\b\b\b\b\b\b\b\b\b\b\b\b\b\bDP 00140 / 00333 \b\b\b\b\b\b\b\b\b\b\b\b\b\b\b\b\bDP 00141 / 00333 \b\b\b\b\b\b\b\b\b\b\b\b\b\b\b\b\bDP 00142 / 00333 \b\b\b\b\b\b\b\b\b\b\b\b\b\b\b\b\bDP 00143 / 00333 \b\b\b\b\b\b\b\b\b\b\b\b\b\b\b\b\bDP 00144 / 00333 \b\b\b\b\b\b\b\b\b\b\b\b\b\b\b\b\bDP 00145 / 00333 \b\b\b\b\b\b\b\b\b\b\b\b\b\b\b\b\bDP 00146 / 00333 \b\b\b\b\b\b\b\b\b\b\b\b\b\b\b\b\bDP 00147 / 00333 \b\b\b\b\b\b\b\b\b\b\b\b\b\b\b\b\bDP 00148 / 00333 \b\b\b\b\b\b\b\b\b\b\b\b\b\b\b\b\bDP 00149 / 00333 \b\b\b\b\b\b\b\b\b\b\b\b\b\b\b\b\bDP 00150 / 00333 \b\b\b\b\b\b\b\b\b\b\b\b\b\b\b\b\bDP 00151 / 00333 \b\b\b\b\b\b\b\b\b\b\b\b\b\b\b\b\bDP 00152 / 00333 \b\b\b\b\b\b\b\b\b\b\b\b\b\b\b\b\bDP 00153 / 00333 \b\b\b\b\b\b\b\b\b\b\b\b\b\b\b\b\bDP 00154 / 00333 \b\b\b\b\b\b\b\b\b\b\b\b\b\b\b\b\bDP 00155 / 00333 \b\b\b\b\b\b\b\b\b\b\b\b\b\b\b\b\bDP 00156 / 00333 \b\b\b\b\b\b\b\b\b\b\b\b\b\b\b\b\bDP 00157 / 00333 \b\b\b\b\b\b\b\b\b\b\b\b\b\b\b\b\bDP 00158 / 00333 \b\b\b\b\b\b\b\b\b\b\b\b\b\b\b\b\bDP 00159 / 00333 \b\b\b\b\b\b\b\b\b\b\b\b\b\b\b\b\bDP 00160 / 00333 \b\b\b\b\b\b\b\b\b\b\b\b\b\b\b\b\bDP 00161 / 00333 \b\b\b\b\b\b\b\b\b\b\b\b\b\b\b\b\bDP 00162 / 00333 \b\b\b\b\b\b\b\b\b\b\b\b\b\b\b\b\bDP 00163 / 00333 \b\b\b\b\b\b\b\b\b\b\b\b\b\b\b\b\bDP 00164 / 00333 \b\b\b\b\b\b\b\b\b\b\b\b\b\b\b\b\bDP 00165 / 00333 \b\b\b\b\b\b\b\b\b\b\b\b\b\b\b\b\bDP 00166 / 00333 \b\b\b\b\b\b\b\b\b\b\b\b\b\b\b\b\bDP 00167 / 00333 \b\b\b\b\b\b\b\b\b\b\b\b\b\b\b\b\bDP 00168 / 00333 \b\b\b\b\b\b\b\b\b\b\b\b\b\b\b\b\bDP 00169 / 00333 \b\b\b\b\b\b\b\b\b\b\b\b\b\b\b\b\bDP 00170 / 00333 \b\b\b\b\b\b\b\b\b\b\b\b\b\b\b\b\bDP 00171 / 00333 \b\b\b\b\b\b\b\b\b\b\b\b\b\b\b\b\bDP 00172 / 00333 \b\b\b\b\b\b\b\b\b\b\b\b\b\b\b\b\bDP 00173 / 00333 \b\b\b\b\b\b\b\b\b\b\b\b\b\b\b\b\bDP 00174 / 00333 \b\b\b\b\b\b\b\b\b\b\b\b\b\b\b\b\bDP 00175 / 00333 \b\b\b\b\b\b\b\b\b\b\b\b\b\b\b\b\bDP 00176 / 00333 \b\b\b\b\b\b\b\b\b\b\b\b\b\b\b\b\bDP 00177 / 00333 \b\b\b\b\b\b\b\b\b\b\b\b\b\b\b\b\bDP 00178 / 00333 \b\b\b\b\b\b\b\b\b\b\b\b\b\b\b\b\bDP 00179 / 00333 \b\b\b\b\b\b\b\b\b\b\b\b\b\b\b\b\bDP 00180 / 00333 \b\b\b\b\b\b\b\b\b\b\b\b\b\b\b\b\bDP 00181 / 00333 \b\b\b\b\b\b\b\b\b\b\b\b\b\b\b\b\bDP 00182 / 00333 \b\b\b\b\b\b\b\b\b\b\b\b\b\b\b\b\bDP 00183 / 00333 \b\b\b\b\b\b\b\b\b\b\b\b\b\b\b\b\bDP 00184 / 00333 \b\b\b\b\b\b\b\b\b\b\b\b\b\b\b\b\bDP 00185 / 00333 \b\b\b\b\b\b\b\b\b\b\b\b\b\b\b\b\bDP 00186 / 00333 \b\b\b\b\b\b\b\b\b\b\b\b\b\b\b\b\bDP 00187 / 00333 \b\b\b\b\b\b\b\b\b\b\b\b\b\b\b\b\bDP 00188 / 00333 \b\b\b\b\b\b\b\b\b\b\b\b\b\b\b\b\bDP 00189 / 00333 \b\b\b\b\b\b\b\b\b\b\b\b\b\b\b\b\bDP 00190 / 00333 \b\b\b\b\b\b\b\b\b\b\b\b\b\b\b\b\bDP 00191 / 00333 \b\b\b\b\b\b\b\b\b\b\b\b\b\b\b\b\bDP 00192 / 00333 \b\b\b\b\b\b\b\b\b\b\b\b\b\b\b\b\bDP 00193 / 00333 \b\b\b\b\b\b\b\b\b\b\b\b\b\b\b\b\bDP 00194 / 00333 \b\b\b\b\b\b\b\b\b\b\b\b\b\b\b\b\bDP 00195 / 00333 \b\b\b\b\b\b\b\b\b\b\b\b\b\b\b\b\bDP 00196 / 00333 \b\b\b\b\b\b\b\b\b\b\b\b\b\b\b\b\bDP 00197 / 00333 \b\b\b\b\b\b\b\b\b\b\b\b\b\b\b\b\bDP 00198 / 00333 \b\b\b\b\b\b\b\b\b\b\b\b\b\b\b\b\bDP 00199 / 00333 \b\b\b\b\b\b\b\b\b\b\b\b\b\b\b\b\bDP 00200 / 00333 \b\b\b\b\b\b\b\b\b\b\b\b\b\b\b\b\bDP 00201 / 00333 \b\b\b\b\b\b\b\b\b\b\b\b\b\b\b\b\bDP 00202 / 00333 \b\b\b\b\b\b\b\b\b\b\b\b\b\b\b\b\bDP 00203 / 00333 \b\b\b\b\b\b\b\b\b\b\b\b\b\b\b\b\bDP 00204 / 00333 \b\b\b\b\b\b\b\b\b\b\b\b\b\b\b\b\bDP 00205 / 00333 \b\b\b\b\b\b\b\b\b\b\b\b\b\b\b\b\bDP 00206 / 00333 \b\b\b\b\b\b\b\b\b\b\b\b\b\b\b\b\bDP 00207 / 00333 \b\b\b\b\b\b\b\b\b\b\b\b\b\b\b\b\bDP 00208 / 00333 \b\b\b\b\b\b\b\b\b\b\b\b\b\b\b\b\bDP 00209 / 00333 \b\b\b\b\b\b\b\b\b\b\b\b\b\b\b\b\bDP 00210 / 00333 \b\b\b\b\b\b\b\b\b\b\b\b\b\b\b\b\bDP 00211 / 00333 \b\b\b\b\b\b\b\b\b\b\b\b\b\b\b\b\bDP 00212 / 00333 \b\b\b\b\b\b\b\b\b\b\b\b\b\b\b\b\bDP 00213 / 00333 \b\b\b\b\b\b\b\b\b\b\b\b\b\b\b\b\bDP 00214 / 00333 \b\b\b\b\b\b\b\b\b\b\b\b\b\b\b\b\bDP 00215 / 00333 \b\b\b\b\b\b\b\b\b\b\b\b\b\b\b\b\bDP 00216 / 00333 \b\b\b\b\b\b\b\b\b\b\b\b\b\b\b\b\bDP 00217 / 00333 \b\b\b\b\b\b\b\b\b\b\b\b\b\b\b\b\bDP 00218 / 00333 \b\b\b\b\b\b\b\b\b\b\b\b\b\b\b\b\bDP 00219 / 00333 \b\b\b\b\b\b\b\b\b\b\b\b\b\b\b\b\bDP 00220 / 00333 \b\b\b\b\b\b\b\b\b\b\b\b\b\b\b\b\bDP 00221 / 00333 \b\b\b\b\b\b\b\b\b\b\b\b\b\b\b\b\bDP 00222 / 00333 \b\b\b\b\b\b\b\b\b\b\b\b\b\b\b\b\bDP 00223 / 00333 \b\b\b\b\b\b\b\b\b\b\b\b\b\b\b\b\bDP 00224 / 00333 \b\b\b\b\b\b\b\b\b\b\b\b\b\b\b\b\bDP 00225 / 00333 \b\b\b\b\b\b\b\b\b\b\b\b\b\b\b\b\bDP 00226 / 00333 \b\b\b\b\b\b\b\b\b\b\b\b\b\b\b\b\bDP 00227 / 00333 \b\b\b\b\b\b\b\b\b\b\b\b\b\b\b\b\bDP 00228 / 00333 \b\b\b\b\b\b\b\b\b\b\b\b\b\b\b\b\bDP 00229 / 00333 \b\b\b\b\b\b\b\b\b\b\b\b\b\b\b\b\bDP 00230 / 00333 \b\b\b\b\b\b\b\b\b\b\b\b\b\b\b\b\bDP 00231 / 00333 \b\b\b\b\b\b\b\b\b\b\b\b\b\b\b\b\bDP 00232 / 00333 \b\b\b\b\b\b\b\b\b\b\b\b\b\b\b\b\bDP 00233 / 00333 \b\b\b\b\b\b\b\b\b\b\b\b\b\b\b\b\bDP 00234 / 00333 \b\b\b\b\b\b\b\b\b\b\b\b\b\b\b\b\bDP 00235 / 00333 \b\b\b\b\b\b\b\b\b\b\b\b\b\b\b\b\bDP 00236 / 00333 \b\b\b\b\b\b\b\b\b\b\b\b\b\b\b\b\bDP 00237 / 00333 \b\b\b\b\b\b\b\b\b\b\b\b\b\b\b\b\bDP 00238 / 00333 \b\b\b\b\b\b\b\b\b\b\b\b\b\b\b\b\bDP 00239 / 00333 \b\b\b\b\b\b\b\b\b\b\b\b\b\b\b\b\bDP 00240 / 00333 \b\b\b\b\b\b\b\b\b\b\b\b\b\b\b\b\bDP 00241 / 00333 \b\b\b\b\b\b\b\b\b\b\b\b\b\b\b\b\bDP 00242 / 00333 \b\b\b\b\b\b\b\b\b\b\b\b\b\b\b\b\bDP 00243 / 00333 \b\b\b\b\b\b\b\b\b\b\b\b\b\b\b\b\bDP 00244 / 00333 \b\b\b\b\b\b\b\b\b\b\b\b\b\b\b\b\bDP 00245 / 00333 \b\b\b\b\b\b\b\b\b\b\b\b\b\b\b\b\bDP 00246 / 00333 \b\b\b\b\b\b\b\b\b\b\b\b\b\b\b\b\bDP 00247 / 00333 \b\b\b\b\b\b\b\b\b\b\b\b\b\b\b\b\bDP 00248 / 00333 \b\b\b\b\b\b\b\b\b\b\b\b\b\b\b\b\bDP 00249 / 00333 \b\b\b\b\b\b\b\b\b\b\b\b\b\b\b\b\bDP 00250 / 00333 \b\b\b\b\b\b\b\b\b\b\b\b\b\b\b\b\bDP 00251 / 00333 \b\b\b\b\b\b\b\b\b\b\b\b\b\b\b\b\bDP 00252 / 00333 \b\b\b\b\b\b\b\b\b\b\b\b\b\b\b\b\bDP 00253 / 00333 \b\b\b\b\b\b\b\b\b\b\b\b\b\b\b\b\bDP 00254 / 00333 \b\b\b\b\b\b\b\b\b\b\b\b\b\b\b\b\bDP 00255 / 00333 \b\b\b\b\b\b\b\b\b\b\b\b\b\b\b\b\bDP 00256 / 00333 \b\b\b\b\b\b\b\b\b\b\b\b\b\b\b\b\bDP 00257 / 00333 \b\b\b\b\b\b\b\b\b\b\b\b\b\b\b\b\bDP 00258 / 00333 \b\b\b\b\b\b\b\b\b\b\b\b\b\b\b\b\bDP 00259 / 00333 \b\b\b\b\b\b\b\b\b\b\b\b\b\b\b\b\bDP 00260 / 00333 \b\b\b\b\b\b\b\b\b\b\b\b\b\b\b\b\bDP 00261 / 00333 \b\b\b\b\b\b\b\b\b\b\b\b\b\b\b\b\bDP 00262 / 00333 \b\b\b\b\b\b\b\b\b\b\b\b\b\b\b\b\bDP 00263 / 00333 \b\b\b\b\b\b\b\b\b\b\b\b\b\b\b\b\bDP 00264 / 00333 \b\b\b\b\b\b\b\b\b\b\b\b\b\b\b\b\bDP 00265 / 00333 \b\b\b\b\b\b\b\b\b\b\b\b\b\b\b\b\bDP 00266 / 00333 \b\b\b\b\b\b\b\b\b\b\b\b\b\b\b\b\bDP 00267 / 00333 \b\b\b\b\b\b\b\b\b\b\b\b\b\b\b\b\bDP 00268 / 00333 \b\b\b\b\b\b\b\b\b\b\b\b\b\b\b\b\bDP 00269 / 00333 \b\b\b\b\b\b\b\b\b\b\b\b\b\b\b\b\bDP 00270 / 00333 \b\b\b\b\b\b\b\b\b\b\b\b\b\b\b\b\bDP 00271 / 00333 \b\b\b\b\b\b\b\b\b\b\b\b\b\b\b\b\bDP 00272 / 00333 \b\b\b\b\b\b\b\b\b\b\b\b\b\b\b\b\bDP 00273 / 00333 \b\b\b\b\b\b\b\b\b\b\b\b\b\b\b\b\bDP 00274 / 00333 \b\b\b\b\b\b\b\b\b\b\b\b\b\b\b\b\bDP 00275 / 00333 \b\b\b\b\b\b\b\b\b\b\b\b\b\b\b\b\bDP 00276 / 00333 \b\b\b\b\b\b\b\b\b\b\b\b\b\b\b\b\bDP 00277 / 00333 \b\b\b\b\b\b\b\b\b\b\b\b\b\b\b\b\bDP 00278 / 00333 \b\b\b\b\b\b\b\b\b\b\b\b\b\b\b\b\bDP 00279 / 00333 \b\b\b\b\b\b\b\b\b\b\b\b\b\b\b\b\bDP 00280 / 00333 \b\b\b\b\b\b\b\b\b\b\b\b\b\b\b\b\bDP 00281 / 00333 \b\b\b\b\b\b\b\b\b\b\b\b\b\b\b\b\bDP 00282 / 00333 \b\b\b\b\b\b\b\b\b\b\b\b\b\b\b\b\bDP 00283 / 00333 \b\b\b\b\b\b\b\b\b\b\b\b\b\b\b\b\bDP 00284 / 00333 \b\b\b\b\b\b\b\b\b\b\b\b\b\b\b\b\bDP 00285 / 00333 \b\b\b\b\b\b\b\b\b\b\b\b\b\b\b\b\bDP 00286 / 00333 \b\b\b\b\b\b\b\b\b\b\b\b\b\b\b\b\bDP 00287 / 00333 \b\b\b\b\b\b\b\b\b\b\b\b\b\b\b\b\bDP 00288 / 00333 \b\b\b\b\b\b\b\b\b\b\b\b\b\b\b\b\bDP 00289 / 00333 \b\b\b\b\b\b\b\b\b\b\b\b\b\b\b\b\bDP 00290 / 00333 \b\b\b\b\b\b\b\b\b\b\b\b\b\b\b\b\bDP 00291 / 00333 \b\b\b\b\b\b\b\b\b\b\b\b\b\b\b\b\bDP 00292 / 00333 \b\b\b\b\b\b\b\b\b\b\b\b\b\b\b\b\bDP 00293 / 00333 \b\b\b\b\b\b\b\b\b\b\b\b\b\b\b\b\bDP 00294 / 00333 \b\b\b\b\b\b\b\b\b\b\b\b\b\b\b\b\bDP 00295 / 00333 \b\b\b\b\b\b\b\b\b\b\b\b\b\b\b\b\bDP 00296 / 00333 \b\b\b\b\b\b\b\b\b\b\b\b\b\b\b\b\bDP 00297 / 00333 \b\b\b\b\b\b\b\b\b\b\b\b\b\b\b\b\bDP 00298 / 00333 \b\b\b\b\b\b\b\b\b\b\b\b\b\b\b\b\bDP 00299 / 00333 \b\b\b\b\b\b\b\b\b\b\b\b\b\b\b\b\bDP 00300 / 00333 \b\b\b\b\b\b\b\b\b\b\b\b\b\b\b\b\bDP 00301 / 00333 \b\b\b\b\b\b\b\b\b\b\b\b\b\b\b\b\bDP 00302 / 00333 \b\b\b\b\b\b\b\b\b\b\b\b\b\b\b\b\bDP 00303 / 00333 \b\b\b\b\b\b\b\b\b\b\b\b\b\b\b\b\bDP 00304 / 00333 \b\b\b\b\b\b\b\b\b\b\b\b\b\b\b\b\bDP 00305 / 00333 \b\b\b\b\b\b\b\b\b\b\b\b\b\b\b\b\bDP 00306 / 00333 \b\b\b\b\b\b\b\b\b\b\b\b\b\b\b\b\bDP 00307 / 00333 \b\b\b\b\b\b\b\b\b\b\b\b\b\b\b\b\bDP 00308 / 00333 \b\b\b\b\b\b\b\b\b\b\b\b\b\b\b\b\bDP 00309 / 00333 \b\b\b\b\b\b\b\b\b\b\b\b\b\b\b\b\bDP 00310 / 00333 \b\b\b\b\b\b\b\b\b\b\b\b\b\b\b\b\bDP 00311 / 00333 \b\b\b\b\b\b\b\b\b\b\b\b\b\b\b\b\bDP 00312 / 00333 \b\b\b\b\b\b\b\b\b\b\b\b\b\b\b\b\bDP 00313 / 00333 \b\b\b\b\b\b\b\b\b\b\b\b\b\b\b\b\bDP 00314 / 00333 \b\b\b\b\b\b\b\b\b\b\b\b\b\b\b\b\bDP 00315 / 00333 \b\b\b\b\b\b\b\b\b\b\b\b\b\b\b\b\bDP 00316 / 00333 \b\b\b\b\b\b\b\b\b\b\b\b\b\b\b\b\bDP 00317 / 00333 \b\b\b\b\b\b\b\b\b\b\b\b\b\b\b\b\b"
     ]
    },
    {
     "name": "stderr",
     "output_type": "stream",
     "text": [
      "STEP     6 / 29 mDP 00001 / 00277DP 00002 / 00277DP 00003 / 00277DP 00004 / 00277DP 00005 / 00277DP 00006 / 00277DP 00007 / 00277DP 00008 / 00277DP 00009 / 00277DP 00010 / 00277DP 00011 / 00277DP 00012 / 00277DP 00013 / 00277DP 00014 / 00277DP 00015 / 00277DP 00016 / 00277DP 00017 / 00277DP 00018 / 00277DP 00019 / 00277DP 00020 / 00277DP 00021 / 00277DP 00022 / 00277DP 00023 / 00277DP 00024 / 00277DP 00025 / 00277DP 00026 / 00277DP 00027 / 00277DP 00028 / 00277DP 00029 / 00277DP 00030 / 00277DP 00031 / 00277DP 00032 / 00277DP 00033 / 00277DP 00034 / 00277DP 00035 / 00277DP 00036 / 00277DP 00037 / 00277DP 00038 / 00277DP 00039 / 00277DP 00040 / 00277DP 00041 / 00277DP 00042 / 00277DP 00043 / 00277DP 00044 / 00277DP 00045 / 00277DP 00046 / 00277DP 00047 / 00277DP 00048 / 00277DP 00049 / 00277DP 00050 / 00277DP 00051 / 00277DP 00052 / 00277DP 00053 / 00277DP 00054 / 00277DP 00055 / 00277DP 00056 / 00277DP 00057 / 00277DP 00058 / 00277DP 00059 / 00277DP 00060 / 00277DP 00061 / 00277DP 00062 / 00277DP 00063 / 00277DP 00064 / 00277DP 00065 / 00277DP 00066 / 00277DP 00067 / 00277DP 00068 / 00277DP 00069 / 00277DP 00070 / 00277DP 00071 / 00277DP 00072 / 00277DP 00073 / 00277DP 00074 / 00277DP 00075 / 00277DP 00076 / 00277DP 00077 / 00277DP 00078 / 00277DP 00079 / 00277DP 00080 / 00277DP 00081 / 00277DP 00082 / 00277DP 00083 / 00277DP 00084 / 00277DP 00085 / 00277DP 00086 / 00277DP 00087 / 00277DP 00088 / 00277DP 00089 / 00277DP 00090 / 00277DP 00091 / 00277DP 00092 / 00277DP 00093 / 00277DP 00094 / 00277DP 00095 / 00277DP 00096 / 00277DP 00097 / 00277DP 00098 / 00277DP 00099 / 00277DP 00100 / 00277DP 00101 / 00277DP 00102 / 00277DP 00103 / 00277DP 00104 / 00277DP 00105 / 00277DP 00106 / 00277DP 00107 / 00277DP 00108 / 00277DP 00109 / 00277DP 00110 / 00277DP 00111 / 00277DP 00112 / 00277DP 00113 / 00277DP 00114 / 00277DP 00115 / 00277DP 00116 / 00277DP 00117 / 00277DP 00118 / 00277DP 00119 / 00277DP 00120 / 00277DP 00121 / 00277DP 00122 / 00277DP 00123 / 00277DP 00124 / 00277DP 00125 / 00277DP 00126 / 00277DP 00127 / 00277DP 00128 / 00277DP 00129 / 00277DP 00130 / 00277DP 00131 / 00277DP 00132 / 00277DP 00133 / 00277DP 00134 / 00277DP 00135 / 00277DP 00136 / 00277DP 00137 / 00277DP 00138 / 00277DP 00139 / 00277DP 00140 / 00277DP 00141 / 00277DP 00142 / 00277DP 00143 / 00277DP 00144 / 00277DP 00145 / 00277DP 00146 / 00277DP 00147 / 00277DP 00148 / 00277DP 00149 / 00277DP 00150 / 00277DP 00151 / 00277DP 00152 / 00277DP 00153 / 00277DP 00154 / 00277DP 00155 / 00277DP 00156 / 00277DP 00157 / 00277DP 00158 / 00277DP 00159 / 00277DP 00160 / 00277DP 00161 / 00277DP 00162 / 00277DP 00163 / 00277DP 00164 / 00277DP 00165 / 00277DP 00166 / 00277DP 00167 / 00277DP 00168 / 00277DP 00169 / 00277DP 00170 / 00277DP 00171 / 00277DP 00172 / 00277DP 00173 / 00277DP 00174 / 00277DP 00175 / 00277DP 00176 / 00277DP 00177 / 00277DP 00178 / 00277DP 00179 / 00277DP 00180 / 00277DP 00181 / 00277DP 00182 / 00277DP 00183 / 00277DP 00184 / 00277DP 00185 / 00277DP 00186 / 00277DP 00187 / 00277DP 00188 / 00277DP 00189 / 00277DP 00190 / 00277DP 00191 / 00277DP 00192 / 00277DP 00193 / 00277DP 00194 / 00277DP 00195 / 00277DP 00196 / 00277DP 00197 / 00277DP 00198 / 00277DP 00199 / 00277DP 00200 / 00277DP 00201 / 00277DP 00202 / 00277DP 00203 / 00277DP 00204 / 00277DP 00205 / 00277DP 00206 / 00277DP 00207 / 00277DP 00208 / 00277DP 00209 / 00277DP 00210 / 00277DP 00211 / 00277DP 00212 / 00277DP 00213 / 00277DP 00214 / 00277DP 00215 / 00277DP 00216 / 00277DP 00217 / 00277DP 00218 / 00277DP 00219 / 00277DP 00220 / 00277DP 00221 / 00277DP 00222 / 00277DP 00223 / 00277DP 00224 / 00277DP 00225 / 00277DP 00226 / 00277DP 00227 / 00277DP 00228 / 00277DP 00229 / 00277DP 00230 / 00277DP 00231 / 00277DP 00232 / 00277DP 00233 / 00277DP 00234 / 00277DP 00235 / 00277DP 00236 / 00277DP 00237 / 00277DP 00238 / 00277DP 00239 / 00277DP 00240 / 00277DP 00241 / 00277DP 00242 / 00277DP 00243 / 00277DP 00244 / 00277DP 00245 / 00277DP 00246 / 00277DP 00247 / 00277DP 00248 / 00277DP 00249 / 00277DP 00250 / 00277DP 00251 / 00277DP 00252 / 00277DP 00253 / 00277DP 00254 / 00277DP 00255 / 00277DP 00256 / 00277DP 00257 / 00277DP 00258 / 00277DP 00259 / 00277DP 00260 / 00277DP 00261 / 00277DP 00262 / 00277DP 00263 / 00277DP 00264 / 00277DP 00265 / 00277DP 00266 / 00277DP 00267 / 00277DP 00268 / 00277DP 00269 / 00277DP 00270 / 00277DP 00271 / 00277DP 00272 / 00277DP 00273 / 00277DP 00274 / 00277DP 00275 / 00277DP 00276 / 00277DP 00277 / 00277\n",
      "Reallocating..done. *alloclen = 335152\n",
      "STEP     7 / 29 mDP 00001 / 00605DP 00002 / 00605DP 00003 / 00605DP 00004 / 00605DP 00005 / 00605DP 00006 / 00605DP 00007 / 00605DP 00008 / 00605DP 00009 / 00605DP 00010 / 00605DP 00011 / 00605DP 00012 / 00605DP 00013 / 00605DP 00014 / 00605DP 00015 / 00605DP 00016 / 00605DP 00017 / 00605DP 00018 / 00605DP 00019 / 00605DP 00020 / 00605DP 00021 / 00605DP 00022 / 00605DP 00023 / 00605DP 00024 / 00605DP 00025 / 00605DP 00026 / 00605DP 00027 / 00605DP 00028 / 00605DP 00029 / 00605DP 00030 / 00605DP 00031 / 00605DP 00032 / 00605DP 00033 / 00605DP 00034 / 00605DP 00035 / 00605DP 00036 / 00605DP 00037 / 00605DP 00038 / 00605DP 00039 / 00605DP 00040 / 00605DP 00041 / 00605DP 00042 / 00605DP 00043 / 00605DP 00044 / 00605DP 00045 / 00605DP 00046 / 00605DP 00047 / 00605DP 00048 / 00605DP 00049 / 00605DP 00050 / 00605DP 00051 / 00605DP 00052 / 00605DP 00053 / 00605DP 00054 / 00605DP 00055 / 00605DP 00056 / 00605DP 00057 / 00605DP 00058 / 00605DP 00059 / 00605DP 00060 / 00605DP 00061 / 00605DP 00062 / 00605DP 00063 / 00605DP 00064 / 00605DP 00065 / 00605DP 00066 / 00605DP 00067 / 00605DP 00068 / 00605DP 00069 / 00605DP 00070 / 00605DP 00071 / 00605DP 00072 / 00605DP 00073 / 00605DP 00074 / 00605DP 00075 / 00605DP 00076 / 00605DP 00077 / 00605DP 00078 / 00605DP 00079 / 00605DP 00080 / 00605DP 00081 / 00605DP 00082 / 00605DP 00083 / 00605DP 00084 / 00605DP 00085 / 00605DP 00086 / 00605DP 00087 / 00605DP 00088 / 00605DP 00089 / 00605DP 00090 / 00605DP 00091 / 00605DP 00092 / 00605DP 00093 / 00605DP 00094 / 00605DP 00095 / 00605DP 00096 / 00605DP 00097 / 00605DP 00098 / 00605DP 00099 / 00605DP 00100 / 00605DP 00101 / 00605DP 00102 / 00605DP 00103 / 00605DP 00104 / 00605DP 00105 / 00605DP 00106 / 00605DP 00107 / 00605DP 00108 / 00605DP 00109 / 00605DP 00110 / 00605DP 00111 / 00605DP 00112 / 00605DP 00113 / 00605DP 00114 / 00605DP 00115 / 00605DP 00116 / 00605DP 00117 / 00605DP 00118 / 00605DP 00119 / 00605DP 00120 / 00605DP 00121 / 00605DP 00122 / 00605DP 00123 / 00605DP 00124 / 00605DP 00125 / 00605DP 00126 / 00605DP 00127 / 00605DP 00128 / 00605DP 00129 / 00605DP 00130 / 00605DP 00131 / 00605DP 00132 / 00605DP 00133 / 00605DP 00134 / 00605DP 00135 / 00605DP 00136 / 00605DP 00137 / 00605DP 00138 / 00605DP 00139 / 00605DP 00140 / 00605DP 00141 / 00605DP 00142 / 00605DP 00143 / 00605DP 00144 / 00605DP 00145 / 00605DP 00146 / 00605DP 00147 / 00605DP 00148 / 00605DP 00149 / 00605DP 00150 / 00605DP 00151 / 00605DP 00152 / 00605DP 00153 / 00605DP 00154 / 00605DP 00155 / 00605DP 00156 / 00605DP 00157 / 00605DP 00158 / 00605DP 00159 / 00605DP 00160 / 00605DP 00161 / 00605DP 00162 / 00605DP 00163 / 00605DP 00164 / 00605DP 00165 / 00605DP 00166 / 00605DP 00167 / 00605DP 00168 / 00605DP 00169 / 00605DP 00170 / 00605DP 00171 / 00605DP 00172 / 00605DP 00173 / 00605DP 00174 / 00605DP 00175 / 00605DP 00176 / 00605DP 00177 / 00605DP 00178 / 00605DP 00179 / 00605DP 00180 / 00605DP 00181 / 00605DP 00182 / 00605DP 00183 / 00605DP 00184 / 00605DP 00185 / 00605DP 00186 / 00605DP 00187 / 00605DP 00188 / 00605DP 00189 / 00605DP 00190 / 00605DP 00191 / 00605DP 00192 / 00605DP 00193 / 00605DP 00194 / 00605DP 00195 / 00605DP 00196 / 00605DP 00197 / 00605DP 00198 / 00605DP 00199 / 00605DP 00200 / 00605DP 00201 / 00605DP 00202 / 00605DP 00203 / 00605DP 00204 / 00605DP 00205 / 00605DP 00206 / 00605DP 00207 / 00605DP 00208 / 00605DP 00209 / 00605DP 00210 / 00605DP 00211 / 00605DP 00212 / 00605DP 00213 / 00605DP 00214 / 00605DP 00215 / 00605DP 00216 / 00605DP 00217 / 00605DP 00218 / 00605DP 00219 / 00605DP 00220 / 00605DP 00221 / 00605DP 00222 / 00605DP 00223 / 00605DP 00224 / 00605DP 00225 / 00605DP 00226 / 00605DP 00227 / 00605DP 00228 / 00605DP 00229 / 00605DP 00230 / 00605DP 00231 / 00605DP 00232 / 00605DP 00233 / 00605DP 00234 / 00605DP 00235 / 00605DP 00236 / 00605DP 00237 / 00605DP 00238 / 00605DP 00239 / 00605DP 00240 / 00605DP 00241 / 00605DP 00242 / 00605DP 00243 / 00605DP 00244 / 00605DP 00245 / 00605DP 00246 / 00605DP 00247 / 00605DP 00248 / 00605DP 00249 / 00605DP 00250 / 00605DP 00251 / 00605DP 00252 / 00605DP 00253 / 00605DP 00254 / 00605DP 00255 / 00605DP 00256 / 00605DP 00257 / 00605DP 00258 / 00605DP 00259 / 00605DP 00260 / 00605DP 00261 / 00605DP 00262 / 00605DP 00263 / 00605DP 00264 / 00605DP 00265 / 00605DP 00266 / 00605DP 00267 / 00605DP 00268 / 00605DP 00269 / 00605DP 00270 / 00605DP 00271 / 00605DP 00272 / 00605DP 00273 / 00605DP 00274 / 00605DP 00275 / 00605DP 00276 / 00605DP 00277 / 00605DP 00278 / 00605DP 00279 / 00605DP 00280 / 00605DP 00281 / 00605DP 00282 / 00605DP 00283 / 00605DP 00284 / 00605DP 00285 / 00605DP 00286 / 00605DP 00287 / 00605DP 00288 / 00605DP 00289 / 00605DP 00290 / 00605DP 00291 / 00605DP 00292 / 00605DP 00293 / 00605DP 00294 / 00605DP 00295 / 00605DP 00296 / 00605DP 00297 / 00605DP 00298 / 00605DP 00299 / 00605DP 00300 / 00605DP 00301 / 00605DP 00302 / 00605DP 00303 / 00605DP 00304 / 00605DP 00305 / 00605DP 00306 / 00605DP 00307 / 00605DP 00308 / 00605DP 00309 / 00605DP 00310 / 00605DP 00311 / 00605DP 00312 / 00605DP 00313 / 00605DP 00314 / 00605DP 00315 / 00605DP 00316 / 00605DP 00317 / 00605DP 00318 / 00605DP 00319 / 00605DP 00320 / 00605DP 00321 / 00605DP 00322 / 00605DP 00323 / 00605DP 00324 / 00605DP 00325 / 00605DP 00326 / 00605DP 00327 / 00605DP 00328 / 00605DP 00329 / 00605DP 00330 / 00605DP 00331 / 00605DP 00332 / 00605DP 00333 / 00605DP 00334 / 00605DP 00335 / 00605DP 00336 / 00605DP 00337 / 00605DP 00338 / 00605DP 00339 / 00605DP 00340 / 00605DP 00341 / 00605DP 00342 / 00605DP 00343 / 00605DP 00344 / 00605DP 00345 / 00605DP 00346 / 00605DP 00347 / 00605DP 00348 / 00605DP 00349 / 00605DP 00350 / 00605DP 00351 / 00605DP 00352 / 00605DP 00353 / 00605DP 00354 / 00605DP 00355 / 00605DP 00356 / 00605DP 00357 / 00605DP 00358 / 00605DP 00359 / 00605DP 00360 / 00605DP 00361 / 00605DP 00362 / 00605DP 00363 / 00605DP 00364 / 00605DP 00365 / 00605DP 00366 / 00605DP 00367 / 00605DP 00368 / 00605DP 00369 / 00605DP 00370 / 00605DP 00371 / 00605DP 00372 / 00605DP 00373 / 00605DP 00374 / 00605DP 00375 / 00605DP 00376 / 00605DP 00377 / 00605DP 00378 / 00605DP 00379 / 00605DP 00380 / 00605DP 00381 / 00605DP 00382 / 00605DP 00383 / 00605DP 00384 / 00605DP 00385 / 00605DP 00386 / 00605DP 00387 / 00605DP 00388 / 00605DP 00389 / 00605DP 00390 / 00605DP 00391 / 00605DP 00392 / 00605DP 00393 / 00605DP 00394 / 00605DP 00395 / 00605DP 00396 / 00605DP 00397 / 00605DP 00398 / 00605DP 00399 / 00605DP 00400 / 00605DP 00401 / 00605DP 00402 / 00605DP 00403 / 00605DP 00404 / 00605DP 00405 / 00605DP 00406 / 00605DP 00407 / 00605DP 00408 / 00605DP 00409 / 00605DP 00410 / 00605DP 00411 / 00605DP 00412 / 00605DP 00413 / 00605DP 00414 / 00605DP 00415 / 00605DP 00416 / 00605DP 00417 / 00605DP 00418 / 00605DP 00419 / 00605DP 00420 / 00605DP 00421 / 00605DP 00422 / 00605DP 00423 / 00605DP 00424 / 00605DP 00425 / 00605DP 00426 / 00605DP 00427 / 00605DP 00428 / 00605DP 00429 / 00605DP 00430 / 00605DP 00431 / 00605DP 00432 / 00605DP 00433 / 00605DP 00434 / 00605DP 00435 / 00605DP 00436 / 00605DP 00437 / 00605DP 00438 / 00605DP 00439 / 00605DP 00440 / 00605DP 00441 / 00605DP 00442 / 00605DP 00443 / 00605DP 00444 / 00605DP 00445 / 00605DP 00446 / 00605DP 00447 / 00605DP 00448 / 00605DP 00449 / 00605DP 00450 / 00605DP 00451 / 00605DP 00452 / 00605DP 00453 / 00605DP 00454 / 00605DP 00455 / 00605DP 00456 / 00605DP 00457 / 00605DP 00458 / 00605DP 00459 / 00605DP 00460 / 00605DP 00461 / 00605DP 00462 / 00605DP 00463 / 00605DP 00464 / 00605DP 00465 / 00605DP 00466 / 00605DP 00467 / 00605DP 00468 / 00605DP 00469 / 00605DP 00470 / 00605DP 00471 / 00605DP 00472 / 00605DP 00473 / 00605DP 00474 / 00605DP 00475 / 00605DP 00476 / 00605DP 00477 / 00605DP 00478 / 00605DP 00479 / 00605DP 00480 / 00605DP 00481 / 00605DP 00482 / 00605DP 00483 / 00605DP 00484 / 00605DP 00485 / 00605DP 00486 / 00605DP 00487 / 00605DP 00488 / 00605DP 00489 / 00605DP 00490 / 00605DP 00491 / 00605DP 00492 / 00605DP 00493 / 00605DP 00494 / 00605DP 00495 / 00605DP 00496 / 00605DP 00497 / 00605DP 00498 / 00605DP 00499 / 00605DP 00500 / 00605DP 00501 / 00605DP 00502 / 00605DP 00503 / 00605DP 00504 / 00605DP 00505 / 00605DP 00506 / 00605DP 00507 / 00605DP 00508 / 00605DP 00509 / 00605DP 00510 / 00605DP 00511 / 00605DP 00512 / 00605DP 00513 / 00605DP 00514 / 00605DP 00515 / 00605DP 00516 / 00605DP 00517 / 00605DP 00518 / 00605DP 00519 / 00605DP 00520 / 00605DP 00521 / 00605DP 00522 / 00605DP 00523 / 00605DP 00524 / 00605DP 00525 / 00605DP 00526 / 00605DP 00527 / 00605DP 00528 / 00605DP 00529 / 00605DP 00530 / 00605DP 00531 / 00605DP 00532 / 00605DP 00533 / 00605DP 00534 / 00605DP 00535 / 00605DP 00536 / 00605DP 00537 / 00605DP 00538 / 00605DP 00539 / 00605DP 00540 / 00605DP 00541 / 00605DP 00542 / 00605DP 00543 / 00605DP 00544 / 00605DP 00545 / 00605DP 00546 / 00605DP 00547 / 00605DP 00548 / 00605DP 00549 / 00605DP 00550 / 00605DP 00551 / 00605DP 00552 / 00605DP 00553 / 00605DP 00554 / 00605DP 00555 / 00605DP 00556 / 00605DP 00557 / 00605DP 00558 / 00605DP 00559 / 00605DP 00560 / 00605DP 00561 / 00605DP 00562 / 00605DP 00563 / 00605DP 00564 / 00605DP 00565 / 00605DP 00566 / 00605DP 00567 / 00605DP 00568 / 00605DP 00569 / 00605DP 00570 / 00605DP 00571 / 00605DP 00572 / 00605DP 00573 / 00605DP 00574 / 00605DP 00575 / 00605STEP    23 / 29 mDP 00001 / 00001P 00578 / 00605DP 00579 / 00605DP 00580 / 00605DP 00581 / 00605DP 00582 / 00605DP 00583 / 00605DP 00584 / 00605DP 00585 / 00605DP 00586 / 00605DP 00587 / 00605DP 00588 / 00605DP 00589 / 00605DP 00590 / 00605DP 00591 / 00605DP 00592 / 00605DP 00593 / 00605DP 00594 / 00605DP 00595 / 00605DP 00596 / 00605DP 00597 / 00605DP 00598 / 00605DP 00599 / 00605DP 00600 / 00605DP 00601 / 00605DP 00602 / 00605DP 00603 / 00605DP 00604 / 00605DP 00605 / 00605DP 00001 / 00117DP 00002 / 00117DP 00003 / 00117DP 00004 / 00117DP 00005 / 00117DP 00006 / 00117DP 00007 / 00117DP 00008 / 00117DP 00009 / 00117DP 00010 / 00117DP 00011 / 00117DP 00012 / 00117DP 00013 / 00117DP 00014 / 00117DP 00015 / 00117DP 00016 / 00117DP 00017 / 00117DP 00018 / 00117DP 00019 / 00117DP 00020 / 00117DP 00021 / 00117DP 00022 / 00117DP 00023 / 00117DP 00024 / 00117DP 00025 / 00117DP 00026 / 00117DP 00027 / 00117DP 00028 / 00117DP 00029 / 00117DP 00030 / 00117DP 00031 / 00117DP 00032 / 00117DP 00033 / 00117DP 00034 / 00117DP 00035 / 00117DP 00036 / 00117DP 00037 / 00117DP 00038 / 00117DP 00039 / 00117DP 00040 / 00117DP 00041 / 00117DP 00042 / 00117DP 00043 / 00117DP 00044 / 00117DP 00045 / 00117DP 00046 / 00117DP 00047 / 00117DP 00048 / 00117DP 00049 / 00117DP 00050 / 00117DP 00051 / 00117DP 00052 / 00117DP 00053 / 00117DP 00054 / 00117DP 00055 / 00117DP 00056 / 00117DP 00057 / 00117DP 00058 / 00117DP 00059 / 00117DP 00060 / 00117DP 00061 / 00117DP 00062 / 00117DP 00063 / 00117DP 00064 / 00117DP 00065 / 00117DP 00066 / 00117DP 00067 / 00117DP 00068 / 00117DP 00069 / 00117DP 00070 / 00117DP 00071 / 00117DP 00072 / 00117DP 00073 / 00117DP 00074 / 00117DP 00075 / 00117DP 00076 / 00117DP 00077 / 00117DP 00078 / 00117DP 00079 / 00117DP 00080 / 00117DP 00081 / 00117DP 00082 / 00117DP 00083 / 00117DP 00084 / 00117DP 00085 / 00117DP 00086 / 00117DP 00087 / 00117DP 00088 / 00117DP 00089 / 00117DP 00090 / 00117DP 00091 / 00117DP 00092 / 00117DP 00093 / 00117DP 00094 / 00117DP 00095 / 00117DP 00096 / 00117DP 00097 / 00117DP 00098 / 00117DP 00099 / 00117DP 00100 / 00117DP 00101 / 00117DP 00102 / 00117DP 00103 / 00117DP 00104 / 00117DP 00105 / 00117DP 00106 / 00117DP 00107 / 00117DP 00108 / 00117DP 00109 / 00117DP 00110 / 00117DP 00111 / 00117DP 00112 / 00117DP 00113 / 00117DP 00114 / 00117DP 00115 / 00117DP 00116 / 00117DP 00117 / 00117DP 00001 / 00001DP 00001 / 00001DP 00001 / 00001DP 00001 / 00016DP 00002 / 00016DP 00003 / 00016DP 00004 / 00016DP 00005 / 00016DP 00006 / 00016DP 00007 / 00016DP 00008 / 00016DP 00009 / 00016DP 00010 / 00016DP 00011 / 00016DP 00012 / 00016DP 00013 / 00016DP 00014 / 00016DP 00015 / 00016DP 00016 / 00016DP 00001 / 00001DP 00001 / 00001DP 00001 / 00001DP 00001 / 00001DP 00001 / 00001DP 00001 / 00001DP 00001 / 00001DP 00001 / 00001DP 00001 / 00001\n",
      "Reallocating..done. *alloclen = 408424\n",
      "STEP    29 / 29 mDP 00001 / 00001DP 00001 / 00001DP 00001 / 00001DP 00001 / 00001DP 00001 / 00001DP 00001 / 00001\n",
      "done.\n",
      "\n",
      "disttbfast (nuc) Version 7.520\n",
      "alg=M, model=DNA200 (2), 1.53 (4.59), -0.00 (-0.00), noshift, amax=0.0\n",
      "0 thread(s)\n",
      "\n",
      "\n",
      "Strategy:\n",
      " FFT-NS-2 (Fast but rough)\n",
      " Progressive method (guide trees were built 2 times.)\n",
      "\n",
      "If unsure which option to use, try 'mafft --auto input > output'.\n",
      "For more information, see 'mafft --help', 'mafft --man' and the mafft page.\n",
      "\n",
      "The default gap scoring scheme has been changed in version 7.110 (2013 Oct).\n",
      "It tends to insert more gaps into gap-rich regions than previous versions.\n",
      "To disable this change, add the --leavegappyregion option.\n",
      "\n"
     ]
    }
   ],
   "source": [
    "align_sequences('phages.fasta', 'aligned_phages.fasta')"
   ]
  },
  {
   "cell_type": "code",
   "execution_count": null,
   "id": "074bec6f",
   "metadata": {},
   "outputs": [],
   "source": [
    "alignment = AlignIO.read('aligned_phages.fasta', 'fasta')"
   ]
  },
  {
   "cell_type": "code",
   "execution_count": 11,
   "id": "594152d7",
   "metadata": {},
   "outputs": [],
   "source": [
    "accn = ['NC_070951.1',\n",
    " 'NC_071021.1',\n",
    " 'NC_048804.1',\n",
    " 'NC_048802.1',\n",
    " 'NC_048755.1',\n",
    " 'NC_029000.1']"
   ]
  },
  {
   "cell_type": "code",
   "execution_count": 16,
   "id": "b3fd773f",
   "metadata": {},
   "outputs": [
    {
     "data": {
      "text/plain": [
       "['Stenotrophomonas maltophilia phage vB_SmaM_Ps15',\n",
       " 'Stenotrophomonas phage BUCT627',\n",
       " 'Stenotrophomonas phage Mendera',\n",
       " 'Stenotrophomonas phage Moby',\n",
       " 'Stenotrophomonas phage YB07',\n",
       " 'Stenotrophomonas phage IME13']"
      ]
     },
     "execution_count": 16,
     "metadata": {},
     "output_type": "execute_result"
    }
   ],
   "source": [
    "phage_accns = [record['phage'] for record in phageinfo if record['acc'] in accn]\n",
    "phage_accns"
   ]
  }
 ],
 "metadata": {
  "kernelspec": {
   "display_name": "Python 3 (ipykernel)",
   "language": "python",
   "name": "python3"
  },
  "language_info": {
   "codemirror_mode": {
    "name": "ipython",
    "version": 3
   },
   "file_extension": ".py",
   "mimetype": "text/x-python",
   "name": "python",
   "nbconvert_exporter": "python",
   "pygments_lexer": "ipython3",
   "version": "3.11.3"
  }
 },
 "nbformat": 4,
 "nbformat_minor": 5
}
