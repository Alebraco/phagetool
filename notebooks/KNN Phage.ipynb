{
 "cells": [
  {
   "cell_type": "code",
   "execution_count": 1,
   "id": "96debca2",
   "metadata": {},
   "outputs": [],
   "source": [
    "import json\n",
    "from Bio import Entrez, SeqIO, AlignIO\n",
    "from sklearn.neighbors import NearestNeighbors\n",
    "from Bio.Phylo.TreeConstruction import DistanceCalculator\n",
    "import heapq\n",
    "import numpy as np\n",
    "import pandas as pd\n",
    "import json\n",
    "import subprocess\n",
    "import random\n",
    "import platform\n",
    "import os"
   ]
  },
  {
   "cell_type": "code",
   "execution_count": 2,
   "id": "a734b72e",
   "metadata": {},
   "outputs": [],
   "source": [
    "Entrez.email = 'alekey039@hotmail.com'"
   ]
  },
  {
   "cell_type": "code",
   "execution_count": 3,
   "id": "99202d3c",
   "metadata": {},
   "outputs": [],
   "source": [
    "with open('receptor_data.json', 'r') as file: #use read_data() function\n",
    "        receptor_data = json.load(file)"
   ]
  },
  {
   "cell_type": "code",
   "execution_count": 4,
   "id": "a340a2a0-e2ca-4670-9fcc-0c6a042fa64d",
   "metadata": {},
   "outputs": [],
   "source": [
    "with open('phagedicts.json', 'r') as f: #use read_data() function\n",
    "    phageinfo = json.load(f)"
   ]
  },
  {
   "cell_type": "code",
   "execution_count": 5,
   "id": "a9220e1f",
   "metadata": {},
   "outputs": [],
   "source": [
    "labels = sorted(set(receptor_data.keys())) \n",
    "proteins = set()\n",
    "for ls in receptor_data.values():\n",
    "    proteins.update(ls)\n",
    "proteins = sorted(proteins)\n",
    "\n",
    "df = pd.DataFrame(index = labels, columns = proteins)"
   ]
  },
  {
   "cell_type": "code",
   "execution_count": 6,
   "id": "c041db4c",
   "metadata": {},
   "outputs": [],
   "source": [
    "for sp in df.index:\n",
    "    df.loc[sp] = df.columns.isin(receptor_data.get(sp, False)).astype(int)"
   ]
  },
  {
   "cell_type": "code",
   "execution_count": 7,
   "id": "b1dca091-acb8-430a-8f21-85dc1cd22e86",
   "metadata": {},
   "outputs": [],
   "source": [
    "# Check membership in current dataframe with pathogenic species info\n",
    "\n",
    "def membership(target, df):\n",
    "    if target in df.index:\n",
    "        return True\n",
    "    else:\n",
    "        return False\n",
    "        \n",
    "def produce_array(target, df):\n",
    "    if membership(target, df):\n",
    "        return None\n",
    "    else:\n",
    "        targetdict = {}\n",
    "        targetdict[target] = receptors(target)\n",
    "        target_conf = df.columns.isin(targetdict.get('E. coli', False)).astype(int)\n",
    "        target_features = target_conf.reshape(1, -1)\n",
    "        return target_features "
   ]
  },
  {
   "cell_type": "code",
   "execution_count": 8,
   "id": "4b8d6030-6f97-47cb-b48d-06416ae17165",
   "metadata": {},
   "outputs": [],
   "source": [
    "def remove_ifmember(target_features, target, df): # receive here the df and array for kNN\n",
    "\n",
    "    if target_features is None:\n",
    "        target_row = df.loc[target]\n",
    "        target_features = target_row.values.reshape(1, -1)\n",
    "        features_data = df.drop(target, axis = 0).values\n",
    "\n",
    "    else:\n",
    "        pass\n",
    "        \n",
    "    return target_features, features_data\n",
    "    "
   ]
  },
  {
   "cell_type": "code",
   "execution_count": 9,
   "id": "23c86b84-efe6-4335-87fe-e1c352e2b201",
   "metadata": {},
   "outputs": [],
   "source": [
    "def nearest_bacteria(target_features, features_data, neighbors = 1):\n",
    "    nn_model = NearestNeighbors(n_neighbors = neighbors, metric = 'hamming')\n",
    "    nn_model.fit(features_data)\n",
    "\n",
    "    distances, indices = nn_model.kneighbors(target_features)\n",
    "\n",
    "    return distances, indices\n",
    "    \n",
    "def nearest_names(indices, df):\n",
    "    similar = list(df.index[indices[0]].values)\n",
    "    \n",
    "    return similar"
   ]
  },
  {
   "cell_type": "code",
   "execution_count": 10,
   "id": "dafa7526",
   "metadata": {
    "scrolled": true
   },
   "outputs": [],
   "source": [
    "def nearest_phages(similar, phageinfo):\n",
    "    similar_phages = {host:[record['acc'] for record in phageinfo if record['host'] == host] for host in similar}\n",
    "\n",
    "    return similar_phages"
   ]
  },
  {
   "cell_type": "code",
   "execution_count": 11,
   "id": "1cbea87c",
   "metadata": {},
   "outputs": [],
   "source": [
    "# Retrieve genomes\n",
    "# One neighbor at a time / multiples fasta files\n",
    "\n",
    "def phage_genomes(similar_phages):\n",
    "        \n",
    "        filename_ls = []\n",
    "        for bact, phages in similar_phages.items():\n",
    "            if len(phages) > 2:\n",
    "                filename = f'{\"_\".join(bact.split())}_phages.fasta'\n",
    "                filename_ls.append(filename)\n",
    "                seqs = []\n",
    "                \n",
    "                handle = Entrez.efetch(db='nucleotide', id = phages, rettype = 'fasta', retmode = 'text')\n",
    "                for record in SeqIO.parse(handle, 'fasta'):\n",
    "                    seqs.append(record)\n",
    "                handle.close()\n",
    "            \n",
    "            with open(filename, 'w') as file: \n",
    "                SeqIO.write(seqs, file, 'fasta')\n",
    "            \n",
    "        return filename_ls"
   ]
  },
  {
   "cell_type": "code",
   "execution_count": 102,
   "id": "bac031c3",
   "metadata": {},
   "outputs": [],
   "source": [
    "# Alignment function\n",
    "\n",
    "def align_sequences(input_file, output_file):\n",
    "    print(f'Running alignment: {input_file}')\n",
    "    \n",
    "    if platform.system() == 'Windows':\n",
    "        \n",
    "        mafft_command = f'wsl.exe mafft --auto --quiet {input_file} > {output_file}'\n",
    "\n",
    "        result = subprocess.run(mafft_command, shell=True, capture_output = True)\n",
    "\n",
    "        if result.returncode == 0:\n",
    "            print('- Alignment generated successfully')\n",
    "        else:\n",
    "            print('Error generating the alignment')\n",
    "            print(result.stderr)\n",
    "    else:\n",
    "        mafft_command = f'mafft --auto --quiet {input_file} > {output_file}'\n",
    "\n",
    "        result = subprocess.run(mafft_command, shell=True, capture_output = True)\n",
    "\n",
    "        if result.returncode == 0:\n",
    "            print('- Alignment generated successfully')\n",
    "        else:\n",
    "            print('Error generating the alignment')\n",
    "            print(result.stderr)"
   ]
  },
  {
   "cell_type": "code",
   "execution_count": 13,
   "id": "68e7ef39-36c4-49b8-8ec5-90c26bf0cae6",
   "metadata": {},
   "outputs": [],
   "source": [
    "def distance_matrix(input_file):\n",
    "    calculator = DistanceCalculator('identity')\n",
    "    alignment = AlignIO.read(input_file, 'fasta')\n",
    "    matrix = calculator.get_distance(alignment)\n",
    "    \n",
    "    return matrix"
   ]
  },
  {
   "cell_type": "code",
   "execution_count": 14,
   "id": "70d9c571-4a2e-430f-9a81-cdff084cbc16",
   "metadata": {},
   "outputs": [],
   "source": [
    "def top_distances(matrix, k = 1):\n",
    "    array = np.array(matrix)\n",
    "\n",
    "    minheap = [] # Initialize heap structure\n",
    "\n",
    "    for i in range(len(array)):\n",
    "        for j in range(i):\n",
    "            d = array[i,j] # Distance between two samples\n",
    "            if len(minheap) < k: # If heap is less than k, add the element\n",
    "                heapq.heappush(minheap, (d, i, j)) \n",
    "            elif d > minheap[0][0]: # If distance is greater than root\n",
    "                # push new element and pop current\n",
    "                heapq.heappushpop(minheap, (d, i, j))\n",
    "    return minheap"
   ]
  },
  {
   "cell_type": "code",
   "execution_count": 97,
   "id": "d860e31a-5b11-4319-ac54-01dcfc170f14",
   "metadata": {},
   "outputs": [],
   "source": [
    "def most_diverse_phages(filename_ls, k = 1): #time consuming, genome alignment\n",
    "    sorted_distances_list = []\n",
    "    phage_matrix_list = []\n",
    "    \n",
    "    for file in filename_ls:\n",
    "        aligned_file = f'aligned{file}'\n",
    "        align_sequences(file, aligned_file)\n",
    "        phage_matrix = distance_matrix(aligned_file)\n",
    "        sorted_distances = top_distances(phage_matrix, k)\n",
    "        \n",
    "        phage_matrix_list.append(phage_matrix)\n",
    "        sorted_distances_list.append(sorted_distances)\n",
    "        \n",
    "    return sorted_distances_list, phage_matrix_list "
   ]
  },
  {
   "cell_type": "code",
   "execution_count": 98,
   "id": "128cb9e8",
   "metadata": {},
   "outputs": [],
   "source": [
    "def indices_to_accn(sorted_distances_list, matrices_list):\n",
    "    diverse_accn = []\n",
    "    for sorted_distances, matrix in zip(sorted_distances_list, matrices_list):\n",
    "        unique_indices = set()\n",
    "        \n",
    "        for _, i, j in sorted_distances: \n",
    "            unique_indices.update([i, j])\n",
    "\n",
    "        diverse_accn.extend(matrix.names[ind] for ind in unique_indices)\n",
    "    return diverse_accn"
   ]
  },
  {
   "cell_type": "code",
   "execution_count": 16,
   "id": "24d9bf87-47e2-43b6-9128-701636bbf18e",
   "metadata": {},
   "outputs": [],
   "source": [
    "def accession_cocktail(diverse_accn, similar_phages):\n",
    "    candidate_accs = []\n",
    "    accn_set = set(diverse_accn)\n",
    "    \n",
    "    for bact, accns in similar_phages.items(): \n",
    "        if len(accns) > 2:\n",
    "            candidate_accs.extend([accn for accn in accns if accn in accn_set])\n",
    "        else:\n",
    "            candidate_accs.extend(accns)\n",
    "    return candidate_accs"
   ]
  },
  {
   "cell_type": "code",
   "execution_count": 17,
   "id": "e6f4a071-0d82-42f5-955b-583ef4a5e3b3",
   "metadata": {},
   "outputs": [],
   "source": [
    "def final_cocktail(candidate_accs):\n",
    "    \n",
    "    return [rec['phage'] for rec in phageinfo if rec['acc'] in candidate_accs]"
   ]
  },
  {
   "cell_type": "code",
   "execution_count": 18,
   "id": "3c8cb6b6-85c7-4dd5-95cc-e3566a92765a",
   "metadata": {},
   "outputs": [],
   "source": [
    "def alignment_choice():\n",
    "    valid = False\n",
    "    while not valid:\n",
    "        choice = int(input('How would you like to select phages?\\n'\n",
    "                       '1. Choose phages randomly\\n'\n",
    "                       '2. Align phage genomes for maximum diversity\\n'\n",
    "                       'Enter your choice (1 or 2): '))\n",
    "        if choice == 1 or choice == 2:\n",
    "            valid = True\n",
    "        else: \n",
    "            print('Invalid choice. Please try again.')\n",
    "    return int(choice)"
   ]
  },
  {
   "cell_type": "code",
   "execution_count": 19,
   "id": "4ece50f2-eb5d-45d8-842d-a6b48a1740a0",
   "metadata": {},
   "outputs": [],
   "source": [
    "def random_cocktail(similar_phages):\n",
    "    random_accs = []\n",
    "    phagelist = similar_phages.values()\n",
    "    minrand = len(min(phagelist,key = len))\n",
    "    valid = False\n",
    "    while not valid:\n",
    "        try:\n",
    "            selection_str = input(f'Choose up to {minrand} phages for each species\\n')\n",
    "            selection = int(selection_str)\n",
    "            if selection <= minrand:\n",
    "                valid = True\n",
    "            else:\n",
    "                print('Invalid choice. Please choose a valid number.')\n",
    "        except ValueError:\n",
    "            print('Invalid choice. Please enter an integer.')\n",
    "            \n",
    "    for phages in phagelist:\n",
    "        random_phages = random.sample(phages, selection)\n",
    "        random_accs.extend(random_phages)\n",
    "        \n",
    "    return random_accs"
   ]
  },
  {
   "cell_type": "code",
   "execution_count": 20,
   "id": "495289a7",
   "metadata": {
    "scrolled": false
   },
   "outputs": [
    {
     "name": "stdout",
     "output_type": "stream",
     "text": [
      "How would you like to select phages?\n",
      "1. Choose phages randomly\n",
      "2. Align phage genomes for maximum diversity\n",
      "Enter your choice (1 or 2): 2\n",
      "Running alignment: Escherichia_phages.fasta\n",
      "Alignment generated successfully\n",
      "b''\n",
      "Running alignment: Shigella_flexneri_phages.fasta\n",
      "Alignment generated successfully\n",
      "b''\n"
     ]
    },
    {
     "ename": "AttributeError",
     "evalue": "'list' object has no attribute 'names'",
     "output_type": "error",
     "traceback": [
      "\u001b[1;31m---------------------------------------------------------------------------\u001b[0m",
      "\u001b[1;31mAttributeError\u001b[0m                            Traceback (most recent call last)",
      "Cell \u001b[1;32mIn[20], line 18\u001b[0m\n\u001b[0;32m     16\u001b[0m filename_ls \u001b[38;5;241m=\u001b[39m phage_genomes(similar_phages)\n\u001b[0;32m     17\u001b[0m phage_distances, phage_matrix \u001b[38;5;241m=\u001b[39m most_diverse_phages(filename_ls)\n\u001b[1;32m---> 18\u001b[0m diverse_accn \u001b[38;5;241m=\u001b[39m indices_to_accn(phage_distances, phage_matrix)\n\u001b[0;32m     19\u001b[0m candidate_accs \u001b[38;5;241m=\u001b[39m accession_cocktail(diverse_accn, similar_phages)\n\u001b[0;32m     20\u001b[0m product \u001b[38;5;241m=\u001b[39m final_cocktail(candidate_accs)\n",
      "Cell \u001b[1;32mIn[15], line 24\u001b[0m, in \u001b[0;36mindices_to_accn\u001b[1;34m(sorted_distances_list, phage_matrix_list)\u001b[0m\n\u001b[0;32m     21\u001b[0m     \u001b[38;5;28;01mfor\u001b[39;00m _, i, j \u001b[38;5;129;01min\u001b[39;00m sorted_distances: \n\u001b[0;32m     22\u001b[0m         unique_indices\u001b[38;5;241m.\u001b[39mupdate([i, j])\n\u001b[1;32m---> 24\u001b[0m     diverse_accn\u001b[38;5;241m.\u001b[39mextend(phage_matrix\u001b[38;5;241m.\u001b[39mnames[ind] \u001b[38;5;28;01mfor\u001b[39;00m ind \u001b[38;5;129;01min\u001b[39;00m unique_indices)\n\u001b[0;32m     25\u001b[0m \u001b[38;5;28;01mreturn\u001b[39;00m diverse_accn\n",
      "Cell \u001b[1;32mIn[15], line 24\u001b[0m, in \u001b[0;36m<genexpr>\u001b[1;34m(.0)\u001b[0m\n\u001b[0;32m     21\u001b[0m     \u001b[38;5;28;01mfor\u001b[39;00m _, i, j \u001b[38;5;129;01min\u001b[39;00m sorted_distances: \n\u001b[0;32m     22\u001b[0m         unique_indices\u001b[38;5;241m.\u001b[39mupdate([i, j])\n\u001b[1;32m---> 24\u001b[0m     diverse_accn\u001b[38;5;241m.\u001b[39mextend(phage_matrix\u001b[38;5;241m.\u001b[39mnames[ind] \u001b[38;5;28;01mfor\u001b[39;00m ind \u001b[38;5;129;01min\u001b[39;00m unique_indices)\n\u001b[0;32m     25\u001b[0m \u001b[38;5;28;01mreturn\u001b[39;00m diverse_accn\n",
      "\u001b[1;31mAttributeError\u001b[0m: 'list' object has no attribute 'names'"
     ]
    }
   ],
   "source": [
    "# Implementation of the functions\n",
    "target = 'Escherichia coli'\n",
    "target_features = produce_array(target, df)\n",
    "target_features, features_data = remove_ifmember(target_features, target, df)\n",
    "distances, indices = nearest_bacteria(target_features, features_data, neighbors = 3)\n",
    "similar = nearest_names(indices, df)\n",
    "similar_phages = nearest_phages(similar, phageinfo)\n",
    "\n",
    "choice = alignment_choice()\n",
    "\n",
    "if choice == 1:\n",
    "    random_accs = random_cocktail(similar_phages)\n",
    "    product = final_cocktail(random_accs)\n",
    "    \n",
    "else:\n",
    "    filename_ls = phage_genomes(similar_phages)\n",
    "    phage_distances, phage_matrix = most_diverse_phages(filename_ls, k = 1)\n",
    "    diverse_accn = indices_to_accn(phage_distances, phage_matrix)\n",
    "    candidate_accs = accession_cocktail(diverse_accn, similar_phages)\n",
    "    product = final_cocktail(candidate_accs)\n",
    "\n",
    "print(product)"
   ]
  }
 ],
 "metadata": {
  "kernelspec": {
   "display_name": "Python 3 (ipykernel)",
   "language": "python",
   "name": "python3"
  },
  "language_info": {
   "codemirror_mode": {
    "name": "ipython",
    "version": 3
   },
   "file_extension": ".py",
   "mimetype": "text/x-python",
   "name": "python",
   "nbconvert_exporter": "python",
   "pygments_lexer": "ipython3",
   "version": "3.11.5"
  }
 },
 "nbformat": 4,
 "nbformat_minor": 5
}
