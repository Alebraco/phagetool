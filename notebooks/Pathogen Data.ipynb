{
 "cells": [
  {
   "cell_type": "code",
   "execution_count": 24,
   "id": "07f6053f",
   "metadata": {},
   "outputs": [],
   "source": [
    "def retrieve_pathogenic_list(): \n",
    "    #Download pathogenic bacteria list from Barlett et al.\n",
    "    #Store it in a dataframe\n",
    "    url = 'https://github.com/padpadpadpad/bartlett_et_al_2022_human_pathogens/raw/master/data/bacteria_human_pathogens.xlsx'\n",
    "    bdf = pd.read_excel(url, sheet_name='Tab 6 Full List', usecols=\"F:G\", skiprows=0)\n",
    "    \n",
    "    #Convert dataframe to list\n",
    "    #Combine the genus and species column\n",
    "    pblist = list(bdf['genus'] + ' ' + bdf['species'])\n",
    "    \n",
    "    #Removing random characters\n",
    "    clean_patlist = [species.replace('¬†','') for species in pblist]\n",
    "    return clean_patlist"
   ]
  },
  {
   "cell_type": "code",
   "execution_count": 18,
   "id": "3c9146aa",
   "metadata": {},
   "outputs": [],
   "source": [
    "def select_hosts(phinfo, patlist):\n",
    "  pathost = []\n",
    "  patstring = ' '.join(patlist)\n",
    "\n",
    "  for phage in phinfo:\n",
    "    if phage['host'] in patstring:\n",
    "      pathost.append(phage)\n",
    "\n",
    "  return pathost"
   ]
  },
  {
   "cell_type": "code",
   "execution_count": 19,
   "id": "db7d2589",
   "metadata": {},
   "outputs": [],
   "source": [
    "#Input: IDs of phages\n",
    "#Output: List of bacterial hosts\n",
    "#seq_start and seq_stop parameters retrieve the first feature only (source)\n",
    "#In the source feature, there is information about the host\n",
    "\n",
    "def phageid_to_host(phageids):\n",
    "  phageinfo = []\n",
    "  sleep_time = 1\n",
    "\n",
    "  for id in phageids:\n",
    "    phage_dict = {}\n",
    "    try:\n",
    "      handle = Entrez.efetch(db=\"nucleotide\", id=id, rettype=\"gb\",\n",
    "                            retmode=\"text\", seq_start = 1, seq_stop = 1)\n",
    "      source = SeqIO.read(handle, 'gb')\n",
    "      handle.close()\n",
    "\n",
    "      features = source.features[0]\n",
    "      qual = features.qualifiers\n",
    "\n",
    "      strain = qual.get('host', qual.get('lab_host', None))\n",
    "\n",
    "      if strain != None:\n",
    "        strain = strain[0]\n",
    "        phage_dict['phage'] = qual['organism'][0]\n",
    "        phage_dict['id'] = id\n",
    "        phage_dict['acc'] = source.id\n",
    "        phage_dict['strain'] = strain\n",
    "\n",
    "        split = strain.split(\" \", 2)\n",
    "\n",
    "        if len(split) > 1 and (\"sp.\" in split[1] or \"spp.\" in split[1]):\n",
    "          species = split[0]\n",
    "        elif len(split) > 1:\n",
    "          species = split[0] + \" \" + split[1]\n",
    "        else:\n",
    "          species = split[0]\n",
    "        phage_dict['host'] = species\n",
    "\n",
    "        phageinfo.append(phage_dict)\n",
    "\n",
    "      sleep_time = 1\n",
    "\n",
    "    except Exception as error:\n",
    "      print('Error fetching data, trying again in', sleep_time,'seconds:', error)\n",
    "      time.sleep(sleep_time)\n",
    "      sleep_time *= 2\n",
    "      continue\n",
    "\n",
    "  return phageinfo"
   ]
  },
  {
   "cell_type": "code",
   "execution_count": 30,
   "id": "b49609b2-02e8-4458-ac01-c1d924f8e557",
   "metadata": {},
   "outputs": [],
   "source": [
    "Entrez.email = 'alekey039@hotmail.com'"
   ]
  },
  {
   "cell_type": "code",
   "execution_count": null,
   "id": "0eac56cf-259a-435e-9852-7a2da41bc896",
   "metadata": {},
   "outputs": [
    {
     "name": "stdout",
     "output_type": "stream",
     "text": [
      "Error fetching data, trying again in 1 seconds: Remote end closed connection without response\n"
     ]
    }
   ],
   "source": [
    "query = 'Viruses[ORGN] AND phage[All fields] AND srcdb_refseq[PROP] \\\n",
    "NOT wgs[PROP] NOT cellular organisms[ORGN] NOT AC_000001:AC_999999[PACC]'\n",
    "\n",
    "phageids = retrieve_ids(query, db = 'nucleotide')\n",
    "\n",
    "#Retrieve host information using phage IDs\n",
    "phageinfo = phageid_to_host(phageids)\n",
    "\n",
    "#Create list of dictionaries for phages with pathogen hosts\n",
    "phagedict = select_hosts(phageinfo, clean_patlist)\n",
    "\n",
    "#Create list of unique pathogen hosts\n",
    "uniquepat = sorted(set(clean_patlist))"
   ]
  },
  {
   "cell_type": "code",
   "execution_count": null,
   "id": "81e968ed",
   "metadata": {},
   "outputs": [],
   "source": [
    "store_data(uniquepat, 'uniquepat.json')"
   ]
  },
  {
   "cell_type": "code",
   "execution_count": null,
   "id": "01dbfd6c",
   "metadata": {},
   "outputs": [],
   "source": [
    "store_data(phagedict, 'phagedicts.json')"
   ]
  }
 ],
 "metadata": {
  "kernelspec": {
   "display_name": "Python 3 (ipykernel)",
   "language": "python",
   "name": "python3"
  },
  "language_info": {
   "codemirror_mode": {
    "name": "ipython",
    "version": 3
   },
   "file_extension": ".py",
   "mimetype": "text/x-python",
   "name": "python",
   "nbconvert_exporter": "python",
   "pygments_lexer": "ipython3",
   "version": "3.10.14"
  }
 },
 "nbformat": 4,
 "nbformat_minor": 5
}
