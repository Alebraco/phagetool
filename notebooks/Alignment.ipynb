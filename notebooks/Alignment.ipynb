{
 "cells": [
  {
   "cell_type": "code",
   "execution_count": 1,
   "id": "4774218f",
   "metadata": {},
   "outputs": [],
   "source": [
    "from Bio import Entrez, SeqIO, AlignIO\n",
    "from Bio.Phylo.TreeConstruction import DistanceCalculator\n",
    "import numpy as np\n",
    "import heapq"
   ]
  },
  {
   "cell_type": "code",
   "execution_count": 2,
   "id": "9d439c52",
   "metadata": {},
   "outputs": [],
   "source": [
    "alignment = AlignIO.read('aligned_phages.fasta', 'fasta')"
   ]
  },
  {
   "cell_type": "code",
   "execution_count": 3,
   "id": "8dbd81bc",
   "metadata": {},
   "outputs": [],
   "source": [
    "calculator = DistanceCalculator('identity')"
   ]
  },
  {
   "cell_type": "code",
   "execution_count": 4,
   "id": "c55052ab",
   "metadata": {},
   "outputs": [],
   "source": [
    "distance_matrix = calculator.get_distance(alignment)"
   ]
  },
  {
   "cell_type": "code",
   "execution_count": 8,
   "id": "cc93f6fa",
   "metadata": {},
   "outputs": [],
   "source": [
    "def top_distances(matrix, k = 1):\n",
    "    array = np.array(matrix)\n",
    "\n",
    "    minheap = [] # Initialize heap structure\n",
    "\n",
    "    for i in range(len(array)):\n",
    "        for j in range(i):\n",
    "            d = array[i,j] # Distance between two samples\n",
    "            if len(minheap) < k: # If heap is less than k, add the element\n",
    "                heapq.heappush(minheap, (d, i, j)) \n",
    "            elif d > minheap[0][0]: # If distance is greater than root\n",
    "                # push new element and pop current\n",
    "                heapq.heappushpop(minheap, (d, i, j))\n",
    "    return minheap"
   ]
  },
  {
   "cell_type": "code",
   "execution_count": 9,
   "id": "2e7b1ba9",
   "metadata": {},
   "outputs": [
    {
     "data": {
      "text/plain": [
       "[(0.5515128080537097, 6, 0),\n",
       " (0.6397764835510782, 22, 19),\n",
       " (0.6692045524538219, 22, 18),\n",
       " (0.680633593167213, 22, 0),\n",
       " (0.6730678419644263, 22, 17)]"
      ]
     },
     "execution_count": 9,
     "metadata": {},
     "output_type": "execute_result"
    }
   ],
   "source": [
    "heap = top_distances(distance_matrix)\n",
    "heap"
   ]
  },
  {
   "cell_type": "code",
   "execution_count": 10,
   "id": "7dcc50b1",
   "metadata": {},
   "outputs": [],
   "source": [
    "unique_indices = set()\n",
    "for _, i, j in heap: \n",
    "    unique_indices.update([i, j])"
   ]
  },
  {
   "cell_type": "code",
   "execution_count": 13,
   "id": "ac6154b7",
   "metadata": {},
   "outputs": [
    {
     "data": {
      "text/plain": [
       "{0, 6, 17, 18, 19, 22}"
      ]
     },
     "execution_count": 13,
     "metadata": {},
     "output_type": "execute_result"
    }
   ],
   "source": [
    "unique_indices"
   ]
  },
  {
   "cell_type": "code",
   "execution_count": 11,
   "id": "f69214ac",
   "metadata": {},
   "outputs": [],
   "source": [
    "accn = []\n",
    "for ind in unique_indices:\n",
    "    accn.append(distance_matrix.names[ind])"
   ]
  },
  {
   "cell_type": "code",
   "execution_count": 12,
   "id": "9245994e",
   "metadata": {},
   "outputs": [
    {
     "data": {
      "text/plain": [
       "['NC_070951.1',\n",
       " 'NC_071021.1',\n",
       " 'NC_048804.1',\n",
       " 'NC_048802.1',\n",
       " 'NC_048755.1',\n",
       " 'NC_029000.1']"
      ]
     },
     "execution_count": 12,
     "metadata": {},
     "output_type": "execute_result"
    }
   ],
   "source": [
    "accn"
   ]
  },
  {
   "cell_type": "code",
   "execution_count": null,
   "id": "57ccab6e",
   "metadata": {},
   "outputs": [],
   "source": []
  }
 ],
 "metadata": {
  "kernelspec": {
   "display_name": "Python 3 (ipykernel)",
   "language": "python",
   "name": "python3"
  },
  "language_info": {
   "codemirror_mode": {
    "name": "ipython",
    "version": 3
   },
   "file_extension": ".py",
   "mimetype": "text/x-python",
   "name": "python",
   "nbconvert_exporter": "python",
   "pygments_lexer": "ipython3",
   "version": "3.10.14"
  }
 },
 "nbformat": 4,
 "nbformat_minor": 5
}
